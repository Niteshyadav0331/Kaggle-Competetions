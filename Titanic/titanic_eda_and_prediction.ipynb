{
 "cells": [
  {
   "cell_type": "markdown",
   "id": "applied-prison",
   "metadata": {
    "papermill": {
     "duration": 0.10192,
     "end_time": "2021-05-19T14:07:56.863062",
     "exception": false,
     "start_time": "2021-05-19T14:07:56.761142",
     "status": "completed"
    },
    "tags": []
   },
   "source": [
    "<p style = \"font-size : 50px; color : #532e1c ; font-family : 'Comic Sans MS'; text-align : center; background-color : #bedcfa; border-radius: 5px 5px;\"><strong>Titanic EDA and Prediction</strong></p>"
   ]
  },
  {
   "cell_type": "markdown",
   "id": "visible-screening",
   "metadata": {
    "papermill": {
     "duration": 0.098674,
     "end_time": "2021-05-19T14:07:57.060117",
     "exception": false,
     "start_time": "2021-05-19T14:07:56.961443",
     "status": "completed"
    },
    "tags": []
   },
   "source": [
    "<img style=\"float: center;  border:5px solid #ffb037; width:100%\" src = https://sn56.scholastic.com/content/dam/classroom-magazines/sn56/issues/2018-19/020419/the-titanic-sails-again/SN56020919_Titanic-Hero.jpg> "
   ]
  },
  {
   "cell_type": "markdown",
   "id": "exact-peninsula",
   "metadata": {
    "papermill": {
     "duration": 0.098282,
     "end_time": "2021-05-19T14:07:57.257046",
     "exception": false,
     "start_time": "2021-05-19T14:07:57.158764",
     "status": "completed"
    },
    "tags": []
   },
   "source": [
    "<a id = '0'></a>\n",
    "<p style = \"font-size : 35px; color : #34656d ; font-family : 'Comic Sans MS'; text-align : center; background-color : #f9b208; border-radius: 5px 5px;\"><strong>Table of Contents</strong></p> \n",
    "\n",
    "* [Data Description](#1.0)\n",
    "* [EDA](#2.0)\n",
    "    * [Survived Column](#2.1)\n",
    "    * [Pclass Column](#2.2)\n",
    "    * [Name Column](#2.3)\n",
    "    * [Sex Column](#2.4)\n",
    "    * [Age Column](#2.5)\n",
    "    * [Fare Column](#2.6)\n",
    "    * [SibSp Column](#2.7)\n",
    "    * [Parch Column](#2.8)\n",
    "    * [Ticket Column](#2.9)\n",
    "    * [Embarked Column](#2.10)\n",
    "    \n",
    "* [Findings From EDA](#3.0)\n",
    "* [Data Preprocessing](#4.0)\n",
    "* [Models](#5.0)\n",
    "    * [Logistic Regression](#5.1)\n",
    "    * [Knn](#5.2)\n",
    "    * [Decision Tree Classifier](#5.3)\n",
    "    * [Random Forest Classifier](#5.4)\n",
    "    * [Ada Boost Classifier](#5.5)\n",
    "    * [Gradient Boosting Classifier](#5.6)\n",
    "    * [Stochastic Gradient Boosting (SGB)](#5.7)\n",
    "    * [XgBoost](#5.8)\n",
    "    * [Cat Boost Classifier](#5.9)\n",
    "    * [Extra Trees Classifier](#5.10)\n",
    "    * [LGBM Classifier](#5.11)\n",
    "    * [Voting Classifier](#5.12)\n",
    "\n",
    "* [Models Comparison](#6.0)\n"
   ]
  },
  {
   "cell_type": "markdown",
   "id": "legal-network",
   "metadata": {
    "papermill": {
     "duration": 0.09873,
     "end_time": "2021-05-19T14:07:57.455074",
     "exception": false,
     "start_time": "2021-05-19T14:07:57.356344",
     "status": "completed"
    },
    "tags": []
   },
   "source": [
    "<a id = '1.0'></a>\n",
    "<p style = \"font-size : 30px; color : #4e8d7c ; font-family : 'Comic Sans MS';  \"><strong>Data Description :-</strong></p>\n",
    "\n",
    "<ul>\n",
    "    <li style = \"color : #03506f; font-size : 18px; font-family : 'Comic Sans MS';\"><strong>Survival : 0 = No, 1 = Yes</strong></li>\n",
    "    <li style = \"color : #03506f; font-size : 18px; font-family : 'Comic Sans MS';\"><strong>pclass(Ticket Class) : 1 = 1st, 2 = 2nd, 3 = 3rd</strong></li>\n",
    "    <li style = \"color : #03506f; font-size : 18px; font-family : 'Comic Sans MS';\"><strong>Sex(Gender) : Male, Female</strong></li>\n",
    "    <li style = \"color : #03506f; font-size : 18px; font-family : 'Comic Sans MS';\"><strong>Age : Age in years</strong></li>\n",
    "    <li style = \"color : #03506f; font-size : 18px; font-family : 'Comic Sans MS';\"><strong>SibSp : Number of siblings/spouses abroad the titanic</strong></li>\n",
    "    <li style = \"color : #03506f; font-size : 18px; font-family : 'Comic Sans MS';\"><strong>Parch : Number of parents/children abrod the titanic</strong></li>\n",
    "    <li style = \"color : #03506f; font-size : 18px; font-family : 'Comic Sans MS';\"><strong>Ticket : Ticket Number</strong></li>\n",
    "    <li style = \"color : #03506f; font-size : 18px; font-family : 'Comic Sans MS';\"><strong>Fare : Passenger fare</strong></li>\n",
    "    <li style = \"color : #03506f; font-size : 18px; font-family : 'Comic Sans MS';\"><strong>Cabin : Cabin Number</strong></li>\n",
    "    <li style = \"color : #03506f; font-size : 18px; font-family : 'Comic Sans MS';\"><strong>Embarked : Port of Embarkation, C = Cherbourg, Q = Queenstown, S = Southampton</strong></li>\n",
    "</ul>"
   ]
  },
  {
   "cell_type": "code",
   "execution_count": 1,
   "id": "cardiac-environment",
   "metadata": {
    "execution": {
     "iopub.execute_input": "2021-05-19T14:07:57.663692Z",
     "iopub.status.busy": "2021-05-19T14:07:57.663108Z",
     "iopub.status.idle": "2021-05-19T14:07:58.439813Z",
     "shell.execute_reply": "2021-05-19T14:07:58.439195Z"
    },
    "papermill": {
     "duration": 0.884349,
     "end_time": "2021-05-19T14:07:58.439994",
     "exception": false,
     "start_time": "2021-05-19T14:07:57.555645",
     "status": "completed"
    },
    "tags": []
   },
   "outputs": [],
   "source": [
    "# necessary imports\n",
    "\n",
    "import pandas as pd\n",
    "import numpy as np\n",
    "import matplotlib.pyplot as plt\n",
    "import seaborn as sns\n",
    "\n",
    "import warnings\n",
    "warnings.filterwarnings('ignore')\n",
    "\n",
    "plt.style.use('fivethirtyeight')\n",
    "%matplotlib inline"
   ]
  },
  {
   "cell_type": "code",
   "execution_count": 2,
   "id": "crude-humanitarian",
   "metadata": {
    "execution": {
     "iopub.execute_input": "2021-05-19T14:07:58.654824Z",
     "iopub.status.busy": "2021-05-19T14:07:58.654308Z",
     "iopub.status.idle": "2021-05-19T14:07:58.668669Z",
     "shell.execute_reply": "2021-05-19T14:07:58.668231Z"
    },
    "papermill": {
     "duration": 0.12592,
     "end_time": "2021-05-19T14:07:58.668772",
     "exception": false,
     "start_time": "2021-05-19T14:07:58.542852",
     "status": "completed"
    },
    "tags": []
   },
   "outputs": [],
   "source": [
    "train_df = pd.read_csv('../input/titanic/train.csv')"
   ]
  },
  {
   "cell_type": "code",
   "execution_count": 3,
   "id": "brief-programming",
   "metadata": {
    "execution": {
     "iopub.execute_input": "2021-05-19T14:07:58.807701Z",
     "iopub.status.busy": "2021-05-19T14:07:58.801634Z",
     "iopub.status.idle": "2021-05-19T14:07:58.832021Z",
     "shell.execute_reply": "2021-05-19T14:07:58.832363Z"
    },
    "papermill": {
     "duration": 0.098226,
     "end_time": "2021-05-19T14:07:58.832498",
     "exception": false,
     "start_time": "2021-05-19T14:07:58.734272",
     "status": "completed"
    },
    "tags": []
   },
   "outputs": [
    {
     "data": {
      "text/html": [
       "<div>\n",
       "<style scoped>\n",
       "    .dataframe tbody tr th:only-of-type {\n",
       "        vertical-align: middle;\n",
       "    }\n",
       "\n",
       "    .dataframe tbody tr th {\n",
       "        vertical-align: top;\n",
       "    }\n",
       "\n",
       "    .dataframe thead th {\n",
       "        text-align: right;\n",
       "    }\n",
       "</style>\n",
       "<table border=\"1\" class=\"dataframe\">\n",
       "  <thead>\n",
       "    <tr style=\"text-align: right;\">\n",
       "      <th></th>\n",
       "      <th>PassengerId</th>\n",
       "      <th>Survived</th>\n",
       "      <th>Pclass</th>\n",
       "      <th>Name</th>\n",
       "      <th>Sex</th>\n",
       "      <th>Age</th>\n",
       "      <th>SibSp</th>\n",
       "      <th>Parch</th>\n",
       "      <th>Ticket</th>\n",
       "      <th>Fare</th>\n",
       "      <th>Cabin</th>\n",
       "      <th>Embarked</th>\n",
       "    </tr>\n",
       "  </thead>\n",
       "  <tbody>\n",
       "    <tr>\n",
       "      <th>0</th>\n",
       "      <td>1</td>\n",
       "      <td>0</td>\n",
       "      <td>3</td>\n",
       "      <td>Braund, Mr. Owen Harris</td>\n",
       "      <td>male</td>\n",
       "      <td>22.0</td>\n",
       "      <td>1</td>\n",
       "      <td>0</td>\n",
       "      <td>A/5 21171</td>\n",
       "      <td>7.2500</td>\n",
       "      <td>NaN</td>\n",
       "      <td>S</td>\n",
       "    </tr>\n",
       "    <tr>\n",
       "      <th>1</th>\n",
       "      <td>2</td>\n",
       "      <td>1</td>\n",
       "      <td>1</td>\n",
       "      <td>Cumings, Mrs. John Bradley (Florence Briggs Th...</td>\n",
       "      <td>female</td>\n",
       "      <td>38.0</td>\n",
       "      <td>1</td>\n",
       "      <td>0</td>\n",
       "      <td>PC 17599</td>\n",
       "      <td>71.2833</td>\n",
       "      <td>C85</td>\n",
       "      <td>C</td>\n",
       "    </tr>\n",
       "    <tr>\n",
       "      <th>2</th>\n",
       "      <td>3</td>\n",
       "      <td>1</td>\n",
       "      <td>3</td>\n",
       "      <td>Heikkinen, Miss. Laina</td>\n",
       "      <td>female</td>\n",
       "      <td>26.0</td>\n",
       "      <td>0</td>\n",
       "      <td>0</td>\n",
       "      <td>STON/O2. 3101282</td>\n",
       "      <td>7.9250</td>\n",
       "      <td>NaN</td>\n",
       "      <td>S</td>\n",
       "    </tr>\n",
       "    <tr>\n",
       "      <th>3</th>\n",
       "      <td>4</td>\n",
       "      <td>1</td>\n",
       "      <td>1</td>\n",
       "      <td>Futrelle, Mrs. Jacques Heath (Lily May Peel)</td>\n",
       "      <td>female</td>\n",
       "      <td>35.0</td>\n",
       "      <td>1</td>\n",
       "      <td>0</td>\n",
       "      <td>113803</td>\n",
       "      <td>53.1000</td>\n",
       "      <td>C123</td>\n",
       "      <td>S</td>\n",
       "    </tr>\n",
       "    <tr>\n",
       "      <th>4</th>\n",
       "      <td>5</td>\n",
       "      <td>0</td>\n",
       "      <td>3</td>\n",
       "      <td>Allen, Mr. William Henry</td>\n",
       "      <td>male</td>\n",
       "      <td>35.0</td>\n",
       "      <td>0</td>\n",
       "      <td>0</td>\n",
       "      <td>373450</td>\n",
       "      <td>8.0500</td>\n",
       "      <td>NaN</td>\n",
       "      <td>S</td>\n",
       "    </tr>\n",
       "  </tbody>\n",
       "</table>\n",
       "</div>"
      ],
      "text/plain": [
       "   PassengerId  Survived  Pclass  \\\n",
       "0            1         0       3   \n",
       "1            2         1       1   \n",
       "2            3         1       3   \n",
       "3            4         1       1   \n",
       "4            5         0       3   \n",
       "\n",
       "                                                Name     Sex   Age  SibSp  \\\n",
       "0                            Braund, Mr. Owen Harris    male  22.0      1   \n",
       "1  Cumings, Mrs. John Bradley (Florence Briggs Th...  female  38.0      1   \n",
       "2                             Heikkinen, Miss. Laina  female  26.0      0   \n",
       "3       Futrelle, Mrs. Jacques Heath (Lily May Peel)  female  35.0      1   \n",
       "4                           Allen, Mr. William Henry    male  35.0      0   \n",
       "\n",
       "   Parch            Ticket     Fare Cabin Embarked  \n",
       "0      0         A/5 21171   7.2500   NaN        S  \n",
       "1      0          PC 17599  71.2833   C85        C  \n",
       "2      0  STON/O2. 3101282   7.9250   NaN        S  \n",
       "3      0            113803  53.1000  C123        S  \n",
       "4      0            373450   8.0500   NaN        S  "
      ]
     },
     "execution_count": 3,
     "metadata": {},
     "output_type": "execute_result"
    }
   ],
   "source": [
    "train_df.head()"
   ]
  },
  {
   "cell_type": "code",
   "execution_count": 4,
   "id": "growing-feelings",
   "metadata": {
    "execution": {
     "iopub.execute_input": "2021-05-19T14:07:58.969748Z",
     "iopub.status.busy": "2021-05-19T14:07:58.969314Z",
     "iopub.status.idle": "2021-05-19T14:07:59.002179Z",
     "shell.execute_reply": "2021-05-19T14:07:59.001772Z"
    },
    "papermill": {
     "duration": 0.102772,
     "end_time": "2021-05-19T14:07:59.002280",
     "exception": false,
     "start_time": "2021-05-19T14:07:58.899508",
     "status": "completed"
    },
    "tags": []
   },
   "outputs": [
    {
     "data": {
      "text/html": [
       "<div>\n",
       "<style scoped>\n",
       "    .dataframe tbody tr th:only-of-type {\n",
       "        vertical-align: middle;\n",
       "    }\n",
       "\n",
       "    .dataframe tbody tr th {\n",
       "        vertical-align: top;\n",
       "    }\n",
       "\n",
       "    .dataframe thead th {\n",
       "        text-align: right;\n",
       "    }\n",
       "</style>\n",
       "<table border=\"1\" class=\"dataframe\">\n",
       "  <thead>\n",
       "    <tr style=\"text-align: right;\">\n",
       "      <th></th>\n",
       "      <th>PassengerId</th>\n",
       "      <th>Survived</th>\n",
       "      <th>Pclass</th>\n",
       "      <th>Age</th>\n",
       "      <th>SibSp</th>\n",
       "      <th>Parch</th>\n",
       "      <th>Fare</th>\n",
       "    </tr>\n",
       "  </thead>\n",
       "  <tbody>\n",
       "    <tr>\n",
       "      <th>count</th>\n",
       "      <td>891.000000</td>\n",
       "      <td>891.000000</td>\n",
       "      <td>891.000000</td>\n",
       "      <td>714.000000</td>\n",
       "      <td>891.000000</td>\n",
       "      <td>891.000000</td>\n",
       "      <td>891.000000</td>\n",
       "    </tr>\n",
       "    <tr>\n",
       "      <th>mean</th>\n",
       "      <td>446.000000</td>\n",
       "      <td>0.383838</td>\n",
       "      <td>2.308642</td>\n",
       "      <td>29.699118</td>\n",
       "      <td>0.523008</td>\n",
       "      <td>0.381594</td>\n",
       "      <td>32.204208</td>\n",
       "    </tr>\n",
       "    <tr>\n",
       "      <th>std</th>\n",
       "      <td>257.353842</td>\n",
       "      <td>0.486592</td>\n",
       "      <td>0.836071</td>\n",
       "      <td>14.526497</td>\n",
       "      <td>1.102743</td>\n",
       "      <td>0.806057</td>\n",
       "      <td>49.693429</td>\n",
       "    </tr>\n",
       "    <tr>\n",
       "      <th>min</th>\n",
       "      <td>1.000000</td>\n",
       "      <td>0.000000</td>\n",
       "      <td>1.000000</td>\n",
       "      <td>0.420000</td>\n",
       "      <td>0.000000</td>\n",
       "      <td>0.000000</td>\n",
       "      <td>0.000000</td>\n",
       "    </tr>\n",
       "    <tr>\n",
       "      <th>25%</th>\n",
       "      <td>223.500000</td>\n",
       "      <td>0.000000</td>\n",
       "      <td>2.000000</td>\n",
       "      <td>20.125000</td>\n",
       "      <td>0.000000</td>\n",
       "      <td>0.000000</td>\n",
       "      <td>7.910400</td>\n",
       "    </tr>\n",
       "    <tr>\n",
       "      <th>50%</th>\n",
       "      <td>446.000000</td>\n",
       "      <td>0.000000</td>\n",
       "      <td>3.000000</td>\n",
       "      <td>28.000000</td>\n",
       "      <td>0.000000</td>\n",
       "      <td>0.000000</td>\n",
       "      <td>14.454200</td>\n",
       "    </tr>\n",
       "    <tr>\n",
       "      <th>75%</th>\n",
       "      <td>668.500000</td>\n",
       "      <td>1.000000</td>\n",
       "      <td>3.000000</td>\n",
       "      <td>38.000000</td>\n",
       "      <td>1.000000</td>\n",
       "      <td>0.000000</td>\n",
       "      <td>31.000000</td>\n",
       "    </tr>\n",
       "    <tr>\n",
       "      <th>max</th>\n",
       "      <td>891.000000</td>\n",
       "      <td>1.000000</td>\n",
       "      <td>3.000000</td>\n",
       "      <td>80.000000</td>\n",
       "      <td>8.000000</td>\n",
       "      <td>6.000000</td>\n",
       "      <td>512.329200</td>\n",
       "    </tr>\n",
       "  </tbody>\n",
       "</table>\n",
       "</div>"
      ],
      "text/plain": [
       "       PassengerId    Survived      Pclass         Age       SibSp  \\\n",
       "count   891.000000  891.000000  891.000000  714.000000  891.000000   \n",
       "mean    446.000000    0.383838    2.308642   29.699118    0.523008   \n",
       "std     257.353842    0.486592    0.836071   14.526497    1.102743   \n",
       "min       1.000000    0.000000    1.000000    0.420000    0.000000   \n",
       "25%     223.500000    0.000000    2.000000   20.125000    0.000000   \n",
       "50%     446.000000    0.000000    3.000000   28.000000    0.000000   \n",
       "75%     668.500000    1.000000    3.000000   38.000000    1.000000   \n",
       "max     891.000000    1.000000    3.000000   80.000000    8.000000   \n",
       "\n",
       "            Parch        Fare  \n",
       "count  891.000000  891.000000  \n",
       "mean     0.381594   32.204208  \n",
       "std      0.806057   49.693429  \n",
       "min      0.000000    0.000000  \n",
       "25%      0.000000    7.910400  \n",
       "50%      0.000000   14.454200  \n",
       "75%      0.000000   31.000000  \n",
       "max      6.000000  512.329200  "
      ]
     },
     "execution_count": 4,
     "metadata": {},
     "output_type": "execute_result"
    }
   ],
   "source": [
    "train_df.describe()"
   ]
  },
  {
   "cell_type": "code",
   "execution_count": 5,
   "id": "together-suite",
   "metadata": {
    "execution": {
     "iopub.execute_input": "2021-05-19T14:07:59.143605Z",
     "iopub.status.busy": "2021-05-19T14:07:59.140443Z",
     "iopub.status.idle": "2021-05-19T14:07:59.146648Z",
     "shell.execute_reply": "2021-05-19T14:07:59.147082Z"
    },
    "papermill": {
     "duration": 0.077781,
     "end_time": "2021-05-19T14:07:59.147206",
     "exception": false,
     "start_time": "2021-05-19T14:07:59.069425",
     "status": "completed"
    },
    "tags": []
   },
   "outputs": [
    {
     "data": {
      "text/plain": [
       "PassengerId    66231.000000\n",
       "Survived           0.236772\n",
       "Pclass             0.699015\n",
       "Age              211.019125\n",
       "SibSp              1.216043\n",
       "Parch              0.649728\n",
       "Fare            2469.436846\n",
       "dtype: float64"
      ]
     },
     "execution_count": 5,
     "metadata": {},
     "output_type": "execute_result"
    }
   ],
   "source": [
    "train_df.var()"
   ]
  },
  {
   "cell_type": "code",
   "execution_count": 6,
   "id": "least-native",
   "metadata": {
    "execution": {
     "iopub.execute_input": "2021-05-19T14:07:59.283610Z",
     "iopub.status.busy": "2021-05-19T14:07:59.283183Z",
     "iopub.status.idle": "2021-05-19T14:07:59.299024Z",
     "shell.execute_reply": "2021-05-19T14:07:59.299406Z"
    },
    "papermill": {
     "duration": 0.085522,
     "end_time": "2021-05-19T14:07:59.299547",
     "exception": false,
     "start_time": "2021-05-19T14:07:59.214025",
     "status": "completed"
    },
    "tags": []
   },
   "outputs": [
    {
     "name": "stdout",
     "output_type": "stream",
     "text": [
      "<class 'pandas.core.frame.DataFrame'>\n",
      "RangeIndex: 891 entries, 0 to 890\n",
      "Data columns (total 12 columns):\n",
      " #   Column       Non-Null Count  Dtype  \n",
      "---  ------       --------------  -----  \n",
      " 0   PassengerId  891 non-null    int64  \n",
      " 1   Survived     891 non-null    int64  \n",
      " 2   Pclass       891 non-null    int64  \n",
      " 3   Name         891 non-null    object \n",
      " 4   Sex          891 non-null    object \n",
      " 5   Age          714 non-null    float64\n",
      " 6   SibSp        891 non-null    int64  \n",
      " 7   Parch        891 non-null    int64  \n",
      " 8   Ticket       891 non-null    object \n",
      " 9   Fare         891 non-null    float64\n",
      " 10  Cabin        204 non-null    object \n",
      " 11  Embarked     889 non-null    object \n",
      "dtypes: float64(2), int64(5), object(5)\n",
      "memory usage: 83.7+ KB\n"
     ]
    }
   ],
   "source": [
    "train_df.info()"
   ]
  },
  {
   "cell_type": "code",
   "execution_count": 7,
   "id": "difficult-graduation",
   "metadata": {
    "execution": {
     "iopub.execute_input": "2021-05-19T14:07:59.437540Z",
     "iopub.status.busy": "2021-05-19T14:07:59.437091Z",
     "iopub.status.idle": "2021-05-19T14:07:59.445367Z",
     "shell.execute_reply": "2021-05-19T14:07:59.445002Z"
    },
    "papermill": {
     "duration": 0.077892,
     "end_time": "2021-05-19T14:07:59.445467",
     "exception": false,
     "start_time": "2021-05-19T14:07:59.367575",
     "status": "completed"
    },
    "tags": []
   },
   "outputs": [
    {
     "data": {
      "text/plain": [
       "PassengerId      0\n",
       "Survived         0\n",
       "Pclass           0\n",
       "Name             0\n",
       "Sex              0\n",
       "Age            177\n",
       "SibSp            0\n",
       "Parch            0\n",
       "Ticket           0\n",
       "Fare             0\n",
       "Cabin          687\n",
       "Embarked         2\n",
       "dtype: int64"
      ]
     },
     "execution_count": 7,
     "metadata": {},
     "output_type": "execute_result"
    }
   ],
   "source": [
    "# Checking for null values\n",
    "\n",
    "train_df.isna().sum()"
   ]
  },
  {
   "cell_type": "markdown",
   "id": "abroad-planner",
   "metadata": {
    "papermill": {
     "duration": 0.066897,
     "end_time": "2021-05-19T14:07:59.580266",
     "exception": false,
     "start_time": "2021-05-19T14:07:59.513369",
     "status": "completed"
    },
    "tags": []
   },
   "source": [
    "<a id = '2.0'></a>\n",
    "<p style = \"font-size : 35px; color : #34656d ; font-family : 'Comic Sans MS'; text-align : center; background-color : #f9b208; border-radius: 5px 5px;\"><strong>Exploratory Data Analysis (EDA)</strong></p> "
   ]
  },
  {
   "cell_type": "code",
   "execution_count": 8,
   "id": "muslim-choice",
   "metadata": {
    "execution": {
     "iopub.execute_input": "2021-05-19T14:07:59.718588Z",
     "iopub.status.busy": "2021-05-19T14:07:59.718152Z",
     "iopub.status.idle": "2021-05-19T14:08:00.528732Z",
     "shell.execute_reply": "2021-05-19T14:08:00.529096Z"
    },
    "papermill": {
     "duration": 0.881894,
     "end_time": "2021-05-19T14:08:00.529225",
     "exception": false,
     "start_time": "2021-05-19T14:07:59.647331",
     "status": "completed"
    },
    "tags": []
   },
   "outputs": [
    {
     "data": {
      "image/png": "[encoded data removed]",
      "text/plain": [
       "<Figure size 1728x720 with 3 Axes>"
      ]
     },
     "metadata": {
      "needs_background": "light"
     },
     "output_type": "display_data"
    }
   ],
   "source": [
    "# visualizing null values\n",
    "\n",
    "import missingno as msno\n",
    "\n",
    "msno.bar(train_df)\n",
    "plt.show()"
   ]
  },
  {
   "cell_type": "code",
   "execution_count": 9,
   "id": "contemporary-baker",
   "metadata": {
    "execution": {
     "iopub.execute_input": "2021-05-19T14:08:00.667813Z",
     "iopub.status.busy": "2021-05-19T14:08:00.667394Z",
     "iopub.status.idle": "2021-05-19T14:08:00.975656Z",
     "shell.execute_reply": "2021-05-19T14:08:00.976126Z"
    },
    "papermill": {
     "duration": 0.378582,
     "end_time": "2021-05-19T14:08:00.976255",
     "exception": false,
     "start_time": "2021-05-19T14:08:00.597673",
     "status": "completed"
    },
    "tags": []
   },
   "outputs": [
    {
     "data": {
      "image/png": "[encoded data removed]",
      "text/plain": [
       "<Figure size 1296x576 with 2 Axes>"
      ]
     },
     "metadata": {
      "needs_background": "light"
     },
     "output_type": "display_data"
    }
   ],
   "source": [
    "# heatmap\n",
    "\n",
    "plt.figure(figsize = (18, 8))\n",
    "\n",
    "corr = train_df.corr()\n",
    "mask = np.triu(np.ones_like(corr, dtype = bool))\n",
    "\n",
    "sns.heatmap(corr, mask = mask, annot = True, fmt = '.2f', linewidths = 1, annot_kws = {'size' : 15})\n",
    "plt.show()"
   ]
  },
  {
   "cell_type": "markdown",
   "id": "major-agency",
   "metadata": {
    "papermill": {
     "duration": 0.069388,
     "end_time": "2021-05-19T14:08:01.116507",
     "exception": false,
     "start_time": "2021-05-19T14:08:01.047119",
     "status": "completed"
    },
    "tags": []
   },
   "source": [
    "<p style = \"font-size : 20px; color : #34656d ; font-family : 'Comic Sans MS'; \"><strong>Heatmap is not useful in case of categorical variables, so we will analyse each column to check how each column is contributing in prediction.</strong></p> \n"
   ]
  },
  {
   "cell_type": "markdown",
   "id": "functional-republican",
   "metadata": {
    "papermill": {
     "duration": 0.069434,
     "end_time": "2021-05-19T14:08:01.256086",
     "exception": false,
     "start_time": "2021-05-19T14:08:01.186652",
     "status": "completed"
    },
    "tags": []
   },
   "source": [
    "<a id = '2.1'></a>\n",
    "<p style = \"font-size : 25px; color : #34656d ; font-family : 'Comic Sans MS'; text-align : center; background-color : #fbc6a4; border-radius: 5px 5px;\"><strong>Survived Column</strong></p> "
   ]
  },
  {
   "cell_type": "code",
   "execution_count": 10,
   "id": "caring-irish",
   "metadata": {
    "execution": {
     "iopub.execute_input": "2021-05-19T14:08:01.398982Z",
     "iopub.status.busy": "2021-05-19T14:08:01.398534Z",
     "iopub.status.idle": "2021-05-19T14:08:01.516340Z",
     "shell.execute_reply": "2021-05-19T14:08:01.516769Z"
    },
    "papermill": {
     "duration": 0.190554,
     "end_time": "2021-05-19T14:08:01.516919",
     "exception": false,
     "start_time": "2021-05-19T14:08:01.326365",
     "status": "completed"
    },
    "tags": []
   },
   "outputs": [
    {
     "data": {
      "image/png": "[encoded data removed]",
      "text/plain": [
       "<Figure size 864x504 with 1 Axes>"
      ]
     },
     "metadata": {
      "needs_background": "light"
     },
     "output_type": "display_data"
    }
   ],
   "source": [
    "plt.figure(figsize = (12, 7))\n",
    "\n",
    "sns.countplot(y = 'Survived', data = train_df)\n",
    "plt.show()"
   ]
  },
  {
   "cell_type": "code",
   "execution_count": 11,
   "id": "renewable-apparel",
   "metadata": {
    "execution": {
     "iopub.execute_input": "2021-05-19T14:08:01.660335Z",
     "iopub.status.busy": "2021-05-19T14:08:01.659911Z",
     "iopub.status.idle": "2021-05-19T14:08:01.786932Z",
     "shell.execute_reply": "2021-05-19T14:08:01.786549Z"
    },
    "papermill": {
     "duration": 0.199188,
     "end_time": "2021-05-19T14:08:01.787035",
     "exception": false,
     "start_time": "2021-05-19T14:08:01.587847",
     "status": "completed"
    },
    "tags": []
   },
   "outputs": [
    {
     "data": {
      "image/png": "[encoded data removed]",
      "text/plain": [
       "<Figure size 500x500 with 1 Axes>"
      ]
     },
     "metadata": {},
     "output_type": "display_data"
    }
   ],
   "source": [
    "values = train_df['Survived'].value_counts()\n",
    "labels = ['Not Survived', 'Survived']\n",
    "\n",
    "fig, ax = plt.subplots(figsize = (5, 5), dpi = 100)\n",
    "explode = (0, 0.06)\n",
    "\n",
    "patches, texts, autotexts = ax.pie(values, labels = labels, autopct = '%1.2f%%', shadow = True,\n",
    "                                   startangle = 90, explode = explode)\n",
    "\n",
    "plt.setp(texts, color = 'grey')\n",
    "plt.setp(autotexts, size = 12, color = 'white')\n",
    "autotexts[1].set_color('black')\n",
    "plt.show()"
   ]
  },
  {
   "cell_type": "markdown",
   "id": "selective-investing",
   "metadata": {
    "papermill": {
     "duration": 0.07013,
     "end_time": "2021-05-19T14:08:01.927411",
     "exception": false,
     "start_time": "2021-05-19T14:08:01.857281",
     "status": "completed"
    },
    "tags": []
   },
   "source": [
    "<a id = '2.2'></a>\n",
    "<p style = \"font-size : 25px; color : #34656d ; font-family : 'Comic Sans MS'; text-align : center; background-color : #fbc6a4; border-radius: 5px 5px;\"><strong>Pclass Column</strong></p> "
   ]
  },
  {
   "cell_type": "code",
   "execution_count": 12,
   "id": "narrative-validation",
   "metadata": {
    "execution": {
     "iopub.execute_input": "2021-05-19T14:08:02.077802Z",
     "iopub.status.busy": "2021-05-19T14:08:02.077135Z",
     "iopub.status.idle": "2021-05-19T14:08:02.079866Z",
     "shell.execute_reply": "2021-05-19T14:08:02.080375Z"
    },
    "papermill": {
     "duration": 0.081457,
     "end_time": "2021-05-19T14:08:02.080524",
     "exception": false,
     "start_time": "2021-05-19T14:08:01.999067",
     "status": "completed"
    },
    "tags": []
   },
   "outputs": [
    {
     "data": {
      "text/plain": [
       "3    491\n",
       "1    216\n",
       "2    184\n",
       "Name: Pclass, dtype: int64"
      ]
     },
     "execution_count": 12,
     "metadata": {},
     "output_type": "execute_result"
    }
   ],
   "source": [
    "train_df.Pclass.value_counts()"
   ]
  },
  {
   "cell_type": "code",
   "execution_count": 13,
   "id": "accredited-garlic",
   "metadata": {
    "execution": {
     "iopub.execute_input": "2021-05-19T14:08:02.298537Z",
     "iopub.status.busy": "2021-05-19T14:08:02.297748Z",
     "iopub.status.idle": "2021-05-19T14:08:02.305355Z",
     "shell.execute_reply": "2021-05-19T14:08:02.304839Z"
    },
    "papermill": {
     "duration": 0.117418,
     "end_time": "2021-05-19T14:08:02.305476",
     "exception": false,
     "start_time": "2021-05-19T14:08:02.188058",
     "status": "completed"
    },
    "tags": []
   },
   "outputs": [
    {
     "data": {
      "text/plain": [
       "Pclass  Survived\n",
       "1       0            80\n",
       "        1           136\n",
       "2       0            97\n",
       "        1            87\n",
       "3       0           372\n",
       "        1           119\n",
       "Name: Survived, dtype: int64"
      ]
     },
     "execution_count": 13,
     "metadata": {},
     "output_type": "execute_result"
    }
   ],
   "source": [
    "train_df.groupby(['Pclass', 'Survived'])['Survived'].count()"
   ]
  },
  {
   "cell_type": "code",
   "execution_count": 14,
   "id": "administrative-blogger",
   "metadata": {
    "execution": {
     "iopub.execute_input": "2021-05-19T14:08:02.517775Z",
     "iopub.status.busy": "2021-05-19T14:08:02.517163Z",
     "iopub.status.idle": "2021-05-19T14:08:02.749045Z",
     "shell.execute_reply": "2021-05-19T14:08:02.748420Z"
    },
    "papermill": {
     "duration": 0.341842,
     "end_time": "2021-05-19T14:08:02.749169",
     "exception": false,
     "start_time": "2021-05-19T14:08:02.407327",
     "status": "completed"
    },
    "tags": []
   },
   "outputs": [
    {
     "data": {
      "image/png": "[encoded data removed]",
      "text/plain": [
       "<Figure size 1152x576 with 1 Axes>"
      ]
     },
     "metadata": {
      "needs_background": "light"
     },
     "output_type": "display_data"
    }
   ],
   "source": [
    "plt.figure(figsize = (16, 8))\n",
    "\n",
    "sns.countplot('Pclass', hue = 'Survived', data = train_df)\n",
    "plt.show()"
   ]
  },
  {
   "cell_type": "code",
   "execution_count": 15,
   "id": "associate-colorado",
   "metadata": {
    "execution": {
     "iopub.execute_input": "2021-05-19T14:08:02.987043Z",
     "iopub.status.busy": "2021-05-19T14:08:02.985056Z",
     "iopub.status.idle": "2021-05-19T14:08:03.080904Z",
     "shell.execute_reply": "2021-05-19T14:08:03.081279Z"
    },
    "papermill": {
     "duration": 0.223682,
     "end_time": "2021-05-19T14:08:03.081435",
     "exception": false,
     "start_time": "2021-05-19T14:08:02.857753",
     "status": "completed"
    },
    "tags": []
   },
   "outputs": [
    {
     "data": {
      "image/png": "[encoded data removed]",
      "text/plain": [
       "<Figure size 500x600 with 1 Axes>"
      ]
     },
     "metadata": {},
     "output_type": "display_data"
    }
   ],
   "source": [
    "values = train_df['Pclass'].value_counts()\n",
    "labels = ['Third Class', 'Second Class', 'First Class']\n",
    "explode = (0, 0, 0.08)\n",
    "\n",
    "fig, ax = plt.subplots(figsize = (5, 6), dpi = 100)\n",
    "patches, texts, autotexts = ax.pie(values, labels = labels, autopct = '%1.2f%%', shadow = True,\n",
    "                                   startangle = 90, explode = explode)\n",
    "\n",
    "plt.setp(texts, color = 'grey')\n",
    "plt.setp(autotexts, size = 13, color = 'white')\n",
    "autotexts[2].set_color('black')\n",
    "plt.show()"
   ]
  },
  {
   "cell_type": "code",
   "execution_count": 16,
   "id": "martial-dietary",
   "metadata": {
    "execution": {
     "iopub.execute_input": "2021-05-19T14:08:03.262042Z",
     "iopub.status.busy": "2021-05-19T14:08:03.261545Z",
     "iopub.status.idle": "2021-05-19T14:08:03.555571Z",
     "shell.execute_reply": "2021-05-19T14:08:03.555183Z"
    },
    "papermill": {
     "duration": 0.39945,
     "end_time": "2021-05-19T14:08:03.555677",
     "exception": false,
     "start_time": "2021-05-19T14:08:03.156227",
     "status": "completed"
    },
    "tags": []
   },
   "outputs": [
    {
     "data": {
      "image/png": "[encoded data removed]",
      "text/plain": [
       "<Figure size 864x432 with 1 Axes>"
      ]
     },
     "metadata": {
      "needs_background": "light"
     },
     "output_type": "display_data"
    }
   ],
   "source": [
    "sns.catplot('Pclass', 'Survived', kind = 'point', data = train_df, height = 6, aspect = 2)\n",
    "plt.show()"
   ]
  },
  {
   "cell_type": "markdown",
   "id": "wired-breach",
   "metadata": {
    "papermill": {
     "duration": 0.074364,
     "end_time": "2021-05-19T14:08:03.704338",
     "exception": false,
     "start_time": "2021-05-19T14:08:03.629974",
     "status": "completed"
    },
    "tags": []
   },
   "source": [
    "<a id = '2.3'></a>\n",
    "<p style = \"font-size : 25px; color : #34656d ; font-family : 'Comic Sans MS'; text-align : center; background-color : #fbc6a4; border-radius: 5px 5px;\"><strong>Name Column</strong></p> "
   ]
  },
  {
   "cell_type": "code",
   "execution_count": 17,
   "id": "blank-somewhere",
   "metadata": {
    "execution": {
     "iopub.execute_input": "2021-05-19T14:08:03.859190Z",
     "iopub.status.busy": "2021-05-19T14:08:03.858702Z",
     "iopub.status.idle": "2021-05-19T14:08:03.861999Z",
     "shell.execute_reply": "2021-05-19T14:08:03.862375Z"
    },
    "papermill": {
     "duration": 0.08402,
     "end_time": "2021-05-19T14:08:03.862517",
     "exception": false,
     "start_time": "2021-05-19T14:08:03.778497",
     "status": "completed"
    },
    "tags": []
   },
   "outputs": [
    {
     "data": {
      "text/plain": [
       "Cumings, Mrs. John Bradley (Florence Briggs Thayer)    1\n",
       "Larsson, Mr. August Viktor                             1\n",
       "Nakid, Miss. Maria (\"Mary\")                            1\n",
       "Ball, Mrs. (Ada E Hall)                                1\n",
       "Davies, Mr. Alfred J                                   1\n",
       "                                                      ..\n",
       "Simmons, Mr. John                                      1\n",
       "Danoff, Mr. Yoto                                       1\n",
       "Abelson, Mr. Samuel                                    1\n",
       "Andersson, Miss. Erna Alexandra                        1\n",
       "Oreskovic, Miss. Marija                                1\n",
       "Name: Name, Length: 891, dtype: int64"
      ]
     },
     "execution_count": 17,
     "metadata": {},
     "output_type": "execute_result"
    }
   ],
   "source": [
    "train_df.Name.value_counts()"
   ]
  },
  {
   "cell_type": "code",
   "execution_count": 18,
   "id": "otherwise-decline",
   "metadata": {
    "execution": {
     "iopub.execute_input": "2021-05-19T14:08:04.017576Z",
     "iopub.status.busy": "2021-05-19T14:08:04.017123Z",
     "iopub.status.idle": "2021-05-19T14:08:04.020719Z",
     "shell.execute_reply": "2021-05-19T14:08:04.021142Z"
    },
    "papermill": {
     "duration": 0.082248,
     "end_time": "2021-05-19T14:08:04.021269",
     "exception": false,
     "start_time": "2021-05-19T14:08:03.939021",
     "status": "completed"
    },
    "tags": []
   },
   "outputs": [
    {
     "data": {
      "text/plain": [
       "(891, (891, 12))"
      ]
     },
     "execution_count": 18,
     "metadata": {},
     "output_type": "execute_result"
    }
   ],
   "source": [
    "len(train_df.Name.unique()), train_df.shape"
   ]
  },
  {
   "cell_type": "markdown",
   "id": "normal-breast",
   "metadata": {
    "papermill": {
     "duration": 0.075265,
     "end_time": "2021-05-19T14:08:04.173597",
     "exception": false,
     "start_time": "2021-05-19T14:08:04.098332",
     "status": "completed"
    },
    "tags": []
   },
   "source": [
    "<a id = '2.4'></a>\n",
    "<p style = \"font-size : 25px; color : #34656d ; font-family : 'Comic Sans MS'; text-align : center; background-color : #fbc6a4; border-radius: 5px 5px;\"><strong>Sex Column</strong></p> "
   ]
  },
  {
   "cell_type": "code",
   "execution_count": 19,
   "id": "naval-helena",
   "metadata": {
    "execution": {
     "iopub.execute_input": "2021-05-19T14:08:04.362959Z",
     "iopub.status.busy": "2021-05-19T14:08:04.362484Z",
     "iopub.status.idle": "2021-05-19T14:08:04.365310Z",
     "shell.execute_reply": "2021-05-19T14:08:04.364950Z"
    },
    "papermill": {
     "duration": 0.084562,
     "end_time": "2021-05-19T14:08:04.365425",
     "exception": false,
     "start_time": "2021-05-19T14:08:04.280863",
     "status": "completed"
    },
    "tags": []
   },
   "outputs": [
    {
     "data": {
      "text/plain": [
       "male      577\n",
       "female    314\n",
       "Name: Sex, dtype: int64"
      ]
     },
     "execution_count": 19,
     "metadata": {},
     "output_type": "execute_result"
    }
   ],
   "source": [
    "train_df.Sex.value_counts()"
   ]
  },
  {
   "cell_type": "code",
   "execution_count": 20,
   "id": "moral-mount",
   "metadata": {
    "execution": {
     "iopub.execute_input": "2021-05-19T14:08:04.520314Z",
     "iopub.status.busy": "2021-05-19T14:08:04.519862Z",
     "iopub.status.idle": "2021-05-19T14:08:04.525904Z",
     "shell.execute_reply": "2021-05-19T14:08:04.526259Z"
    },
    "papermill": {
     "duration": 0.084636,
     "end_time": "2021-05-19T14:08:04.526378",
     "exception": false,
     "start_time": "2021-05-19T14:08:04.441742",
     "status": "completed"
    },
    "tags": []
   },
   "outputs": [
    {
     "data": {
      "text/plain": [
       "Sex     Survived\n",
       "female  0            81\n",
       "        1           233\n",
       "male    0           468\n",
       "        1           109\n",
       "Name: Survived, dtype: int64"
      ]
     },
     "execution_count": 20,
     "metadata": {},
     "output_type": "execute_result"
    }
   ],
   "source": [
    "train_df.groupby(['Sex', 'Survived'])['Survived'].count()"
   ]
  },
  {
   "cell_type": "code",
   "execution_count": 21,
   "id": "third-hawaiian",
   "metadata": {
    "execution": {
     "iopub.execute_input": "2021-05-19T14:08:04.680592Z",
     "iopub.status.busy": "2021-05-19T14:08:04.680157Z",
     "iopub.status.idle": "2021-05-19T14:08:04.801786Z",
     "shell.execute_reply": "2021-05-19T14:08:04.802135Z"
    },
    "papermill": {
     "duration": 0.199724,
     "end_time": "2021-05-19T14:08:04.802266",
     "exception": false,
     "start_time": "2021-05-19T14:08:04.602542",
     "status": "completed"
    },
    "tags": []
   },
   "outputs": [
    {
     "data": {
      "image/png": "[encoded data removed]",
      "text/plain": [
       "<Figure size 1152x504 with 1 Axes>"
      ]
     },
     "metadata": {
      "needs_background": "light"
     },
     "output_type": "display_data"
    }
   ],
   "source": [
    "plt.figure(figsize = (16, 7))\n",
    "\n",
    "sns.countplot('Sex', hue = 'Survived', data = train_df)\n",
    "plt.show()"
   ]
  },
  {
   "cell_type": "code",
   "execution_count": 22,
   "id": "victorian-sunday",
   "metadata": {
    "execution": {
     "iopub.execute_input": "2021-05-19T14:08:04.957938Z",
     "iopub.status.busy": "2021-05-19T14:08:04.957474Z",
     "iopub.status.idle": "2021-05-19T14:08:05.566849Z",
     "shell.execute_reply": "2021-05-19T14:08:05.567369Z"
    },
    "papermill": {
     "duration": 0.688623,
     "end_time": "2021-05-19T14:08:05.567525",
     "exception": false,
     "start_time": "2021-05-19T14:08:04.878902",
     "status": "completed"
    },
    "tags": []
   },
   "outputs": [
    {
     "data": {
      "image/png": "[encoded data removed]",
      "text/plain": [
       "<Figure size 1080x360 with 3 Axes>"
      ]
     },
     "metadata": {
      "needs_background": "light"
     },
     "output_type": "display_data"
    }
   ],
   "source": [
    "sns.catplot(x = 'Sex', y = 'Survived', data = train_df, kind = 'bar', col = 'Pclass')\n",
    "plt.show()"
   ]
  },
  {
   "cell_type": "code",
   "execution_count": 23,
   "id": "human-upset",
   "metadata": {
    "execution": {
     "iopub.execute_input": "2021-05-19T14:08:05.801941Z",
     "iopub.status.busy": "2021-05-19T14:08:05.801125Z",
     "iopub.status.idle": "2021-05-19T14:08:06.088635Z",
     "shell.execute_reply": "2021-05-19T14:08:06.088999Z"
    },
    "papermill": {
     "duration": 0.406505,
     "end_time": "2021-05-19T14:08:06.089134",
     "exception": false,
     "start_time": "2021-05-19T14:08:05.682629",
     "status": "completed"
    },
    "tags": []
   },
   "outputs": [
    {
     "data": {
      "image/png": "[encoded data removed]",
      "text/plain": [
       "<Figure size 864x432 with 1 Axes>"
      ]
     },
     "metadata": {
      "needs_background": "light"
     },
     "output_type": "display_data"
    }
   ],
   "source": [
    "sns.catplot(x = 'Sex', y = 'Survived', data = train_df, kind = 'point', height = 6, aspect =2)\n",
    "plt.show()"
   ]
  },
  {
   "cell_type": "code",
   "execution_count": 24,
   "id": "powerful-bailey",
   "metadata": {
    "execution": {
     "iopub.execute_input": "2021-05-19T14:08:06.250899Z",
     "iopub.status.busy": "2021-05-19T14:08:06.250453Z",
     "iopub.status.idle": "2021-05-19T14:08:06.668329Z",
     "shell.execute_reply": "2021-05-19T14:08:06.667946Z"
    },
    "papermill": {
     "duration": 0.501199,
     "end_time": "2021-05-19T14:08:06.668449",
     "exception": false,
     "start_time": "2021-05-19T14:08:06.167250",
     "status": "completed"
    },
    "tags": []
   },
   "outputs": [
    {
     "data": {
      "text/plain": [
       "<Figure size 1080x432 with 0 Axes>"
      ]
     },
     "metadata": {},
     "output_type": "display_data"
    },
    {
     "data": {
      "image/png": "[encoded data removed]",
      "text/plain": [
       "<Figure size 934.5x432 with 1 Axes>"
      ]
     },
     "metadata": {
      "needs_background": "light"
     },
     "output_type": "display_data"
    }
   ],
   "source": [
    "plt.figure(figsize = (15, 6))\n",
    "\n",
    "sns.catplot(x = 'Pclass', y = 'Survived', kind = 'point', data = train_df, hue = 'Sex', height = 6, aspect = 2)\n",
    "plt.show()"
   ]
  },
  {
   "cell_type": "markdown",
   "id": "extended-summary",
   "metadata": {
    "papermill": {
     "duration": 0.079778,
     "end_time": "2021-05-19T14:08:06.827068",
     "exception": false,
     "start_time": "2021-05-19T14:08:06.747290",
     "status": "completed"
    },
    "tags": []
   },
   "source": [
    "<a id = '2.5'></a>\n",
    "<p style = \"font-size : 25px; color : #34656d ; font-family : 'Comic Sans MS'; text-align : center; background-color : #fbc6a4; border-radius: 5px 5px;\"><strong>Age Column</strong></p> "
   ]
  },
  {
   "cell_type": "code",
   "execution_count": 25,
   "id": "charitable-investigation",
   "metadata": {
    "execution": {
     "iopub.execute_input": "2021-05-19T14:08:07.001326Z",
     "iopub.status.busy": "2021-05-19T14:08:07.000866Z",
     "iopub.status.idle": "2021-05-19T14:08:07.201761Z",
     "shell.execute_reply": "2021-05-19T14:08:07.201309Z"
    },
    "papermill": {
     "duration": 0.295487,
     "end_time": "2021-05-19T14:08:07.201868",
     "exception": false,
     "start_time": "2021-05-19T14:08:06.906381",
     "status": "completed"
    },
    "tags": []
   },
   "outputs": [
    {
     "data": {
      "image/png": "[encoded data removed]",
      "text/plain": [
       "<Figure size 1080x432 with 1 Axes>"
      ]
     },
     "metadata": {
      "needs_background": "light"
     },
     "output_type": "display_data"
    }
   ],
   "source": [
    "plt.figure(figsize = (15, 6))\n",
    "plt.style.use('ggplot')\n",
    "\n",
    "sns.distplot(train_df['Age'])\n",
    "plt.show()"
   ]
  },
  {
   "cell_type": "code",
   "execution_count": 26,
   "id": "northern-offset",
   "metadata": {
    "execution": {
     "iopub.execute_input": "2021-05-19T14:08:07.371299Z",
     "iopub.status.busy": "2021-05-19T14:08:07.370810Z",
     "iopub.status.idle": "2021-05-19T14:08:07.592930Z",
     "shell.execute_reply": "2021-05-19T14:08:07.592448Z"
    },
    "papermill": {
     "duration": 0.3099,
     "end_time": "2021-05-19T14:08:07.593034",
     "exception": false,
     "start_time": "2021-05-19T14:08:07.283134",
     "status": "completed"
    },
    "tags": []
   },
   "outputs": [
    {
     "data": {
      "image/png": "[encoded data removed]",
      "text/plain": [
       "<Figure size 720x360 with 1 Axes>"
      ]
     },
     "metadata": {},
     "output_type": "display_data"
    }
   ],
   "source": [
    "sns.catplot(x = 'Sex', y = 'Age', kind = 'box', data = train_df, height = 5, aspect = 2)\n",
    "plt.show()"
   ]
  },
  {
   "cell_type": "code",
   "execution_count": 27,
   "id": "silver-commitment",
   "metadata": {
    "execution": {
     "iopub.execute_input": "2021-05-19T14:08:07.762989Z",
     "iopub.status.busy": "2021-05-19T14:08:07.762510Z",
     "iopub.status.idle": "2021-05-19T14:08:08.271980Z",
     "shell.execute_reply": "2021-05-19T14:08:08.271484Z"
    },
    "papermill": {
     "duration": 0.598278,
     "end_time": "2021-05-19T14:08:08.272090",
     "exception": false,
     "start_time": "2021-05-19T14:08:07.673812",
     "status": "completed"
    },
    "tags": []
   },
   "outputs": [
    {
     "data": {
      "image/png": "[encoded data removed]",
      "text/plain": [
       "<Figure size 1080x360 with 3 Axes>"
      ]
     },
     "metadata": {},
     "output_type": "display_data"
    }
   ],
   "source": [
    "sns.catplot(x = 'Sex', y = 'Age', kind = 'box', data = train_df, col = 'Pclass')\n",
    "plt.show()"
   ]
  },
  {
   "cell_type": "markdown",
   "id": "confirmed-italy",
   "metadata": {
    "papermill": {
     "duration": 0.080796,
     "end_time": "2021-05-19T14:08:08.435523",
     "exception": false,
     "start_time": "2021-05-19T14:08:08.354727",
     "status": "completed"
    },
    "tags": []
   },
   "source": [
    "<a id = '2.6'></a>\n",
    "<p style = \"font-size : 25px; color : #34656d ; font-family : 'Comic Sans MS'; text-align : center; background-color : #fbc6a4; border-radius: 5px 5px;\"><strong>Fare Column</strong></p> "
   ]
  },
  {
   "cell_type": "code",
   "execution_count": 28,
   "id": "rolled-coverage",
   "metadata": {
    "execution": {
     "iopub.execute_input": "2021-05-19T14:08:08.618643Z",
     "iopub.status.busy": "2021-05-19T14:08:08.607416Z",
     "iopub.status.idle": "2021-05-19T14:08:08.854098Z",
     "shell.execute_reply": "2021-05-19T14:08:08.853658Z"
    },
    "papermill": {
     "duration": 0.33511,
     "end_time": "2021-05-19T14:08:08.854203",
     "exception": false,
     "start_time": "2021-05-19T14:08:08.519093",
     "status": "completed"
    },
    "tags": []
   },
   "outputs": [
    {
     "data": {
      "image/png": "[encoded data removed]",
      "text/plain": [
       "<Figure size 1008x432 with 1 Axes>"
      ]
     },
     "metadata": {},
     "output_type": "display_data"
    }
   ],
   "source": [
    "plt.figure(figsize = (14, 6))\n",
    "\n",
    "plt.hist(train_df.Fare, bins = 60, color = 'orange')\n",
    "plt.xlabel('Fare')\n",
    "plt.show()"
   ]
  },
  {
   "cell_type": "markdown",
   "id": "faced-kingston",
   "metadata": {
    "papermill": {
     "duration": 0.081796,
     "end_time": "2021-05-19T14:08:09.019790",
     "exception": false,
     "start_time": "2021-05-19T14:08:08.937994",
     "status": "completed"
    },
    "tags": []
   },
   "source": [
    "<p style = \"font-size : 20px; color : #34656d ; font-family : 'Comic Sans MS'; \"><strong>We can see that lot of zero values are there in Fare column so we will replace zero values with mean value of Fare column later.</strong></p> "
   ]
  },
  {
   "cell_type": "code",
   "execution_count": 29,
   "id": "powerful-diesel",
   "metadata": {
    "execution": {
     "iopub.execute_input": "2021-05-19T14:08:09.192273Z",
     "iopub.status.busy": "2021-05-19T14:08:09.190393Z",
     "iopub.status.idle": "2021-05-19T14:08:09.859094Z",
     "shell.execute_reply": "2021-05-19T14:08:09.858623Z"
    },
    "papermill": {
     "duration": 0.756902,
     "end_time": "2021-05-19T14:08:09.859198",
     "exception": false,
     "start_time": "2021-05-19T14:08:09.102296",
     "status": "completed"
    },
    "tags": []
   },
   "outputs": [
    {
     "data": {
      "image/png": "[encoded data removed]",
      "text/plain": [
       "<Figure size 1080x360 with 3 Axes>"
      ]
     },
     "metadata": {},
     "output_type": "display_data"
    }
   ],
   "source": [
    "sns.catplot(x = 'Sex', y = 'Fare', data = train_df, kind = 'box', col = 'Pclass')\n",
    "plt.show()"
   ]
  },
  {
   "cell_type": "markdown",
   "id": "based-specific",
   "metadata": {
    "papermill": {
     "duration": 0.076815,
     "end_time": "2021-05-19T14:08:10.013683",
     "exception": false,
     "start_time": "2021-05-19T14:08:09.936868",
     "status": "completed"
    },
    "tags": []
   },
   "source": [
    "<a id = '2.7'></a>\n",
    "<p style = \"font-size : 25px; color : #34656d ; font-family : 'Comic Sans MS'; text-align : center; background-color : #fbc6a4; border-radius: 5px 5px;\"><strong>SibSp Column</strong></p> "
   ]
  },
  {
   "cell_type": "code",
   "execution_count": 30,
   "id": "brazilian-proof",
   "metadata": {
    "execution": {
     "iopub.execute_input": "2021-05-19T14:08:10.174969Z",
     "iopub.status.busy": "2021-05-19T14:08:10.174369Z",
     "iopub.status.idle": "2021-05-19T14:08:10.176899Z",
     "shell.execute_reply": "2021-05-19T14:08:10.177365Z"
    },
    "papermill": {
     "duration": 0.086483,
     "end_time": "2021-05-19T14:08:10.177502",
     "exception": false,
     "start_time": "2021-05-19T14:08:10.091019",
     "status": "completed"
    },
    "tags": []
   },
   "outputs": [
    {
     "data": {
      "text/plain": [
       "0    608\n",
       "1    209\n",
       "2     28\n",
       "4     18\n",
       "3     16\n",
       "8      7\n",
       "5      5\n",
       "Name: SibSp, dtype: int64"
      ]
     },
     "execution_count": 30,
     "metadata": {},
     "output_type": "execute_result"
    }
   ],
   "source": [
    "train_df['SibSp'].value_counts()"
   ]
  },
  {
   "cell_type": "code",
   "execution_count": 31,
   "id": "stuck-contributor",
   "metadata": {
    "execution": {
     "iopub.execute_input": "2021-05-19T14:08:10.415478Z",
     "iopub.status.busy": "2021-05-19T14:08:10.414985Z",
     "iopub.status.idle": "2021-05-19T14:08:10.589368Z",
     "shell.execute_reply": "2021-05-19T14:08:10.588937Z"
    },
    "papermill": {
     "duration": 0.295952,
     "end_time": "2021-05-19T14:08:10.589471",
     "exception": false,
     "start_time": "2021-05-19T14:08:10.293519",
     "status": "completed"
    },
    "tags": []
   },
   "outputs": [
    {
     "data": {
      "image/png": "[encoded data removed]",
      "text/plain": [
       "<Figure size 1152x360 with 1 Axes>"
      ]
     },
     "metadata": {},
     "output_type": "display_data"
    }
   ],
   "source": [
    "plt.figure(figsize = (16, 5))\n",
    "\n",
    "sns.countplot(x = 'SibSp', data = train_df, hue = 'Survived')\n",
    "plt.show()"
   ]
  },
  {
   "cell_type": "code",
   "execution_count": 32,
   "id": "weird-italy",
   "metadata": {
    "execution": {
     "iopub.execute_input": "2021-05-19T14:08:10.751377Z",
     "iopub.status.busy": "2021-05-19T14:08:10.750773Z",
     "iopub.status.idle": "2021-05-19T14:08:11.087843Z",
     "shell.execute_reply": "2021-05-19T14:08:11.088226Z"
    },
    "papermill": {
     "duration": 0.421161,
     "end_time": "2021-05-19T14:08:11.088352",
     "exception": false,
     "start_time": "2021-05-19T14:08:10.667191",
     "status": "completed"
    },
    "tags": []
   },
   "outputs": [
    {
     "data": {
      "image/png": "[encoded data removed]",
      "text/plain": [
       "<Figure size 720x360 with 1 Axes>"
      ]
     },
     "metadata": {},
     "output_type": "display_data"
    }
   ],
   "source": [
    "sns.catplot(x = 'SibSp', y = 'Survived', kind = 'bar', data = train_df, height = 5, aspect =2)\n",
    "plt.show()"
   ]
  },
  {
   "cell_type": "code",
   "execution_count": 33,
   "id": "magnetic-laundry",
   "metadata": {
    "execution": {
     "iopub.execute_input": "2021-05-19T14:08:11.263589Z",
     "iopub.status.busy": "2021-05-19T14:08:11.262899Z",
     "iopub.status.idle": "2021-05-19T14:08:11.812454Z",
     "shell.execute_reply": "2021-05-19T14:08:11.812803Z"
    },
    "papermill": {
     "duration": 0.639754,
     "end_time": "2021-05-19T14:08:11.812958",
     "exception": false,
     "start_time": "2021-05-19T14:08:11.173204",
     "status": "completed"
    },
    "tags": []
   },
   "outputs": [
    {
     "data": {
      "image/png": "[encoded data removed]",
      "text/plain": [
       "<Figure size 934.5x432 with 1 Axes>"
      ]
     },
     "metadata": {},
     "output_type": "display_data"
    }
   ],
   "source": [
    "sns.catplot(x = 'SibSp', y = 'Survived', kind = 'bar', hue = 'Sex', data = train_df, height = 6, aspect = 2)\n",
    "plt.show()"
   ]
  },
  {
   "cell_type": "code",
   "execution_count": 34,
   "id": "appointed-housing",
   "metadata": {
    "execution": {
     "iopub.execute_input": "2021-05-19T14:08:11.991611Z",
     "iopub.status.busy": "2021-05-19T14:08:11.991129Z",
     "iopub.status.idle": "2021-05-19T14:08:12.665522Z",
     "shell.execute_reply": "2021-05-19T14:08:12.665114Z"
    },
    "papermill": {
     "duration": 0.767073,
     "end_time": "2021-05-19T14:08:12.665626",
     "exception": false,
     "start_time": "2021-05-19T14:08:11.898553",
     "status": "completed"
    },
    "tags": []
   },
   "outputs": [
    {
     "data": {
      "image/png": "[encoded data removed]",
      "text/plain": [
       "<Figure size 720x360 with 2 Axes>"
      ]
     },
     "metadata": {},
     "output_type": "display_data"
    }
   ],
   "source": [
    "sns.catplot(x = 'SibSp',  y = 'Survived', kind = 'bar', col = 'Sex', data = train_df)\n",
    "plt.show()"
   ]
  },
  {
   "cell_type": "code",
   "execution_count": 35,
   "id": "independent-ranch",
   "metadata": {
    "execution": {
     "iopub.execute_input": "2021-05-19T14:08:12.843748Z",
     "iopub.status.busy": "2021-05-19T14:08:12.842459Z",
     "iopub.status.idle": "2021-05-19T14:08:13.546099Z",
     "shell.execute_reply": "2021-05-19T14:08:13.545548Z"
    },
    "papermill": {
     "duration": 0.793747,
     "end_time": "2021-05-19T14:08:13.546200",
     "exception": false,
     "start_time": "2021-05-19T14:08:12.752453",
     "status": "completed"
    },
    "tags": []
   },
   "outputs": [
    {
     "data": {
      "image/png": "[encoded data removed]",
      "text/plain": [
       "<Figure size 1080x360 with 3 Axes>"
      ]
     },
     "metadata": {},
     "output_type": "display_data"
    }
   ],
   "source": [
    "sns.catplot(x = 'SibSp', y = 'Survived', col = 'Pclass', kind = 'bar', data = train_df)\n",
    "plt.show()"
   ]
  },
  {
   "cell_type": "code",
   "execution_count": 36,
   "id": "roman-yield",
   "metadata": {
    "execution": {
     "iopub.execute_input": "2021-05-19T14:08:13.750475Z",
     "iopub.status.busy": "2021-05-19T14:08:13.724350Z",
     "iopub.status.idle": "2021-05-19T14:08:14.309946Z",
     "shell.execute_reply": "2021-05-19T14:08:14.310291Z"
    },
    "papermill": {
     "duration": 0.67747,
     "end_time": "2021-05-19T14:08:14.310419",
     "exception": false,
     "start_time": "2021-05-19T14:08:13.632949",
     "status": "completed"
    },
    "tags": []
   },
   "outputs": [
    {
     "data": {
      "image/png": "[encoded data removed]",
      "text/plain": [
       "<Figure size 934.5x432 with 1 Axes>"
      ]
     },
     "metadata": {},
     "output_type": "display_data"
    }
   ],
   "source": [
    "sns.catplot(x = 'SibSp', y = 'Survived', kind = 'point', hue = 'Sex', data = train_df, height = 6, aspect = 2)\n",
    "plt.show()"
   ]
  },
  {
   "cell_type": "markdown",
   "id": "superior-corner",
   "metadata": {
    "papermill": {
     "duration": 0.086248,
     "end_time": "2021-05-19T14:08:14.483835",
     "exception": false,
     "start_time": "2021-05-19T14:08:14.397587",
     "status": "completed"
    },
    "tags": []
   },
   "source": [
    "<a id = '2.8'></a>\n",
    "<p style = \"font-size : 25px; color : #34656d ; font-family : 'Comic Sans MS'; text-align : center; background-color : #fbc6a4; border-radius: 5px 5px;\"><strong>Parch Column</strong></p> "
   ]
  },
  {
   "cell_type": "code",
   "execution_count": 37,
   "id": "beneficial-distance",
   "metadata": {
    "execution": {
     "iopub.execute_input": "2021-05-19T14:08:14.664702Z",
     "iopub.status.busy": "2021-05-19T14:08:14.664121Z",
     "iopub.status.idle": "2021-05-19T14:08:14.666585Z",
     "shell.execute_reply": "2021-05-19T14:08:14.666975Z"
    },
    "papermill": {
     "duration": 0.094913,
     "end_time": "2021-05-19T14:08:14.667096",
     "exception": false,
     "start_time": "2021-05-19T14:08:14.572183",
     "status": "completed"
    },
    "tags": []
   },
   "outputs": [
    {
     "data": {
      "text/plain": [
       "0    678\n",
       "1    118\n",
       "2     80\n",
       "3      5\n",
       "5      5\n",
       "4      4\n",
       "6      1\n",
       "Name: Parch, dtype: int64"
      ]
     },
     "execution_count": 37,
     "metadata": {},
     "output_type": "execute_result"
    }
   ],
   "source": [
    "train_df.Parch.value_counts()"
   ]
  },
  {
   "cell_type": "code",
   "execution_count": 38,
   "id": "strange-blake",
   "metadata": {
    "execution": {
     "iopub.execute_input": "2021-05-19T14:08:14.847921Z",
     "iopub.status.busy": "2021-05-19T14:08:14.847267Z",
     "iopub.status.idle": "2021-05-19T14:08:15.322517Z",
     "shell.execute_reply": "2021-05-19T14:08:15.322924Z"
    },
    "papermill": {
     "duration": 0.567021,
     "end_time": "2021-05-19T14:08:15.323053",
     "exception": false,
     "start_time": "2021-05-19T14:08:14.756032",
     "status": "completed"
    },
    "tags": []
   },
   "outputs": [
    {
     "data": {
      "image/png": "[encoded data removed]",
      "text/plain": [
       "<Figure size 934.5x432 with 1 Axes>"
      ]
     },
     "metadata": {},
     "output_type": "display_data"
    }
   ],
   "source": [
    "sns.catplot(x = 'Parch', y = 'Survived', data = train_df, hue = 'Sex', kind = 'bar', height = 6, aspect = 2)\n",
    "plt.show()"
   ]
  },
  {
   "cell_type": "markdown",
   "id": "familiar-advocacy",
   "metadata": {
    "papermill": {
     "duration": 0.087479,
     "end_time": "2021-05-19T14:08:15.501074",
     "exception": false,
     "start_time": "2021-05-19T14:08:15.413595",
     "status": "completed"
    },
    "tags": []
   },
   "source": [
    "<a id = '2.9'></a>\n",
    "<p style = \"font-size : 25px; color : #34656d ; font-family : 'Comic Sans MS'; text-align : center; background-color : #fbc6a4; border-radius: 5px 5px;\"><strong>Ticket Column</strong></p> "
   ]
  },
  {
   "cell_type": "code",
   "execution_count": 39,
   "id": "acting-venture",
   "metadata": {
    "execution": {
     "iopub.execute_input": "2021-05-19T14:08:15.685683Z",
     "iopub.status.busy": "2021-05-19T14:08:15.682848Z",
     "iopub.status.idle": "2021-05-19T14:08:15.688739Z",
     "shell.execute_reply": "2021-05-19T14:08:15.689241Z"
    },
    "papermill": {
     "duration": 0.098836,
     "end_time": "2021-05-19T14:08:15.689404",
     "exception": false,
     "start_time": "2021-05-19T14:08:15.590568",
     "status": "completed"
    },
    "tags": []
   },
   "outputs": [
    {
     "data": {
      "text/plain": [
       "347082      7\n",
       "1601        7\n",
       "CA. 2343    7\n",
       "3101295     6\n",
       "CA 2144     6\n",
       "           ..\n",
       "2669        1\n",
       "248723      1\n",
       "330877      1\n",
       "2689        1\n",
       "368703      1\n",
       "Name: Ticket, Length: 681, dtype: int64"
      ]
     },
     "execution_count": 39,
     "metadata": {},
     "output_type": "execute_result"
    }
   ],
   "source": [
    "train_df.Ticket.value_counts()"
   ]
  },
  {
   "cell_type": "code",
   "execution_count": 40,
   "id": "unauthorized-southwest",
   "metadata": {
    "execution": {
     "iopub.execute_input": "2021-05-19T14:08:15.960680Z",
     "iopub.status.busy": "2021-05-19T14:08:15.959860Z",
     "iopub.status.idle": "2021-05-19T14:08:15.963096Z",
     "shell.execute_reply": "2021-05-19T14:08:15.963551Z"
    },
    "papermill": {
     "duration": 0.139887,
     "end_time": "2021-05-19T14:08:15.963709",
     "exception": false,
     "start_time": "2021-05-19T14:08:15.823822",
     "status": "completed"
    },
    "tags": []
   },
   "outputs": [
    {
     "data": {
      "text/plain": [
       "681"
      ]
     },
     "execution_count": 40,
     "metadata": {},
     "output_type": "execute_result"
    }
   ],
   "source": [
    "len(train_df.Ticket.unique())"
   ]
  },
  {
   "cell_type": "markdown",
   "id": "exclusive-netscape",
   "metadata": {
    "papermill": {
     "duration": 0.132593,
     "end_time": "2021-05-19T14:08:16.228860",
     "exception": false,
     "start_time": "2021-05-19T14:08:16.096267",
     "status": "completed"
    },
    "tags": []
   },
   "source": [
    "<a id = '2.10'></a>\n",
    "<p style = \"font-size : 25px; color : #34656d ; font-family : 'Comic Sans MS'; text-align : center; background-color : #fbc6a4; border-radius: 5px 5px;\"><strong>Embarked Column</strong></p> "
   ]
  },
  {
   "cell_type": "code",
   "execution_count": 41,
   "id": "listed-pocket",
   "metadata": {
    "execution": {
     "iopub.execute_input": "2021-05-19T14:08:16.502417Z",
     "iopub.status.busy": "2021-05-19T14:08:16.501652Z",
     "iopub.status.idle": "2021-05-19T14:08:16.506262Z",
     "shell.execute_reply": "2021-05-19T14:08:16.505647Z"
    },
    "papermill": {
     "duration": 0.143835,
     "end_time": "2021-05-19T14:08:16.506389",
     "exception": false,
     "start_time": "2021-05-19T14:08:16.362554",
     "status": "completed"
    },
    "tags": []
   },
   "outputs": [
    {
     "data": {
      "text/plain": [
       "S    644\n",
       "C    168\n",
       "Q     77\n",
       "Name: Embarked, dtype: int64"
      ]
     },
     "execution_count": 41,
     "metadata": {},
     "output_type": "execute_result"
    }
   ],
   "source": [
    "train_df['Embarked'].value_counts()"
   ]
  },
  {
   "cell_type": "code",
   "execution_count": 42,
   "id": "given-parameter",
   "metadata": {
    "execution": {
     "iopub.execute_input": "2021-05-19T14:08:16.699174Z",
     "iopub.status.busy": "2021-05-19T14:08:16.698675Z",
     "iopub.status.idle": "2021-05-19T14:08:16.832975Z",
     "shell.execute_reply": "2021-05-19T14:08:16.832317Z"
    },
    "papermill": {
     "duration": 0.231563,
     "end_time": "2021-05-19T14:08:16.833160",
     "exception": false,
     "start_time": "2021-05-19T14:08:16.601597",
     "status": "completed"
    },
    "tags": []
   },
   "outputs": [
    {
     "data": {
      "image/png": "[encoded data removed]",
      "text/plain": [
       "<Figure size 1008x432 with 1 Axes>"
      ]
     },
     "metadata": {},
     "output_type": "display_data"
    }
   ],
   "source": [
    "plt.figure(figsize = (14, 6))\n",
    "\n",
    "sns.countplot('Embarked', hue = 'Survived', data = train_df)\n",
    "plt.show()"
   ]
  },
  {
   "cell_type": "code",
   "execution_count": 43,
   "id": "welsh-lunch",
   "metadata": {
    "execution": {
     "iopub.execute_input": "2021-05-19T14:08:17.109835Z",
     "iopub.status.busy": "2021-05-19T14:08:17.109022Z",
     "iopub.status.idle": "2021-05-19T14:08:17.491860Z",
     "shell.execute_reply": "2021-05-19T14:08:17.491166Z"
    },
    "papermill": {
     "duration": 0.523038,
     "end_time": "2021-05-19T14:08:17.491999",
     "exception": false,
     "start_time": "2021-05-19T14:08:16.968961",
     "status": "completed"
    },
    "tags": []
   },
   "outputs": [
    {
     "data": {
      "image/png": "[encoded data removed]",
      "text/plain": [
       "<Figure size 720x360 with 2 Axes>"
      ]
     },
     "metadata": {},
     "output_type": "display_data"
    }
   ],
   "source": [
    "sns.catplot(x = 'Embarked', y = 'Survived', kind = 'bar', data = train_df, col = 'Sex')\n",
    "plt.show()"
   ]
  },
  {
   "cell_type": "markdown",
   "id": "ahead-teacher",
   "metadata": {
    "papermill": {
     "duration": 0.091561,
     "end_time": "2021-05-19T14:08:17.676978",
     "exception": false,
     "start_time": "2021-05-19T14:08:17.585417",
     "status": "completed"
    },
    "tags": []
   },
   "source": [
    "<a id = '3.0'></a>\n",
    "<p style = \"font-size : 30px; color : #4e8d7c ; font-family : 'Comic Sans MS';\"><strong>Findings From EDA :-</strong></p>\n",
    "\n",
    "<ul>\n",
    "    <li style = \"color : #03506f; font-size : 18px; font-family : 'Comic Sans MS';\"><strong>Females Survived more than Males.</strong></li>\n",
    "    <li style = \"color : #03506f; font-size : 18px; font-family : 'Comic Sans MS';\"><strong>Passengers Travelling in Higher Class Survived More than Passengers travelling in Lower Class.</strong></li>\n",
    "    <li style = \"color : #03506f; font-size : 18px; font-family : 'Comic Sans MS';\"><strong>Name column is having all unique values so this column is not suitable for prediction, we have to drop it.</strong></li>\n",
    "    <li style = \"color : #03506f; font-size : 18px; font-family : 'Comic Sans MS';\"><strong>In First Class Females were more than Males, that's why Fare of Females Passengers were high.</strong></li>\n",
    "    <li style = \"color : #03506f; font-size : 18px; font-family : 'Comic Sans MS';\"><strong>Survival Rate is higher for those who were travelling with siblings or spouses.</strong></li>\n",
    "    <li style = \"color : #03506f; font-size : 18px; font-family : 'Comic Sans MS';\"><strong>Passengers travelling with parents or children have higher survival rate.</strong></li>\n",
    "    <li style = \"color : #03506f; font-size : 18px; font-family : 'Comic Sans MS';\"><strong>Ticket column is not useful and does not have an impact on survival.</strong></li>\n",
    "    <li style = \"color : #03506f; font-size : 18px; font-family : 'Comic Sans MS';\"><strong>Cabin column have a lot of null values , it will be better to drop this column.</strong></li>\n",
    "    <li style = \"color : #03506f; font-size : 18px; font-family : 'Comic Sans MS';\"><strong>Passengers travelling from Cherbourg port survived more than passengers travelling from other two ports.</strong></li>\n",
    "</ul>"
   ]
  },
  {
   "cell_type": "markdown",
   "id": "polished-spoke",
   "metadata": {
    "papermill": {
     "duration": 0.136998,
     "end_time": "2021-05-19T14:08:17.906660",
     "exception": false,
     "start_time": "2021-05-19T14:08:17.769662",
     "status": "completed"
    },
    "tags": []
   },
   "source": [
    "<a id = '4.0'></a>\n",
    "<p style = \"font-size : 35px; color : #34656d ; font-family : 'Comic Sans MS'; text-align : center; background-color : #f9b208; border-radius: 5px 5px;\"><strong>Data Pre-Processing</strong></p> "
   ]
  },
  {
   "cell_type": "code",
   "execution_count": 44,
   "id": "incredible-orientation",
   "metadata": {
    "execution": {
     "iopub.execute_input": "2021-05-19T14:08:18.180601Z",
     "iopub.status.busy": "2021-05-19T14:08:18.180027Z",
     "iopub.status.idle": "2021-05-19T14:08:18.181997Z",
     "shell.execute_reply": "2021-05-19T14:08:18.181508Z"
    },
    "papermill": {
     "duration": 0.141156,
     "end_time": "2021-05-19T14:08:18.182109",
     "exception": false,
     "start_time": "2021-05-19T14:08:18.040953",
     "status": "completed"
    },
    "tags": []
   },
   "outputs": [],
   "source": [
    "# dropping useless columns\n",
    "\n",
    "train_df.drop(['PassengerId', 'Name', 'Ticket', 'Cabin'], axis = 1, inplace = True)"
   ]
  },
  {
   "cell_type": "code",
   "execution_count": 45,
   "id": "classical-julian",
   "metadata": {
    "execution": {
     "iopub.execute_input": "2021-05-19T14:08:18.464810Z",
     "iopub.status.busy": "2021-05-19T14:08:18.461226Z",
     "iopub.status.idle": "2021-05-19T14:08:18.468929Z",
     "shell.execute_reply": "2021-05-19T14:08:18.468533Z"
    },
    "papermill": {
     "duration": 0.152173,
     "end_time": "2021-05-19T14:08:18.469039",
     "exception": false,
     "start_time": "2021-05-19T14:08:18.316866",
     "status": "completed"
    },
    "tags": []
   },
   "outputs": [
    {
     "data": {
      "text/html": [
       "<div>\n",
       "<style scoped>\n",
       "    .dataframe tbody tr th:only-of-type {\n",
       "        vertical-align: middle;\n",
       "    }\n",
       "\n",
       "    .dataframe tbody tr th {\n",
       "        vertical-align: top;\n",
       "    }\n",
       "\n",
       "    .dataframe thead th {\n",
       "        text-align: right;\n",
       "    }\n",
       "</style>\n",
       "<table border=\"1\" class=\"dataframe\">\n",
       "  <thead>\n",
       "    <tr style=\"text-align: right;\">\n",
       "      <th></th>\n",
       "      <th>Survived</th>\n",
       "      <th>Pclass</th>\n",
       "      <th>Sex</th>\n",
       "      <th>Age</th>\n",
       "      <th>SibSp</th>\n",
       "      <th>Parch</th>\n",
       "      <th>Fare</th>\n",
       "      <th>Embarked</th>\n",
       "    </tr>\n",
       "  </thead>\n",
       "  <tbody>\n",
       "    <tr>\n",
       "      <th>0</th>\n",
       "      <td>0</td>\n",
       "      <td>3</td>\n",
       "      <td>male</td>\n",
       "      <td>22.0</td>\n",
       "      <td>1</td>\n",
       "      <td>0</td>\n",
       "      <td>7.2500</td>\n",
       "      <td>S</td>\n",
       "    </tr>\n",
       "    <tr>\n",
       "      <th>1</th>\n",
       "      <td>1</td>\n",
       "      <td>1</td>\n",
       "      <td>female</td>\n",
       "      <td>38.0</td>\n",
       "      <td>1</td>\n",
       "      <td>0</td>\n",
       "      <td>71.2833</td>\n",
       "      <td>C</td>\n",
       "    </tr>\n",
       "    <tr>\n",
       "      <th>2</th>\n",
       "      <td>1</td>\n",
       "      <td>3</td>\n",
       "      <td>female</td>\n",
       "      <td>26.0</td>\n",
       "      <td>0</td>\n",
       "      <td>0</td>\n",
       "      <td>7.9250</td>\n",
       "      <td>S</td>\n",
       "    </tr>\n",
       "    <tr>\n",
       "      <th>3</th>\n",
       "      <td>1</td>\n",
       "      <td>1</td>\n",
       "      <td>female</td>\n",
       "      <td>35.0</td>\n",
       "      <td>1</td>\n",
       "      <td>0</td>\n",
       "      <td>53.1000</td>\n",
       "      <td>S</td>\n",
       "    </tr>\n",
       "    <tr>\n",
       "      <th>4</th>\n",
       "      <td>0</td>\n",
       "      <td>3</td>\n",
       "      <td>male</td>\n",
       "      <td>35.0</td>\n",
       "      <td>0</td>\n",
       "      <td>0</td>\n",
       "      <td>8.0500</td>\n",
       "      <td>S</td>\n",
       "    </tr>\n",
       "  </tbody>\n",
       "</table>\n",
       "</div>"
      ],
      "text/plain": [
       "   Survived  Pclass     Sex   Age  SibSp  Parch     Fare Embarked\n",
       "0         0       3    male  22.0      1      0   7.2500        S\n",
       "1         1       1  female  38.0      1      0  71.2833        C\n",
       "2         1       3  female  26.0      0      0   7.9250        S\n",
       "3         1       1  female  35.0      1      0  53.1000        S\n",
       "4         0       3    male  35.0      0      0   8.0500        S"
      ]
     },
     "execution_count": 45,
     "metadata": {},
     "output_type": "execute_result"
    }
   ],
   "source": [
    "train_df.head()"
   ]
  },
  {
   "cell_type": "code",
   "execution_count": 46,
   "id": "killing-hands",
   "metadata": {
    "execution": {
     "iopub.execute_input": "2021-05-19T14:08:18.663050Z",
     "iopub.status.busy": "2021-05-19T14:08:18.662614Z",
     "iopub.status.idle": "2021-05-19T14:08:18.665092Z",
     "shell.execute_reply": "2021-05-19T14:08:18.665490Z"
    },
    "papermill": {
     "duration": 0.101591,
     "end_time": "2021-05-19T14:08:18.665593",
     "exception": false,
     "start_time": "2021-05-19T14:08:18.564002",
     "status": "completed"
    },
    "tags": []
   },
   "outputs": [
    {
     "data": {
      "text/plain": [
       "Survived      0\n",
       "Pclass        0\n",
       "Sex           0\n",
       "Age         177\n",
       "SibSp         0\n",
       "Parch         0\n",
       "Fare          0\n",
       "Embarked      2\n",
       "dtype: int64"
      ]
     },
     "execution_count": 46,
     "metadata": {},
     "output_type": "execute_result"
    }
   ],
   "source": [
    "train_df.isna().sum()"
   ]
  },
  {
   "cell_type": "code",
   "execution_count": 47,
   "id": "french-resistance",
   "metadata": {
    "execution": {
     "iopub.execute_input": "2021-05-19T14:08:18.870155Z",
     "iopub.status.busy": "2021-05-19T14:08:18.869679Z",
     "iopub.status.idle": "2021-05-19T14:08:18.876665Z",
     "shell.execute_reply": "2021-05-19T14:08:18.876021Z"
    },
    "papermill": {
     "duration": 0.108189,
     "end_time": "2021-05-19T14:08:18.876837",
     "exception": false,
     "start_time": "2021-05-19T14:08:18.768648",
     "status": "completed"
    },
    "tags": []
   },
   "outputs": [],
   "source": [
    "# replacing Zero values of \"Fare\" column with mean of column\n",
    "\n",
    "train_df['Fare'] = train_df['Fare'].replace(0, train_df['Fare'].mean())"
   ]
  },
  {
   "cell_type": "code",
   "execution_count": 48,
   "id": "included-dayton",
   "metadata": {
    "execution": {
     "iopub.execute_input": "2021-05-19T14:08:19.154160Z",
     "iopub.status.busy": "2021-05-19T14:08:19.153539Z",
     "iopub.status.idle": "2021-05-19T14:08:19.158789Z",
     "shell.execute_reply": "2021-05-19T14:08:19.158271Z"
    },
    "papermill": {
     "duration": 0.139395,
     "end_time": "2021-05-19T14:08:19.158933",
     "exception": false,
     "start_time": "2021-05-19T14:08:19.019538",
     "status": "completed"
    },
    "tags": []
   },
   "outputs": [],
   "source": [
    "# filling null values of \"Age\" column with mean value of the column\n",
    "\n",
    "train_df['Age'].fillna(train_df['Age'].mean(), inplace = True)"
   ]
  },
  {
   "cell_type": "code",
   "execution_count": 49,
   "id": "social-least",
   "metadata": {
    "execution": {
     "iopub.execute_input": "2021-05-19T14:08:19.440186Z",
     "iopub.status.busy": "2021-05-19T14:08:19.439725Z",
     "iopub.status.idle": "2021-05-19T14:08:19.441366Z",
     "shell.execute_reply": "2021-05-19T14:08:19.441730Z"
    },
    "papermill": {
     "duration": 0.143508,
     "end_time": "2021-05-19T14:08:19.441853",
     "exception": false,
     "start_time": "2021-05-19T14:08:19.298345",
     "status": "completed"
    },
    "tags": []
   },
   "outputs": [],
   "source": [
    "# filling null values of \"Embarked\" column with mode value of the column\n",
    "\n",
    "train_df['Embarked'].fillna(train_df['Embarked'].mode()[0], inplace = True)"
   ]
  },
  {
   "cell_type": "code",
   "execution_count": 50,
   "id": "modified-implement",
   "metadata": {
    "execution": {
     "iopub.execute_input": "2021-05-19T14:08:19.631739Z",
     "iopub.status.busy": "2021-05-19T14:08:19.631315Z",
     "iopub.status.idle": "2021-05-19T14:08:19.639022Z",
     "shell.execute_reply": "2021-05-19T14:08:19.638621Z"
    },
    "papermill": {
     "duration": 0.103346,
     "end_time": "2021-05-19T14:08:19.639127",
     "exception": false,
     "start_time": "2021-05-19T14:08:19.535781",
     "status": "completed"
    },
    "tags": []
   },
   "outputs": [
    {
     "data": {
      "text/plain": [
       "Survived    0\n",
       "Pclass      0\n",
       "Sex         0\n",
       "Age         0\n",
       "SibSp       0\n",
       "Parch       0\n",
       "Fare        0\n",
       "Embarked    0\n",
       "dtype: int64"
      ]
     },
     "execution_count": 50,
     "metadata": {},
     "output_type": "execute_result"
    }
   ],
   "source": [
    "# checking for null values after filling null values\n",
    "\n",
    "train_df.isna().sum()"
   ]
  },
  {
   "cell_type": "code",
   "execution_count": 51,
   "id": "opposed-bolivia",
   "metadata": {
    "execution": {
     "iopub.execute_input": "2021-05-19T14:08:19.838717Z",
     "iopub.status.busy": "2021-05-19T14:08:19.838251Z",
     "iopub.status.idle": "2021-05-19T14:08:19.842184Z",
     "shell.execute_reply": "2021-05-19T14:08:19.841777Z"
    },
    "papermill": {
     "duration": 0.109337,
     "end_time": "2021-05-19T14:08:19.842281",
     "exception": false,
     "start_time": "2021-05-19T14:08:19.732944",
     "status": "completed"
    },
    "tags": []
   },
   "outputs": [
    {
     "data": {
      "text/html": [
       "<div>\n",
       "<style scoped>\n",
       "    .dataframe tbody tr th:only-of-type {\n",
       "        vertical-align: middle;\n",
       "    }\n",
       "\n",
       "    .dataframe tbody tr th {\n",
       "        vertical-align: top;\n",
       "    }\n",
       "\n",
       "    .dataframe thead th {\n",
       "        text-align: right;\n",
       "    }\n",
       "</style>\n",
       "<table border=\"1\" class=\"dataframe\">\n",
       "  <thead>\n",
       "    <tr style=\"text-align: right;\">\n",
       "      <th></th>\n",
       "      <th>Survived</th>\n",
       "      <th>Pclass</th>\n",
       "      <th>Sex</th>\n",
       "      <th>Age</th>\n",
       "      <th>SibSp</th>\n",
       "      <th>Parch</th>\n",
       "      <th>Fare</th>\n",
       "      <th>Embarked</th>\n",
       "    </tr>\n",
       "  </thead>\n",
       "  <tbody>\n",
       "    <tr>\n",
       "      <th>0</th>\n",
       "      <td>0</td>\n",
       "      <td>3</td>\n",
       "      <td>male</td>\n",
       "      <td>22.0</td>\n",
       "      <td>1</td>\n",
       "      <td>0</td>\n",
       "      <td>7.2500</td>\n",
       "      <td>S</td>\n",
       "    </tr>\n",
       "    <tr>\n",
       "      <th>1</th>\n",
       "      <td>1</td>\n",
       "      <td>1</td>\n",
       "      <td>female</td>\n",
       "      <td>38.0</td>\n",
       "      <td>1</td>\n",
       "      <td>0</td>\n",
       "      <td>71.2833</td>\n",
       "      <td>C</td>\n",
       "    </tr>\n",
       "    <tr>\n",
       "      <th>2</th>\n",
       "      <td>1</td>\n",
       "      <td>3</td>\n",
       "      <td>female</td>\n",
       "      <td>26.0</td>\n",
       "      <td>0</td>\n",
       "      <td>0</td>\n",
       "      <td>7.9250</td>\n",
       "      <td>S</td>\n",
       "    </tr>\n",
       "    <tr>\n",
       "      <th>3</th>\n",
       "      <td>1</td>\n",
       "      <td>1</td>\n",
       "      <td>female</td>\n",
       "      <td>35.0</td>\n",
       "      <td>1</td>\n",
       "      <td>0</td>\n",
       "      <td>53.1000</td>\n",
       "      <td>S</td>\n",
       "    </tr>\n",
       "    <tr>\n",
       "      <th>4</th>\n",
       "      <td>0</td>\n",
       "      <td>3</td>\n",
       "      <td>male</td>\n",
       "      <td>35.0</td>\n",
       "      <td>0</td>\n",
       "      <td>0</td>\n",
       "      <td>8.0500</td>\n",
       "      <td>S</td>\n",
       "    </tr>\n",
       "  </tbody>\n",
       "</table>\n",
       "</div>"
      ],
      "text/plain": [
       "   Survived  Pclass     Sex   Age  SibSp  Parch     Fare Embarked\n",
       "0         0       3    male  22.0      1      0   7.2500        S\n",
       "1         1       1  female  38.0      1      0  71.2833        C\n",
       "2         1       3  female  26.0      0      0   7.9250        S\n",
       "3         1       1  female  35.0      1      0  53.1000        S\n",
       "4         0       3    male  35.0      0      0   8.0500        S"
      ]
     },
     "execution_count": 51,
     "metadata": {},
     "output_type": "execute_result"
    }
   ],
   "source": [
    "train_df.head()"
   ]
  },
  {
   "cell_type": "code",
   "execution_count": 52,
   "id": "coordinate-stretch",
   "metadata": {
    "execution": {
     "iopub.execute_input": "2021-05-19T14:08:20.035372Z",
     "iopub.status.busy": "2021-05-19T14:08:20.034831Z",
     "iopub.status.idle": "2021-05-19T14:08:20.037832Z",
     "shell.execute_reply": "2021-05-19T14:08:20.037398Z"
    },
    "papermill": {
     "duration": 0.102114,
     "end_time": "2021-05-19T14:08:20.037956",
     "exception": false,
     "start_time": "2021-05-19T14:08:19.935842",
     "status": "completed"
    },
    "tags": []
   },
   "outputs": [],
   "source": [
    "train_df['Sex'] = train_df['Sex'].apply(lambda val: 1 if val == 'male' else 0)"
   ]
  },
  {
   "cell_type": "code",
   "execution_count": 53,
   "id": "forced-thong",
   "metadata": {
    "execution": {
     "iopub.execute_input": "2021-05-19T14:08:20.230040Z",
     "iopub.status.busy": "2021-05-19T14:08:20.229556Z",
     "iopub.status.idle": "2021-05-19T14:08:20.231842Z",
     "shell.execute_reply": "2021-05-19T14:08:20.231489Z"
    },
    "papermill": {
     "duration": 0.100606,
     "end_time": "2021-05-19T14:08:20.231980",
     "exception": false,
     "start_time": "2021-05-19T14:08:20.131374",
     "status": "completed"
    },
    "tags": []
   },
   "outputs": [],
   "source": [
    "train_df['Embarked'] = train_df['Embarked'].map({'S' : 0, 'C': 1, 'Q': 2})"
   ]
  },
  {
   "cell_type": "code",
   "execution_count": 54,
   "id": "several-dragon",
   "metadata": {
    "execution": {
     "iopub.execute_input": "2021-05-19T14:08:20.428374Z",
     "iopub.status.busy": "2021-05-19T14:08:20.427750Z",
     "iopub.status.idle": "2021-05-19T14:08:20.431280Z",
     "shell.execute_reply": "2021-05-19T14:08:20.430917Z"
    },
    "papermill": {
     "duration": 0.105792,
     "end_time": "2021-05-19T14:08:20.431378",
     "exception": false,
     "start_time": "2021-05-19T14:08:20.325586",
     "status": "completed"
    },
    "tags": []
   },
   "outputs": [
    {
     "data": {
      "text/html": [
       "<div>\n",
       "<style scoped>\n",
       "    .dataframe tbody tr th:only-of-type {\n",
       "        vertical-align: middle;\n",
       "    }\n",
       "\n",
       "    .dataframe tbody tr th {\n",
       "        vertical-align: top;\n",
       "    }\n",
       "\n",
       "    .dataframe thead th {\n",
       "        text-align: right;\n",
       "    }\n",
       "</style>\n",
       "<table border=\"1\" class=\"dataframe\">\n",
       "  <thead>\n",
       "    <tr style=\"text-align: right;\">\n",
       "      <th></th>\n",
       "      <th>Survived</th>\n",
       "      <th>Pclass</th>\n",
       "      <th>Sex</th>\n",
       "      <th>Age</th>\n",
       "      <th>SibSp</th>\n",
       "      <th>Parch</th>\n",
       "      <th>Fare</th>\n",
       "      <th>Embarked</th>\n",
       "    </tr>\n",
       "  </thead>\n",
       "  <tbody>\n",
       "    <tr>\n",
       "      <th>0</th>\n",
       "      <td>0</td>\n",
       "      <td>3</td>\n",
       "      <td>1</td>\n",
       "      <td>22.0</td>\n",
       "      <td>1</td>\n",
       "      <td>0</td>\n",
       "      <td>7.2500</td>\n",
       "      <td>0</td>\n",
       "    </tr>\n",
       "    <tr>\n",
       "      <th>1</th>\n",
       "      <td>1</td>\n",
       "      <td>1</td>\n",
       "      <td>0</td>\n",
       "      <td>38.0</td>\n",
       "      <td>1</td>\n",
       "      <td>0</td>\n",
       "      <td>71.2833</td>\n",
       "      <td>1</td>\n",
       "    </tr>\n",
       "    <tr>\n",
       "      <th>2</th>\n",
       "      <td>1</td>\n",
       "      <td>3</td>\n",
       "      <td>0</td>\n",
       "      <td>26.0</td>\n",
       "      <td>0</td>\n",
       "      <td>0</td>\n",
       "      <td>7.9250</td>\n",
       "      <td>0</td>\n",
       "    </tr>\n",
       "    <tr>\n",
       "      <th>3</th>\n",
       "      <td>1</td>\n",
       "      <td>1</td>\n",
       "      <td>0</td>\n",
       "      <td>35.0</td>\n",
       "      <td>1</td>\n",
       "      <td>0</td>\n",
       "      <td>53.1000</td>\n",
       "      <td>0</td>\n",
       "    </tr>\n",
       "    <tr>\n",
       "      <th>4</th>\n",
       "      <td>0</td>\n",
       "      <td>3</td>\n",
       "      <td>1</td>\n",
       "      <td>35.0</td>\n",
       "      <td>0</td>\n",
       "      <td>0</td>\n",
       "      <td>8.0500</td>\n",
       "      <td>0</td>\n",
       "    </tr>\n",
       "  </tbody>\n",
       "</table>\n",
       "</div>"
      ],
      "text/plain": [
       "   Survived  Pclass  Sex   Age  SibSp  Parch     Fare  Embarked\n",
       "0         0       3    1  22.0      1      0   7.2500         0\n",
       "1         1       1    0  38.0      1      0  71.2833         1\n",
       "2         1       3    0  26.0      0      0   7.9250         0\n",
       "3         1       1    0  35.0      1      0  53.1000         0\n",
       "4         0       3    1  35.0      0      0   8.0500         0"
      ]
     },
     "execution_count": 54,
     "metadata": {},
     "output_type": "execute_result"
    }
   ],
   "source": [
    "train_df.head()"
   ]
  },
  {
   "cell_type": "code",
   "execution_count": 55,
   "id": "chronic-senator",
   "metadata": {
    "execution": {
     "iopub.execute_input": "2021-05-19T14:08:20.640766Z",
     "iopub.status.busy": "2021-05-19T14:08:20.639039Z",
     "iopub.status.idle": "2021-05-19T14:08:20.664309Z",
     "shell.execute_reply": "2021-05-19T14:08:20.663919Z"
    },
    "papermill": {
     "duration": 0.135244,
     "end_time": "2021-05-19T14:08:20.664415",
     "exception": false,
     "start_time": "2021-05-19T14:08:20.529171",
     "status": "completed"
    },
    "tags": []
   },
   "outputs": [
    {
     "data": {
      "text/html": [
       "<div>\n",
       "<style scoped>\n",
       "    .dataframe tbody tr th:only-of-type {\n",
       "        vertical-align: middle;\n",
       "    }\n",
       "\n",
       "    .dataframe tbody tr th {\n",
       "        vertical-align: top;\n",
       "    }\n",
       "\n",
       "    .dataframe thead th {\n",
       "        text-align: right;\n",
       "    }\n",
       "</style>\n",
       "<table border=\"1\" class=\"dataframe\">\n",
       "  <thead>\n",
       "    <tr style=\"text-align: right;\">\n",
       "      <th></th>\n",
       "      <th>Survived</th>\n",
       "      <th>Pclass</th>\n",
       "      <th>Sex</th>\n",
       "      <th>Age</th>\n",
       "      <th>SibSp</th>\n",
       "      <th>Parch</th>\n",
       "      <th>Fare</th>\n",
       "      <th>Embarked</th>\n",
       "    </tr>\n",
       "  </thead>\n",
       "  <tbody>\n",
       "    <tr>\n",
       "      <th>count</th>\n",
       "      <td>891.000000</td>\n",
       "      <td>891.000000</td>\n",
       "      <td>891.000000</td>\n",
       "      <td>891.000000</td>\n",
       "      <td>891.000000</td>\n",
       "      <td>891.000000</td>\n",
       "      <td>891.000000</td>\n",
       "      <td>891.000000</td>\n",
       "    </tr>\n",
       "    <tr>\n",
       "      <th>mean</th>\n",
       "      <td>0.383838</td>\n",
       "      <td>2.308642</td>\n",
       "      <td>0.647587</td>\n",
       "      <td>29.699118</td>\n",
       "      <td>0.523008</td>\n",
       "      <td>0.381594</td>\n",
       "      <td>32.746366</td>\n",
       "      <td>0.361392</td>\n",
       "    </tr>\n",
       "    <tr>\n",
       "      <th>std</th>\n",
       "      <td>0.486592</td>\n",
       "      <td>0.836071</td>\n",
       "      <td>0.477990</td>\n",
       "      <td>13.002015</td>\n",
       "      <td>1.102743</td>\n",
       "      <td>0.806057</td>\n",
       "      <td>49.514272</td>\n",
       "      <td>0.635673</td>\n",
       "    </tr>\n",
       "    <tr>\n",
       "      <th>min</th>\n",
       "      <td>0.000000</td>\n",
       "      <td>1.000000</td>\n",
       "      <td>0.000000</td>\n",
       "      <td>0.420000</td>\n",
       "      <td>0.000000</td>\n",
       "      <td>0.000000</td>\n",
       "      <td>4.012500</td>\n",
       "      <td>0.000000</td>\n",
       "    </tr>\n",
       "    <tr>\n",
       "      <th>25%</th>\n",
       "      <td>0.000000</td>\n",
       "      <td>2.000000</td>\n",
       "      <td>0.000000</td>\n",
       "      <td>22.000000</td>\n",
       "      <td>0.000000</td>\n",
       "      <td>0.000000</td>\n",
       "      <td>7.925000</td>\n",
       "      <td>0.000000</td>\n",
       "    </tr>\n",
       "    <tr>\n",
       "      <th>50%</th>\n",
       "      <td>0.000000</td>\n",
       "      <td>3.000000</td>\n",
       "      <td>1.000000</td>\n",
       "      <td>29.699118</td>\n",
       "      <td>0.000000</td>\n",
       "      <td>0.000000</td>\n",
       "      <td>15.100000</td>\n",
       "      <td>0.000000</td>\n",
       "    </tr>\n",
       "    <tr>\n",
       "      <th>75%</th>\n",
       "      <td>1.000000</td>\n",
       "      <td>3.000000</td>\n",
       "      <td>1.000000</td>\n",
       "      <td>35.000000</td>\n",
       "      <td>1.000000</td>\n",
       "      <td>0.000000</td>\n",
       "      <td>32.204208</td>\n",
       "      <td>1.000000</td>\n",
       "    </tr>\n",
       "    <tr>\n",
       "      <th>max</th>\n",
       "      <td>1.000000</td>\n",
       "      <td>3.000000</td>\n",
       "      <td>1.000000</td>\n",
       "      <td>80.000000</td>\n",
       "      <td>8.000000</td>\n",
       "      <td>6.000000</td>\n",
       "      <td>512.329200</td>\n",
       "      <td>2.000000</td>\n",
       "    </tr>\n",
       "  </tbody>\n",
       "</table>\n",
       "</div>"
      ],
      "text/plain": [
       "         Survived      Pclass         Sex         Age       SibSp       Parch  \\\n",
       "count  891.000000  891.000000  891.000000  891.000000  891.000000  891.000000   \n",
       "mean     0.383838    2.308642    0.647587   29.699118    0.523008    0.381594   \n",
       "std      0.486592    0.836071    0.477990   13.002015    1.102743    0.806057   \n",
       "min      0.000000    1.000000    0.000000    0.420000    0.000000    0.000000   \n",
       "25%      0.000000    2.000000    0.000000   22.000000    0.000000    0.000000   \n",
       "50%      0.000000    3.000000    1.000000   29.699118    0.000000    0.000000   \n",
       "75%      1.000000    3.000000    1.000000   35.000000    1.000000    0.000000   \n",
       "max      1.000000    3.000000    1.000000   80.000000    8.000000    6.000000   \n",
       "\n",
       "             Fare    Embarked  \n",
       "count  891.000000  891.000000  \n",
       "mean    32.746366    0.361392  \n",
       "std     49.514272    0.635673  \n",
       "min      4.012500    0.000000  \n",
       "25%      7.925000    0.000000  \n",
       "50%     15.100000    0.000000  \n",
       "75%     32.204208    1.000000  \n",
       "max    512.329200    2.000000  "
      ]
     },
     "execution_count": 55,
     "metadata": {},
     "output_type": "execute_result"
    }
   ],
   "source": [
    "train_df.describe()"
   ]
  },
  {
   "cell_type": "code",
   "execution_count": 56,
   "id": "considerable-wrapping",
   "metadata": {
    "execution": {
     "iopub.execute_input": "2021-05-19T14:08:20.859452Z",
     "iopub.status.busy": "2021-05-19T14:08:20.858851Z",
     "iopub.status.idle": "2021-05-19T14:08:20.862394Z",
     "shell.execute_reply": "2021-05-19T14:08:20.861945Z"
    },
    "papermill": {
     "duration": 0.103584,
     "end_time": "2021-05-19T14:08:20.862506",
     "exception": false,
     "start_time": "2021-05-19T14:08:20.758922",
     "status": "completed"
    },
    "tags": []
   },
   "outputs": [
    {
     "data": {
      "text/plain": [
       "Survived       0.236772\n",
       "Pclass         0.699015\n",
       "Sex            0.228475\n",
       "Age          169.052400\n",
       "SibSp          1.216043\n",
       "Parch          0.649728\n",
       "Fare        2451.663181\n",
       "Embarked       0.404081\n",
       "dtype: float64"
      ]
     },
     "execution_count": 56,
     "metadata": {},
     "output_type": "execute_result"
    }
   ],
   "source": [
    "train_df.var()"
   ]
  },
  {
   "cell_type": "markdown",
   "id": "rapid-tactics",
   "metadata": {
    "papermill": {
     "duration": 0.094216,
     "end_time": "2021-05-19T14:08:21.051775",
     "exception": false,
     "start_time": "2021-05-19T14:08:20.957559",
     "status": "completed"
    },
    "tags": []
   },
   "source": [
    "<p style = \"font-size : 20px; color : #34656d ; font-family : 'Comic Sans MS'; \"><strong>Variance in \"Fare\" column is very high so we have to normalize these columns.</strong></p> "
   ]
  },
  {
   "cell_type": "code",
   "execution_count": 57,
   "id": "minor-audio",
   "metadata": {
    "execution": {
     "iopub.execute_input": "2021-05-19T14:08:21.248518Z",
     "iopub.status.busy": "2021-05-19T14:08:21.247996Z",
     "iopub.status.idle": "2021-05-19T14:08:21.250726Z",
     "shell.execute_reply": "2021-05-19T14:08:21.249803Z"
    },
    "papermill": {
     "duration": 0.102114,
     "end_time": "2021-05-19T14:08:21.250864",
     "exception": false,
     "start_time": "2021-05-19T14:08:21.148750",
     "status": "completed"
    },
    "tags": []
   },
   "outputs": [],
   "source": [
    "train_df['Age'] = np.log(train_df['Age'])\n",
    "train_df['Fare'] = np.log(train_df['Fare'])"
   ]
  },
  {
   "cell_type": "code",
   "execution_count": 58,
   "id": "naval-milwaukee",
   "metadata": {
    "execution": {
     "iopub.execute_input": "2021-05-19T14:08:21.453576Z",
     "iopub.status.busy": "2021-05-19T14:08:21.453089Z",
     "iopub.status.idle": "2021-05-19T14:08:21.456130Z",
     "shell.execute_reply": "2021-05-19T14:08:21.455646Z"
    },
    "papermill": {
     "duration": 0.109325,
     "end_time": "2021-05-19T14:08:21.456237",
     "exception": false,
     "start_time": "2021-05-19T14:08:21.346912",
     "status": "completed"
    },
    "tags": []
   },
   "outputs": [
    {
     "data": {
      "text/html": [
       "<div>\n",
       "<style scoped>\n",
       "    .dataframe tbody tr th:only-of-type {\n",
       "        vertical-align: middle;\n",
       "    }\n",
       "\n",
       "    .dataframe tbody tr th {\n",
       "        vertical-align: top;\n",
       "    }\n",
       "\n",
       "    .dataframe thead th {\n",
       "        text-align: right;\n",
       "    }\n",
       "</style>\n",
       "<table border=\"1\" class=\"dataframe\">\n",
       "  <thead>\n",
       "    <tr style=\"text-align: right;\">\n",
       "      <th></th>\n",
       "      <th>Survived</th>\n",
       "      <th>Pclass</th>\n",
       "      <th>Sex</th>\n",
       "      <th>Age</th>\n",
       "      <th>SibSp</th>\n",
       "      <th>Parch</th>\n",
       "      <th>Fare</th>\n",
       "      <th>Embarked</th>\n",
       "    </tr>\n",
       "  </thead>\n",
       "  <tbody>\n",
       "    <tr>\n",
       "      <th>0</th>\n",
       "      <td>0</td>\n",
       "      <td>3</td>\n",
       "      <td>1</td>\n",
       "      <td>3.091042</td>\n",
       "      <td>1</td>\n",
       "      <td>0</td>\n",
       "      <td>1.981001</td>\n",
       "      <td>0</td>\n",
       "    </tr>\n",
       "    <tr>\n",
       "      <th>1</th>\n",
       "      <td>1</td>\n",
       "      <td>1</td>\n",
       "      <td>0</td>\n",
       "      <td>3.637586</td>\n",
       "      <td>1</td>\n",
       "      <td>0</td>\n",
       "      <td>4.266662</td>\n",
       "      <td>1</td>\n",
       "    </tr>\n",
       "    <tr>\n",
       "      <th>2</th>\n",
       "      <td>1</td>\n",
       "      <td>3</td>\n",
       "      <td>0</td>\n",
       "      <td>3.258097</td>\n",
       "      <td>0</td>\n",
       "      <td>0</td>\n",
       "      <td>2.070022</td>\n",
       "      <td>0</td>\n",
       "    </tr>\n",
       "    <tr>\n",
       "      <th>3</th>\n",
       "      <td>1</td>\n",
       "      <td>1</td>\n",
       "      <td>0</td>\n",
       "      <td>3.555348</td>\n",
       "      <td>1</td>\n",
       "      <td>0</td>\n",
       "      <td>3.972177</td>\n",
       "      <td>0</td>\n",
       "    </tr>\n",
       "    <tr>\n",
       "      <th>4</th>\n",
       "      <td>0</td>\n",
       "      <td>3</td>\n",
       "      <td>1</td>\n",
       "      <td>3.555348</td>\n",
       "      <td>0</td>\n",
       "      <td>0</td>\n",
       "      <td>2.085672</td>\n",
       "      <td>0</td>\n",
       "    </tr>\n",
       "  </tbody>\n",
       "</table>\n",
       "</div>"
      ],
      "text/plain": [
       "   Survived  Pclass  Sex       Age  SibSp  Parch      Fare  Embarked\n",
       "0         0       3    1  3.091042      1      0  1.981001         0\n",
       "1         1       1    0  3.637586      1      0  4.266662         1\n",
       "2         1       3    0  3.258097      0      0  2.070022         0\n",
       "3         1       1    0  3.555348      1      0  3.972177         0\n",
       "4         0       3    1  3.555348      0      0  2.085672         0"
      ]
     },
     "execution_count": 58,
     "metadata": {},
     "output_type": "execute_result"
    }
   ],
   "source": [
    "train_df.head()"
   ]
  },
  {
   "cell_type": "markdown",
   "id": "hairy-partition",
   "metadata": {
    "papermill": {
     "duration": 0.098732,
     "end_time": "2021-05-19T14:08:21.651359",
     "exception": false,
     "start_time": "2021-05-19T14:08:21.552627",
     "status": "completed"
    },
    "tags": []
   },
   "source": [
    "<p style = \"font-size : 20px; color : #34656d ; font-family : 'Comic Sans MS'; \"><strong>Now training data looks much better let's take a look at test data.</strong></p> "
   ]
  },
  {
   "cell_type": "code",
   "execution_count": 59,
   "id": "inside-fight",
   "metadata": {
    "execution": {
     "iopub.execute_input": "2021-05-19T14:08:21.846619Z",
     "iopub.status.busy": "2021-05-19T14:08:21.846167Z",
     "iopub.status.idle": "2021-05-19T14:08:21.858729Z",
     "shell.execute_reply": "2021-05-19T14:08:21.859119Z"
    },
    "papermill": {
     "duration": 0.110671,
     "end_time": "2021-05-19T14:08:21.859254",
     "exception": false,
     "start_time": "2021-05-19T14:08:21.748583",
     "status": "completed"
    },
    "tags": []
   },
   "outputs": [],
   "source": [
    "test_df = pd.read_csv('../input/titanic/test.csv')"
   ]
  },
  {
   "cell_type": "code",
   "execution_count": 60,
   "id": "bound-survival",
   "metadata": {
    "execution": {
     "iopub.execute_input": "2021-05-19T14:08:22.053289Z",
     "iopub.status.busy": "2021-05-19T14:08:22.052818Z",
     "iopub.status.idle": "2021-05-19T14:08:22.064669Z",
     "shell.execute_reply": "2021-05-19T14:08:22.065108Z"
    },
    "papermill": {
     "duration": 0.110312,
     "end_time": "2021-05-19T14:08:22.065232",
     "exception": false,
     "start_time": "2021-05-19T14:08:21.954920",
     "status": "completed"
    },
    "tags": []
   },
   "outputs": [
    {
     "data": {
      "text/html": [
       "<div>\n",
       "<style scoped>\n",
       "    .dataframe tbody tr th:only-of-type {\n",
       "        vertical-align: middle;\n",
       "    }\n",
       "\n",
       "    .dataframe tbody tr th {\n",
       "        vertical-align: top;\n",
       "    }\n",
       "\n",
       "    .dataframe thead th {\n",
       "        text-align: right;\n",
       "    }\n",
       "</style>\n",
       "<table border=\"1\" class=\"dataframe\">\n",
       "  <thead>\n",
       "    <tr style=\"text-align: right;\">\n",
       "      <th></th>\n",
       "      <th>PassengerId</th>\n",
       "      <th>Pclass</th>\n",
       "      <th>Name</th>\n",
       "      <th>Sex</th>\n",
       "      <th>Age</th>\n",
       "      <th>SibSp</th>\n",
       "      <th>Parch</th>\n",
       "      <th>Ticket</th>\n",
       "      <th>Fare</th>\n",
       "      <th>Cabin</th>\n",
       "      <th>Embarked</th>\n",
       "    </tr>\n",
       "  </thead>\n",
       "  <tbody>\n",
       "    <tr>\n",
       "      <th>0</th>\n",
       "      <td>892</td>\n",
       "      <td>3</td>\n",
       "      <td>Kelly, Mr. James</td>\n",
       "      <td>male</td>\n",
       "      <td>34.5</td>\n",
       "      <td>0</td>\n",
       "      <td>0</td>\n",
       "      <td>330911</td>\n",
       "      <td>7.8292</td>\n",
       "      <td>NaN</td>\n",
       "      <td>Q</td>\n",
       "    </tr>\n",
       "    <tr>\n",
       "      <th>1</th>\n",
       "      <td>893</td>\n",
       "      <td>3</td>\n",
       "      <td>Wilkes, Mrs. James (Ellen Needs)</td>\n",
       "      <td>female</td>\n",
       "      <td>47.0</td>\n",
       "      <td>1</td>\n",
       "      <td>0</td>\n",
       "      <td>363272</td>\n",
       "      <td>7.0000</td>\n",
       "      <td>NaN</td>\n",
       "      <td>S</td>\n",
       "    </tr>\n",
       "    <tr>\n",
       "      <th>2</th>\n",
       "      <td>894</td>\n",
       "      <td>2</td>\n",
       "      <td>Myles, Mr. Thomas Francis</td>\n",
       "      <td>male</td>\n",
       "      <td>62.0</td>\n",
       "      <td>0</td>\n",
       "      <td>0</td>\n",
       "      <td>240276</td>\n",
       "      <td>9.6875</td>\n",
       "      <td>NaN</td>\n",
       "      <td>Q</td>\n",
       "    </tr>\n",
       "    <tr>\n",
       "      <th>3</th>\n",
       "      <td>895</td>\n",
       "      <td>3</td>\n",
       "      <td>Wirz, Mr. Albert</td>\n",
       "      <td>male</td>\n",
       "      <td>27.0</td>\n",
       "      <td>0</td>\n",
       "      <td>0</td>\n",
       "      <td>315154</td>\n",
       "      <td>8.6625</td>\n",
       "      <td>NaN</td>\n",
       "      <td>S</td>\n",
       "    </tr>\n",
       "    <tr>\n",
       "      <th>4</th>\n",
       "      <td>896</td>\n",
       "      <td>3</td>\n",
       "      <td>Hirvonen, Mrs. Alexander (Helga E Lindqvist)</td>\n",
       "      <td>female</td>\n",
       "      <td>22.0</td>\n",
       "      <td>1</td>\n",
       "      <td>1</td>\n",
       "      <td>3101298</td>\n",
       "      <td>12.2875</td>\n",
       "      <td>NaN</td>\n",
       "      <td>S</td>\n",
       "    </tr>\n",
       "  </tbody>\n",
       "</table>\n",
       "</div>"
      ],
      "text/plain": [
       "   PassengerId  Pclass                                          Name     Sex  \\\n",
       "0          892       3                              Kelly, Mr. James    male   \n",
       "1          893       3              Wilkes, Mrs. James (Ellen Needs)  female   \n",
       "2          894       2                     Myles, Mr. Thomas Francis    male   \n",
       "3          895       3                              Wirz, Mr. Albert    male   \n",
       "4          896       3  Hirvonen, Mrs. Alexander (Helga E Lindqvist)  female   \n",
       "\n",
       "    Age  SibSp  Parch   Ticket     Fare Cabin Embarked  \n",
       "0  34.5      0      0   330911   7.8292   NaN        Q  \n",
       "1  47.0      1      0   363272   7.0000   NaN        S  \n",
       "2  62.0      0      0   240276   9.6875   NaN        Q  \n",
       "3  27.0      0      0   315154   8.6625   NaN        S  \n",
       "4  22.0      1      1  3101298  12.2875   NaN        S  "
      ]
     },
     "execution_count": 60,
     "metadata": {},
     "output_type": "execute_result"
    }
   ],
   "source": [
    "test_df.head()"
   ]
  },
  {
   "cell_type": "markdown",
   "id": "caroline-typing",
   "metadata": {
    "papermill": {
     "duration": 0.096498,
     "end_time": "2021-05-19T14:08:22.258280",
     "exception": false,
     "start_time": "2021-05-19T14:08:22.161782",
     "status": "completed"
    },
    "tags": []
   },
   "source": [
    "<p style = \"font-size : 20px; color : #34656d ; font-family : 'Comic Sans MS'; \"><strong>Performing same steps on test data.</strong></p> "
   ]
  },
  {
   "cell_type": "code",
   "execution_count": 61,
   "id": "micro-velvet",
   "metadata": {
    "execution": {
     "iopub.execute_input": "2021-05-19T14:08:22.452860Z",
     "iopub.status.busy": "2021-05-19T14:08:22.452437Z",
     "iopub.status.idle": "2021-05-19T14:08:22.458183Z",
     "shell.execute_reply": "2021-05-19T14:08:22.457771Z"
    },
    "papermill": {
     "duration": 0.104201,
     "end_time": "2021-05-19T14:08:22.458288",
     "exception": false,
     "start_time": "2021-05-19T14:08:22.354087",
     "status": "completed"
    },
    "tags": []
   },
   "outputs": [],
   "source": [
    "# dropping useless columns\n",
    "\n",
    "test_df.drop(['PassengerId', 'Name', 'Ticket', 'Cabin'], axis = 1, inplace = True)"
   ]
  },
  {
   "cell_type": "code",
   "execution_count": 62,
   "id": "fitted-corporation",
   "metadata": {
    "execution": {
     "iopub.execute_input": "2021-05-19T14:08:22.655972Z",
     "iopub.status.busy": "2021-05-19T14:08:22.655464Z",
     "iopub.status.idle": "2021-05-19T14:08:22.658269Z",
     "shell.execute_reply": "2021-05-19T14:08:22.657866Z"
    },
    "papermill": {
     "duration": 0.104291,
     "end_time": "2021-05-19T14:08:22.658370",
     "exception": false,
     "start_time": "2021-05-19T14:08:22.554079",
     "status": "completed"
    },
    "tags": []
   },
   "outputs": [],
   "source": [
    "# replacing Zero values of \"Fare\" column with mean of column\n",
    "\n",
    "test_df['Fare'] = test_df['Fare'].replace(0, test_df['Fare'].mean())"
   ]
  },
  {
   "cell_type": "code",
   "execution_count": 63,
   "id": "genuine-malpractice",
   "metadata": {
    "execution": {
     "iopub.execute_input": "2021-05-19T14:08:22.857700Z",
     "iopub.status.busy": "2021-05-19T14:08:22.857212Z",
     "iopub.status.idle": "2021-05-19T14:08:22.860389Z",
     "shell.execute_reply": "2021-05-19T14:08:22.859972Z"
    },
    "papermill": {
     "duration": 0.105116,
     "end_time": "2021-05-19T14:08:22.860518",
     "exception": false,
     "start_time": "2021-05-19T14:08:22.755402",
     "status": "completed"
    },
    "tags": []
   },
   "outputs": [],
   "source": [
    "# filling null values of \"Age\" column with mean value of the column\n",
    "\n",
    "test_df['Age'].fillna(test_df['Age'].mean(), inplace = True)"
   ]
  },
  {
   "cell_type": "code",
   "execution_count": 64,
   "id": "funny-intensity",
   "metadata": {
    "execution": {
     "iopub.execute_input": "2021-05-19T14:08:23.060045Z",
     "iopub.status.busy": "2021-05-19T14:08:23.059373Z",
     "iopub.status.idle": "2021-05-19T14:08:23.063383Z",
     "shell.execute_reply": "2021-05-19T14:08:23.063758Z"
    },
    "papermill": {
     "duration": 0.10301,
     "end_time": "2021-05-19T14:08:23.063907",
     "exception": false,
     "start_time": "2021-05-19T14:08:22.960897",
     "status": "completed"
    },
    "tags": []
   },
   "outputs": [],
   "source": [
    "# filling null values of \"Embarked\" column with mode value of the column\n",
    "\n",
    "test_df['Embarked'].fillna(test_df['Embarked'].mode()[0], inplace = True)"
   ]
  },
  {
   "cell_type": "code",
   "execution_count": 65,
   "id": "sunset-klein",
   "metadata": {
    "execution": {
     "iopub.execute_input": "2021-05-19T14:08:23.259186Z",
     "iopub.status.busy": "2021-05-19T14:08:23.258556Z",
     "iopub.status.idle": "2021-05-19T14:08:23.264294Z",
     "shell.execute_reply": "2021-05-19T14:08:23.264660Z"
    },
    "papermill": {
     "duration": 0.10438,
     "end_time": "2021-05-19T14:08:23.264786",
     "exception": false,
     "start_time": "2021-05-19T14:08:23.160406",
     "status": "completed"
    },
    "tags": []
   },
   "outputs": [
    {
     "data": {
      "text/plain": [
       "Pclass      0\n",
       "Sex         0\n",
       "Age         0\n",
       "SibSp       0\n",
       "Parch       0\n",
       "Fare        1\n",
       "Embarked    0\n",
       "dtype: int64"
      ]
     },
     "execution_count": 65,
     "metadata": {},
     "output_type": "execute_result"
    }
   ],
   "source": [
    "test_df.isna().sum()"
   ]
  },
  {
   "cell_type": "code",
   "execution_count": 66,
   "id": "nervous-nelson",
   "metadata": {
    "execution": {
     "iopub.execute_input": "2021-05-19T14:08:23.460928Z",
     "iopub.status.busy": "2021-05-19T14:08:23.460290Z",
     "iopub.status.idle": "2021-05-19T14:08:23.464053Z",
     "shell.execute_reply": "2021-05-19T14:08:23.464413Z"
    },
    "papermill": {
     "duration": 0.102972,
     "end_time": "2021-05-19T14:08:23.464538",
     "exception": false,
     "start_time": "2021-05-19T14:08:23.361566",
     "status": "completed"
    },
    "tags": []
   },
   "outputs": [],
   "source": [
    "# filling null values of \"Fare\" column with mean value of the column\n",
    "\n",
    "test_df['Fare'].fillna(test_df['Fare'].mean(), inplace = True)"
   ]
  },
  {
   "cell_type": "code",
   "execution_count": 67,
   "id": "threaded-short",
   "metadata": {
    "execution": {
     "iopub.execute_input": "2021-05-19T14:08:23.662166Z",
     "iopub.status.busy": "2021-05-19T14:08:23.661529Z",
     "iopub.status.idle": "2021-05-19T14:08:23.665514Z",
     "shell.execute_reply": "2021-05-19T14:08:23.665845Z"
    },
    "papermill": {
     "duration": 0.104816,
     "end_time": "2021-05-19T14:08:23.665997",
     "exception": false,
     "start_time": "2021-05-19T14:08:23.561181",
     "status": "completed"
    },
    "tags": []
   },
   "outputs": [],
   "source": [
    "test_df['Sex'] = test_df['Sex'].apply(lambda val: 1 if val == 'male' else 0)"
   ]
  },
  {
   "cell_type": "code",
   "execution_count": 68,
   "id": "parental-vehicle",
   "metadata": {
    "execution": {
     "iopub.execute_input": "2021-05-19T14:08:23.864371Z",
     "iopub.status.busy": "2021-05-19T14:08:23.863722Z",
     "iopub.status.idle": "2021-05-19T14:08:23.868173Z",
     "shell.execute_reply": "2021-05-19T14:08:23.868519Z"
    },
    "papermill": {
     "duration": 0.104467,
     "end_time": "2021-05-19T14:08:23.868637",
     "exception": false,
     "start_time": "2021-05-19T14:08:23.764170",
     "status": "completed"
    },
    "tags": []
   },
   "outputs": [],
   "source": [
    "test_df['Embarked'] = test_df['Embarked'].map({'S' : 0, 'C': 1, 'Q': 2})"
   ]
  },
  {
   "cell_type": "code",
   "execution_count": 69,
   "id": "pending-defense",
   "metadata": {
    "execution": {
     "iopub.execute_input": "2021-05-19T14:08:24.068870Z",
     "iopub.status.busy": "2021-05-19T14:08:24.068254Z",
     "iopub.status.idle": "2021-05-19T14:08:24.078306Z",
     "shell.execute_reply": "2021-05-19T14:08:24.077927Z"
    },
    "papermill": {
     "duration": 0.110822,
     "end_time": "2021-05-19T14:08:24.078413",
     "exception": false,
     "start_time": "2021-05-19T14:08:23.967591",
     "status": "completed"
    },
    "tags": []
   },
   "outputs": [
    {
     "data": {
      "text/html": [
       "<div>\n",
       "<style scoped>\n",
       "    .dataframe tbody tr th:only-of-type {\n",
       "        vertical-align: middle;\n",
       "    }\n",
       "\n",
       "    .dataframe tbody tr th {\n",
       "        vertical-align: top;\n",
       "    }\n",
       "\n",
       "    .dataframe thead th {\n",
       "        text-align: right;\n",
       "    }\n",
       "</style>\n",
       "<table border=\"1\" class=\"dataframe\">\n",
       "  <thead>\n",
       "    <tr style=\"text-align: right;\">\n",
       "      <th></th>\n",
       "      <th>Pclass</th>\n",
       "      <th>Sex</th>\n",
       "      <th>Age</th>\n",
       "      <th>SibSp</th>\n",
       "      <th>Parch</th>\n",
       "      <th>Fare</th>\n",
       "      <th>Embarked</th>\n",
       "    </tr>\n",
       "  </thead>\n",
       "  <tbody>\n",
       "    <tr>\n",
       "      <th>0</th>\n",
       "      <td>3</td>\n",
       "      <td>1</td>\n",
       "      <td>34.5</td>\n",
       "      <td>0</td>\n",
       "      <td>0</td>\n",
       "      <td>7.8292</td>\n",
       "      <td>2</td>\n",
       "    </tr>\n",
       "    <tr>\n",
       "      <th>1</th>\n",
       "      <td>3</td>\n",
       "      <td>0</td>\n",
       "      <td>47.0</td>\n",
       "      <td>1</td>\n",
       "      <td>0</td>\n",
       "      <td>7.0000</td>\n",
       "      <td>0</td>\n",
       "    </tr>\n",
       "    <tr>\n",
       "      <th>2</th>\n",
       "      <td>2</td>\n",
       "      <td>1</td>\n",
       "      <td>62.0</td>\n",
       "      <td>0</td>\n",
       "      <td>0</td>\n",
       "      <td>9.6875</td>\n",
       "      <td>2</td>\n",
       "    </tr>\n",
       "    <tr>\n",
       "      <th>3</th>\n",
       "      <td>3</td>\n",
       "      <td>1</td>\n",
       "      <td>27.0</td>\n",
       "      <td>0</td>\n",
       "      <td>0</td>\n",
       "      <td>8.6625</td>\n",
       "      <td>0</td>\n",
       "    </tr>\n",
       "    <tr>\n",
       "      <th>4</th>\n",
       "      <td>3</td>\n",
       "      <td>0</td>\n",
       "      <td>22.0</td>\n",
       "      <td>1</td>\n",
       "      <td>1</td>\n",
       "      <td>12.2875</td>\n",
       "      <td>0</td>\n",
       "    </tr>\n",
       "  </tbody>\n",
       "</table>\n",
       "</div>"
      ],
      "text/plain": [
       "   Pclass  Sex   Age  SibSp  Parch     Fare  Embarked\n",
       "0       3    1  34.5      0      0   7.8292         2\n",
       "1       3    0  47.0      1      0   7.0000         0\n",
       "2       2    1  62.0      0      0   9.6875         2\n",
       "3       3    1  27.0      0      0   8.6625         0\n",
       "4       3    0  22.0      1      1  12.2875         0"
      ]
     },
     "execution_count": 69,
     "metadata": {},
     "output_type": "execute_result"
    }
   ],
   "source": [
    "test_df.head()"
   ]
  },
  {
   "cell_type": "code",
   "execution_count": 70,
   "id": "weird-lexington",
   "metadata": {
    "execution": {
     "iopub.execute_input": "2021-05-19T14:08:24.283445Z",
     "iopub.status.busy": "2021-05-19T14:08:24.282785Z",
     "iopub.status.idle": "2021-05-19T14:08:24.285085Z",
     "shell.execute_reply": "2021-05-19T14:08:24.284701Z"
    },
    "papermill": {
     "duration": 0.107117,
     "end_time": "2021-05-19T14:08:24.285186",
     "exception": false,
     "start_time": "2021-05-19T14:08:24.178069",
     "status": "completed"
    },
    "tags": []
   },
   "outputs": [],
   "source": [
    "test_df['Age'] = np.log(test_df['Age'])\n",
    "test_df['Fare'] = np.log(test_df['Fare'])"
   ]
  },
  {
   "cell_type": "code",
   "execution_count": 71,
   "id": "exempt-toyota",
   "metadata": {
    "execution": {
     "iopub.execute_input": "2021-05-19T14:08:24.487582Z",
     "iopub.status.busy": "2021-05-19T14:08:24.485670Z",
     "iopub.status.idle": "2021-05-19T14:08:24.490531Z",
     "shell.execute_reply": "2021-05-19T14:08:24.490868Z"
    },
    "papermill": {
     "duration": 0.10742,
     "end_time": "2021-05-19T14:08:24.491029",
     "exception": false,
     "start_time": "2021-05-19T14:08:24.383609",
     "status": "completed"
    },
    "tags": []
   },
   "outputs": [
    {
     "data": {
      "text/plain": [
       "Pclass      0.708690\n",
       "Sex         0.231960\n",
       "Age         0.482596\n",
       "SibSp       0.804178\n",
       "Parch       0.963203\n",
       "Fare        0.973274\n",
       "Embarked    0.469932\n",
       "dtype: float64"
      ]
     },
     "execution_count": 71,
     "metadata": {},
     "output_type": "execute_result"
    }
   ],
   "source": [
    "test_df.var()"
   ]
  },
  {
   "cell_type": "code",
   "execution_count": 72,
   "id": "mysterious-convert",
   "metadata": {
    "execution": {
     "iopub.execute_input": "2021-05-19T14:08:24.696985Z",
     "iopub.status.busy": "2021-05-19T14:08:24.696440Z",
     "iopub.status.idle": "2021-05-19T14:08:24.700799Z",
     "shell.execute_reply": "2021-05-19T14:08:24.700398Z"
    },
    "papermill": {
     "duration": 0.111132,
     "end_time": "2021-05-19T14:08:24.700934",
     "exception": false,
     "start_time": "2021-05-19T14:08:24.589802",
     "status": "completed"
    },
    "tags": []
   },
   "outputs": [
    {
     "data": {
      "text/plain": [
       "Pclass      False\n",
       "Sex         False\n",
       "Age         False\n",
       "SibSp       False\n",
       "Parch       False\n",
       "Fare        False\n",
       "Embarked    False\n",
       "dtype: bool"
      ]
     },
     "execution_count": 72,
     "metadata": {},
     "output_type": "execute_result"
    }
   ],
   "source": [
    "test_df.isna().any()"
   ]
  },
  {
   "cell_type": "code",
   "execution_count": 73,
   "id": "circular-venue",
   "metadata": {
    "execution": {
     "iopub.execute_input": "2021-05-19T14:08:24.901650Z",
     "iopub.status.busy": "2021-05-19T14:08:24.901020Z",
     "iopub.status.idle": "2021-05-19T14:08:24.910365Z",
     "shell.execute_reply": "2021-05-19T14:08:24.910812Z"
    },
    "papermill": {
     "duration": 0.109853,
     "end_time": "2021-05-19T14:08:24.910949",
     "exception": false,
     "start_time": "2021-05-19T14:08:24.801096",
     "status": "completed"
    },
    "tags": []
   },
   "outputs": [
    {
     "data": {
      "text/html": [
       "<div>\n",
       "<style scoped>\n",
       "    .dataframe tbody tr th:only-of-type {\n",
       "        vertical-align: middle;\n",
       "    }\n",
       "\n",
       "    .dataframe tbody tr th {\n",
       "        vertical-align: top;\n",
       "    }\n",
       "\n",
       "    .dataframe thead th {\n",
       "        text-align: right;\n",
       "    }\n",
       "</style>\n",
       "<table border=\"1\" class=\"dataframe\">\n",
       "  <thead>\n",
       "    <tr style=\"text-align: right;\">\n",
       "      <th></th>\n",
       "      <th>Pclass</th>\n",
       "      <th>Sex</th>\n",
       "      <th>Age</th>\n",
       "      <th>SibSp</th>\n",
       "      <th>Parch</th>\n",
       "      <th>Fare</th>\n",
       "      <th>Embarked</th>\n",
       "    </tr>\n",
       "  </thead>\n",
       "  <tbody>\n",
       "    <tr>\n",
       "      <th>0</th>\n",
       "      <td>3</td>\n",
       "      <td>1</td>\n",
       "      <td>3.540959</td>\n",
       "      <td>0</td>\n",
       "      <td>0</td>\n",
       "      <td>2.057860</td>\n",
       "      <td>2</td>\n",
       "    </tr>\n",
       "    <tr>\n",
       "      <th>1</th>\n",
       "      <td>3</td>\n",
       "      <td>0</td>\n",
       "      <td>3.850148</td>\n",
       "      <td>1</td>\n",
       "      <td>0</td>\n",
       "      <td>1.945910</td>\n",
       "      <td>0</td>\n",
       "    </tr>\n",
       "    <tr>\n",
       "      <th>2</th>\n",
       "      <td>2</td>\n",
       "      <td>1</td>\n",
       "      <td>4.127134</td>\n",
       "      <td>0</td>\n",
       "      <td>0</td>\n",
       "      <td>2.270836</td>\n",
       "      <td>2</td>\n",
       "    </tr>\n",
       "    <tr>\n",
       "      <th>3</th>\n",
       "      <td>3</td>\n",
       "      <td>1</td>\n",
       "      <td>3.295837</td>\n",
       "      <td>0</td>\n",
       "      <td>0</td>\n",
       "      <td>2.159003</td>\n",
       "      <td>0</td>\n",
       "    </tr>\n",
       "    <tr>\n",
       "      <th>4</th>\n",
       "      <td>3</td>\n",
       "      <td>0</td>\n",
       "      <td>3.091042</td>\n",
       "      <td>1</td>\n",
       "      <td>1</td>\n",
       "      <td>2.508582</td>\n",
       "      <td>0</td>\n",
       "    </tr>\n",
       "  </tbody>\n",
       "</table>\n",
       "</div>"
      ],
      "text/plain": [
       "   Pclass  Sex       Age  SibSp  Parch      Fare  Embarked\n",
       "0       3    1  3.540959      0      0  2.057860         2\n",
       "1       3    0  3.850148      1      0  1.945910         0\n",
       "2       2    1  4.127134      0      0  2.270836         2\n",
       "3       3    1  3.295837      0      0  2.159003         0\n",
       "4       3    0  3.091042      1      1  2.508582         0"
      ]
     },
     "execution_count": 73,
     "metadata": {},
     "output_type": "execute_result"
    }
   ],
   "source": [
    "test_df.head()"
   ]
  },
  {
   "cell_type": "markdown",
   "id": "loving-diamond",
   "metadata": {
    "papermill": {
     "duration": 0.099006,
     "end_time": "2021-05-19T14:08:25.108933",
     "exception": false,
     "start_time": "2021-05-19T14:08:25.009927",
     "status": "completed"
    },
    "tags": []
   },
   "source": [
    "<p style = \"font-size : 20px; color : #34656d ; font-family : 'Comic Sans MS'; \"><strong>Now both training and test data is cleaned and preprocessed, let's start with model building.</strong></p> "
   ]
  },
  {
   "cell_type": "code",
   "execution_count": 74,
   "id": "arbitrary-external",
   "metadata": {
    "execution": {
     "iopub.execute_input": "2021-05-19T14:08:25.310340Z",
     "iopub.status.busy": "2021-05-19T14:08:25.309841Z",
     "iopub.status.idle": "2021-05-19T14:08:25.312407Z",
     "shell.execute_reply": "2021-05-19T14:08:25.312021Z"
    },
    "papermill": {
     "duration": 0.106042,
     "end_time": "2021-05-19T14:08:25.312510",
     "exception": false,
     "start_time": "2021-05-19T14:08:25.206468",
     "status": "completed"
    },
    "tags": []
   },
   "outputs": [],
   "source": [
    "# creating X and y\n",
    "\n",
    "X = train_df.drop('Survived', axis = 1)\n",
    "y = train_df['Survived']"
   ]
  },
  {
   "cell_type": "code",
   "execution_count": 75,
   "id": "ecological-honolulu",
   "metadata": {
    "execution": {
     "iopub.execute_input": "2021-05-19T14:08:25.514022Z",
     "iopub.status.busy": "2021-05-19T14:08:25.513575Z",
     "iopub.status.idle": "2021-05-19T14:08:25.883200Z",
     "shell.execute_reply": "2021-05-19T14:08:25.883570Z"
    },
    "papermill": {
     "duration": 0.471693,
     "end_time": "2021-05-19T14:08:25.883709",
     "exception": false,
     "start_time": "2021-05-19T14:08:25.412016",
     "status": "completed"
    },
    "tags": []
   },
   "outputs": [],
   "source": [
    "# splitting data intp training and test set\n",
    "\n",
    "from sklearn.model_selection import train_test_split\n",
    "\n",
    "X_train, X_test, y_train, y_test = train_test_split(X, y, test_size = 0.30, random_state = 0)"
   ]
  },
  {
   "cell_type": "markdown",
   "id": "adolescent-township",
   "metadata": {
    "papermill": {
     "duration": 0.099773,
     "end_time": "2021-05-19T14:08:26.084073",
     "exception": false,
     "start_time": "2021-05-19T14:08:25.984300",
     "status": "completed"
    },
    "tags": []
   },
   "source": [
    "<a id = '5.0'></a>\n",
    "<p style = \"font-size : 35px; color : #34656d ; font-family : 'Comic Sans MS'; text-align : center; background-color : #f9b208; border-radius: 5px 5px;\"><strong> Models</strong></p> "
   ]
  },
  {
   "cell_type": "markdown",
   "id": "mounted-windows",
   "metadata": {
    "papermill": {
     "duration": 0.099202,
     "end_time": "2021-05-19T14:08:26.283145",
     "exception": false,
     "start_time": "2021-05-19T14:08:26.183943",
     "status": "completed"
    },
    "tags": []
   },
   "source": [
    "<a id = '5.1'></a>\n",
    "<p style = \"font-size : 25px; color : #34656d ; font-family : 'Comic Sans MS'; text-align : center; background-color : #fbc6a4; border-radius: 5px 5px;\"><strong>Logistic Regression</strong></p> "
   ]
  },
  {
   "cell_type": "code",
   "execution_count": 76,
   "id": "gross-scotland",
   "metadata": {
    "execution": {
     "iopub.execute_input": "2021-05-19T14:08:26.486843Z",
     "iopub.status.busy": "2021-05-19T14:08:26.486406Z",
     "iopub.status.idle": "2021-05-19T14:08:26.616797Z",
     "shell.execute_reply": "2021-05-19T14:08:26.616355Z"
    },
    "papermill": {
     "duration": 0.2332,
     "end_time": "2021-05-19T14:08:26.616918",
     "exception": false,
     "start_time": "2021-05-19T14:08:26.383718",
     "status": "completed"
    },
    "tags": []
   },
   "outputs": [
    {
     "name": "stdout",
     "output_type": "stream",
     "text": [
      "Training Accuracy of Logistic Regression is 0.8105939004815409\n",
      "Test Accuracy of Logistic Regression is 0.8134328358208955\n",
      "Confusion Matrix :- \n",
      " [[145  23]\n",
      " [ 27  73]]\n",
      "Classofocation Report : -\n",
      "               precision    recall  f1-score   support\n",
      "\n",
      "           0       0.84      0.86      0.85       168\n",
      "           1       0.76      0.73      0.74       100\n",
      "\n",
      "    accuracy                           0.81       268\n",
      "   macro avg       0.80      0.80      0.80       268\n",
      "weighted avg       0.81      0.81      0.81       268\n",
      "\n"
     ]
    }
   ],
   "source": [
    "from sklearn.linear_model import LogisticRegression\n",
    "\n",
    "lr = LogisticRegression()\n",
    "lr.fit(X_train, y_train)\n",
    "\n",
    "# accuracy score, confusion matrix and classification report of logistic regression\n",
    "\n",
    "from sklearn.metrics import accuracy_score, confusion_matrix, classification_report\n",
    "\n",
    "lr_acc = accuracy_score(y_test, lr.predict(X_test))\n",
    "\n",
    "print(f\"Training Accuracy of Logistic Regression is {accuracy_score(y_train, lr.predict(X_train))}\")\n",
    "print(f\"Test Accuracy of Logistic Regression is {lr_acc}\")\n",
    "\n",
    "print(f\"Confusion Matrix :- \\n {confusion_matrix(y_test, lr.predict(X_test))}\")\n",
    "print(f\"Classofocation Report : -\\n {classification_report(y_test, lr.predict(X_test))}\")"
   ]
  },
  {
   "cell_type": "code",
   "execution_count": 77,
   "id": "casual-orientation",
   "metadata": {
    "execution": {
     "iopub.execute_input": "2021-05-19T14:08:26.822702Z",
     "iopub.status.busy": "2021-05-19T14:08:26.822115Z",
     "iopub.status.idle": "2021-05-19T14:08:28.570110Z",
     "shell.execute_reply": "2021-05-19T14:08:28.569687Z"
    },
    "papermill": {
     "duration": 1.853953,
     "end_time": "2021-05-19T14:08:28.570217",
     "exception": false,
     "start_time": "2021-05-19T14:08:26.716264",
     "status": "completed"
    },
    "tags": []
   },
   "outputs": [
    {
     "name": "stdout",
     "output_type": "stream",
     "text": [
      "Fitting 5 folds for each of 14 candidates, totalling 70 fits\n"
     ]
    },
    {
     "data": {
      "text/plain": [
       "GridSearchCV(cv=5, estimator=LogisticRegression(), n_jobs=-1,\n",
       "             param_grid={'C': [0.001, 0.01, 0.1, 0.005, 0.5, 1, 10],\n",
       "                         'penalty': ['l1', 'l2']},\n",
       "             verbose=1)"
      ]
     },
     "execution_count": 77,
     "metadata": {},
     "output_type": "execute_result"
    }
   ],
   "source": [
    "# hyper parameter tuning of logistic regression\n",
    "\n",
    "from sklearn.model_selection import GridSearchCV\n",
    "\n",
    "grid_param = {\n",
    "    'penalty': ['l1', 'l2'],\n",
    "    'C' : [0.001, 0.01, 0.1, 0.005, 0.5, 1, 10]\n",
    "}\n",
    "\n",
    "grid_search_lr = GridSearchCV(lr, grid_param, cv = 5, n_jobs = -1, verbose = 1)\n",
    "grid_search_lr.fit(X_train, y_train)"
   ]
  },
  {
   "cell_type": "code",
   "execution_count": 78,
   "id": "motivated-control",
   "metadata": {
    "execution": {
     "iopub.execute_input": "2021-05-19T14:08:28.777354Z",
     "iopub.status.busy": "2021-05-19T14:08:28.776665Z",
     "iopub.status.idle": "2021-05-19T14:08:28.780007Z",
     "shell.execute_reply": "2021-05-19T14:08:28.779604Z"
    },
    "papermill": {
     "duration": 0.109751,
     "end_time": "2021-05-19T14:08:28.780116",
     "exception": false,
     "start_time": "2021-05-19T14:08:28.670365",
     "status": "completed"
    },
    "tags": []
   },
   "outputs": [
    {
     "name": "stdout",
     "output_type": "stream",
     "text": [
      "{'C': 0.1, 'penalty': 'l2'}\n",
      "0.8138451612903227\n"
     ]
    }
   ],
   "source": [
    "# best parameters and best score\n",
    "\n",
    "print(grid_search_lr.best_params_)\n",
    "print(grid_search_lr.best_score_)"
   ]
  },
  {
   "cell_type": "code",
   "execution_count": 79,
   "id": "spiritual-puppy",
   "metadata": {
    "execution": {
     "iopub.execute_input": "2021-05-19T14:08:28.990744Z",
     "iopub.status.busy": "2021-05-19T14:08:28.988940Z",
     "iopub.status.idle": "2021-05-19T14:08:29.002490Z",
     "shell.execute_reply": "2021-05-19T14:08:29.002118Z"
    },
    "papermill": {
     "duration": 0.12053,
     "end_time": "2021-05-19T14:08:29.002595",
     "exception": false,
     "start_time": "2021-05-19T14:08:28.882065",
     "status": "completed"
    },
    "tags": []
   },
   "outputs": [
    {
     "name": "stdout",
     "output_type": "stream",
     "text": [
      "Training Accuracy of Logistic Regression is 0.8105939004815409\n",
      "Test Accuracy of Logistic Regression is 0.8171641791044776\n",
      "Confusion Matrix :- \n",
      " [[149  19]\n",
      " [ 30  70]]\n",
      "Classofocation Report : -\n",
      "               precision    recall  f1-score   support\n",
      "\n",
      "           0       0.83      0.89      0.86       168\n",
      "           1       0.79      0.70      0.74       100\n",
      "\n",
      "    accuracy                           0.82       268\n",
      "   macro avg       0.81      0.79      0.80       268\n",
      "weighted avg       0.82      0.82      0.81       268\n",
      "\n"
     ]
    }
   ],
   "source": [
    "# best estimator\n",
    "\n",
    "lr = grid_search_lr.best_estimator_\n",
    "\n",
    "# accuracy score, confusion matrix and classification report of logistic regression\n",
    "\n",
    "lr_acc = accuracy_score(y_test, lr.predict(X_test))\n",
    "\n",
    "print(f\"Training Accuracy of Logistic Regression is {accuracy_score(y_train, lr.predict(X_train))}\")\n",
    "print(f\"Test Accuracy of Logistic Regression is {lr_acc}\")\n",
    "\n",
    "print(f\"Confusion Matrix :- \\n {confusion_matrix(y_test, lr.predict(X_test))}\")\n",
    "print(f\"Classofocation Report : -\\n {classification_report(y_test, lr.predict(X_test))}\")"
   ]
  },
  {
   "cell_type": "markdown",
   "id": "resistant-worst",
   "metadata": {
    "papermill": {
     "duration": 0.101534,
     "end_time": "2021-05-19T14:08:29.205370",
     "exception": false,
     "start_time": "2021-05-19T14:08:29.103836",
     "status": "completed"
    },
    "tags": []
   },
   "source": [
    "<a id = '5.2'></a>\n",
    "<p style = \"font-size : 25px; color : #34656d ; font-family : 'Comic Sans MS'; text-align : center; background-color : #fbc6a4; border-radius: 5px 5px;\"><strong>KNN</strong></p> "
   ]
  },
  {
   "cell_type": "code",
   "execution_count": 80,
   "id": "exciting-consequence",
   "metadata": {
    "execution": {
     "iopub.execute_input": "2021-05-19T14:08:29.412730Z",
     "iopub.status.busy": "2021-05-19T14:08:29.412286Z",
     "iopub.status.idle": "2021-05-19T14:08:29.573128Z",
     "shell.execute_reply": "2021-05-19T14:08:29.572709Z"
    },
    "papermill": {
     "duration": 0.265892,
     "end_time": "2021-05-19T14:08:29.573238",
     "exception": false,
     "start_time": "2021-05-19T14:08:29.307346",
     "status": "completed"
    },
    "tags": []
   },
   "outputs": [
    {
     "name": "stdout",
     "output_type": "stream",
     "text": [
      "Training Accuracy of KNN is 0.8635634028892456\n",
      "Test Accuracy of KNN is 0.7910447761194029 \n",
      "\n",
      "Confusion Matrix :- \n",
      "[[140  28]\n",
      " [ 28  72]]\n",
      "\n",
      "Classification Report :- \n",
      "               precision    recall  f1-score   support\n",
      "\n",
      "           0       0.83      0.83      0.83       168\n",
      "           1       0.72      0.72      0.72       100\n",
      "\n",
      "    accuracy                           0.79       268\n",
      "   macro avg       0.78      0.78      0.78       268\n",
      "weighted avg       0.79      0.79      0.79       268\n",
      "\n"
     ]
    }
   ],
   "source": [
    "from sklearn.neighbors import KNeighborsClassifier\n",
    "\n",
    "knn = KNeighborsClassifier()\n",
    "knn.fit(X_train, y_train)\n",
    "\n",
    "# accuracy score, confusion matrix and classification report of knn\n",
    "\n",
    "knn_acc = accuracy_score(y_test, knn.predict(X_test))\n",
    "\n",
    "print(f\"Training Accuracy of KNN is {accuracy_score(y_train, knn.predict(X_train))}\")\n",
    "print(f\"Test Accuracy of KNN is {knn_acc} \\n\")\n",
    "\n",
    "print(f\"Confusion Matrix :- \\n{confusion_matrix(y_test, knn.predict(X_test))}\\n\")\n",
    "print(f\"Classification Report :- \\n {classification_report(y_test, knn.predict(X_test))}\")"
   ]
  },
  {
   "cell_type": "markdown",
   "id": "accompanied-glossary",
   "metadata": {
    "papermill": {
     "duration": 0.102748,
     "end_time": "2021-05-19T14:08:29.778972",
     "exception": false,
     "start_time": "2021-05-19T14:08:29.676224",
     "status": "completed"
    },
    "tags": []
   },
   "source": [
    "<a id = '5.3'></a>\n",
    "<p style = \"font-size : 25px; color : #34656d ; font-family : 'Comic Sans MS'; text-align : center; background-color : #fbc6a4; border-radius: 5px 5px;\"><strong>Decision Tree Classifier</strong></p> "
   ]
  },
  {
   "cell_type": "code",
   "execution_count": 81,
   "id": "removable-marsh",
   "metadata": {
    "execution": {
     "iopub.execute_input": "2021-05-19T14:08:29.983781Z",
     "iopub.status.busy": "2021-05-19T14:08:29.983332Z",
     "iopub.status.idle": "2021-05-19T14:08:30.043178Z",
     "shell.execute_reply": "2021-05-19T14:08:30.042743Z"
    },
    "papermill": {
     "duration": 0.162693,
     "end_time": "2021-05-19T14:08:30.043279",
     "exception": false,
     "start_time": "2021-05-19T14:08:29.880586",
     "status": "completed"
    },
    "tags": []
   },
   "outputs": [
    {
     "name": "stdout",
     "output_type": "stream",
     "text": [
      "Training Accuracy of Decision Tree Classifier is 0.9791332263242376\n",
      "Test Accuracy of Decision Tree Classifier is 0.7761194029850746 \n",
      "\n",
      "Confusion Matrix :- \n",
      "[[139  29]\n",
      " [ 31  69]]\n",
      "\n",
      "Classification Report :- \n",
      "               precision    recall  f1-score   support\n",
      "\n",
      "           0       0.82      0.83      0.82       168\n",
      "           1       0.70      0.69      0.70       100\n",
      "\n",
      "    accuracy                           0.78       268\n",
      "   macro avg       0.76      0.76      0.76       268\n",
      "weighted avg       0.78      0.78      0.78       268\n",
      "\n"
     ]
    }
   ],
   "source": [
    "from sklearn.tree import DecisionTreeClassifier\n",
    "\n",
    "dtc = DecisionTreeClassifier()\n",
    "dtc.fit(X_train, y_train)\n",
    "\n",
    "# accuracy score, confusion matrix and classification report of decision tree\n",
    "\n",
    "dtc_acc = accuracy_score(y_test, dtc.predict(X_test))\n",
    "\n",
    "print(f\"Training Accuracy of Decision Tree Classifier is {accuracy_score(y_train, dtc.predict(X_train))}\")\n",
    "print(f\"Test Accuracy of Decision Tree Classifier is {dtc_acc} \\n\")\n",
    "\n",
    "print(f\"Confusion Matrix :- \\n{confusion_matrix(y_test, dtc.predict(X_test))}\\n\")\n",
    "print(f\"Classification Report :- \\n {classification_report(y_test, dtc.predict(X_test))}\")"
   ]
  },
  {
   "cell_type": "code",
   "execution_count": 82,
   "id": "friendly-growth",
   "metadata": {
    "execution": {
     "iopub.execute_input": "2021-05-19T14:08:30.254701Z",
     "iopub.status.busy": "2021-05-19T14:08:30.254266Z",
     "iopub.status.idle": "2021-05-19T14:08:40.575907Z",
     "shell.execute_reply": "2021-05-19T14:08:40.575479Z"
    },
    "papermill": {
     "duration": 10.430982,
     "end_time": "2021-05-19T14:08:40.576029",
     "exception": false,
     "start_time": "2021-05-19T14:08:30.145047",
     "status": "completed"
    },
    "tags": []
   },
   "outputs": [
    {
     "name": "stdout",
     "output_type": "stream",
     "text": [
      "Fitting 5 folds for each of 1200 candidates, totalling 6000 fits\n"
     ]
    },
    {
     "data": {
      "text/plain": [
       "GridSearchCV(cv=5, estimator=DecisionTreeClassifier(), n_jobs=-1,\n",
       "             param_grid={'criterion': ['gini', 'entropy'],\n",
       "                         'max_depth': [3, 5, 7, 10],\n",
       "                         'max_features': ['auto', 'sqrt', 'log2'],\n",
       "                         'min_samples_leaf': [1, 2, 3, 5, 7],\n",
       "                         'min_samples_split': [1, 2, 3, 5, 7],\n",
       "                         'splitter': ['best', 'random']},\n",
       "             verbose=1)"
      ]
     },
     "execution_count": 82,
     "metadata": {},
     "output_type": "execute_result"
    }
   ],
   "source": [
    "# hyper parameter tuning of decision tree \n",
    "\n",
    "grid_param = {\n",
    "    'criterion' : ['gini', 'entropy'],\n",
    "    'max_depth' : [3, 5, 7, 10],\n",
    "    'splitter' : ['best', 'random'],\n",
    "    'min_samples_leaf' : [1, 2, 3, 5, 7],\n",
    "    'min_samples_split' : [1, 2, 3, 5, 7],\n",
    "    'max_features' : ['auto', 'sqrt', 'log2']\n",
    "}\n",
    "\n",
    "grid_search_dtc = GridSearchCV(dtc, grid_param, cv = 5, n_jobs = -1, verbose = 1)\n",
    "grid_search_dtc.fit(X_train, y_train)"
   ]
  },
  {
   "cell_type": "code",
   "execution_count": 83,
   "id": "mighty-welding",
   "metadata": {
    "execution": {
     "iopub.execute_input": "2021-05-19T14:08:40.788211Z",
     "iopub.status.busy": "2021-05-19T14:08:40.787626Z",
     "iopub.status.idle": "2021-05-19T14:08:40.790697Z",
     "shell.execute_reply": "2021-05-19T14:08:40.791077Z"
    },
    "papermill": {
     "duration": 0.112373,
     "end_time": "2021-05-19T14:08:40.791207",
     "exception": false,
     "start_time": "2021-05-19T14:08:40.678834",
     "status": "completed"
    },
    "tags": []
   },
   "outputs": [
    {
     "name": "stdout",
     "output_type": "stream",
     "text": [
      "{'criterion': 'entropy', 'max_depth': 5, 'max_features': 'log2', 'min_samples_leaf': 3, 'min_samples_split': 7, 'splitter': 'best'}\n",
      "0.8218580645161289\n"
     ]
    }
   ],
   "source": [
    "# best parameters and best score\n",
    "\n",
    "print(grid_search_dtc.best_params_)\n",
    "print(grid_search_dtc.best_score_)"
   ]
  },
  {
   "cell_type": "code",
   "execution_count": 84,
   "id": "driving-dispute",
   "metadata": {
    "execution": {
     "iopub.execute_input": "2021-05-19T14:08:41.004052Z",
     "iopub.status.busy": "2021-05-19T14:08:41.003553Z",
     "iopub.status.idle": "2021-05-19T14:08:41.020504Z",
     "shell.execute_reply": "2021-05-19T14:08:41.021028Z"
    },
    "papermill": {
     "duration": 0.127156,
     "end_time": "2021-05-19T14:08:41.021190",
     "exception": false,
     "start_time": "2021-05-19T14:08:40.894034",
     "status": "completed"
    },
    "tags": []
   },
   "outputs": [
    {
     "name": "stdout",
     "output_type": "stream",
     "text": [
      "Training Accuracy of Decision Tree Classifier is 0.8234349919743178\n",
      "Test Accuracy of Decision Tree Classifier is 0.7873134328358209 \n",
      "\n",
      "Confusion Matrix :- \n",
      "[[152  16]\n",
      " [ 41  59]]\n",
      "\n",
      "Classification Report :- \n",
      "               precision    recall  f1-score   support\n",
      "\n",
      "           0       0.79      0.90      0.84       168\n",
      "           1       0.79      0.59      0.67       100\n",
      "\n",
      "    accuracy                           0.79       268\n",
      "   macro avg       0.79      0.75      0.76       268\n",
      "weighted avg       0.79      0.79      0.78       268\n",
      "\n"
     ]
    }
   ],
   "source": [
    "# best estimator\n",
    "\n",
    "dtc = grid_search_dtc.best_estimator_\n",
    "\n",
    "# accuracy score, confusion matrix and classification report of decision tree\n",
    "\n",
    "dtc_acc = accuracy_score(y_test, dtc.predict(X_test))\n",
    "\n",
    "print(f\"Training Accuracy of Decision Tree Classifier is {accuracy_score(y_train, dtc.predict(X_train))}\")\n",
    "print(f\"Test Accuracy of Decision Tree Classifier is {dtc_acc} \\n\")\n",
    "\n",
    "print(f\"Confusion Matrix :- \\n{confusion_matrix(y_test, dtc.predict(X_test))}\\n\")\n",
    "print(f\"Classification Report :- \\n {classification_report(y_test, dtc.predict(X_test))}\")"
   ]
  },
  {
   "cell_type": "markdown",
   "id": "parliamentary-constitution",
   "metadata": {
    "papermill": {
     "duration": 0.153113,
     "end_time": "2021-05-19T14:08:41.327013",
     "exception": false,
     "start_time": "2021-05-19T14:08:41.173900",
     "status": "completed"
    },
    "tags": []
   },
   "source": [
    "<a id = '5.4'></a>\n",
    "<p style = \"font-size : 25px; color : #34656d ; font-family : 'Comic Sans MS'; text-align : center; background-color : #fbc6a4; border-radius: 5px 5px;\"><strong>Random Forest Classifier</strong></p>"
   ]
  },
  {
   "cell_type": "code",
   "execution_count": 85,
   "id": "dangerous-price",
   "metadata": {
    "execution": {
     "iopub.execute_input": "2021-05-19T14:08:41.642248Z",
     "iopub.status.busy": "2021-05-19T14:08:41.641568Z",
     "iopub.status.idle": "2021-05-19T14:08:41.971499Z",
     "shell.execute_reply": "2021-05-19T14:08:41.970991Z"
    },
    "papermill": {
     "duration": 0.489435,
     "end_time": "2021-05-19T14:08:41.971628",
     "exception": false,
     "start_time": "2021-05-19T14:08:41.482193",
     "status": "completed"
    },
    "tags": []
   },
   "outputs": [
    {
     "name": "stdout",
     "output_type": "stream",
     "text": [
      "Training Accuracy of Decision Tree Classifier is 0.9791332263242376\n",
      "Test Accuracy of Decision Tree Classifier is 0.8208955223880597 \n",
      "\n",
      "Confusion Matrix :- \n",
      "[[145  23]\n",
      " [ 25  75]]\n",
      "\n",
      "Classification Report :- \n",
      "               precision    recall  f1-score   support\n",
      "\n",
      "           0       0.85      0.86      0.86       168\n",
      "           1       0.77      0.75      0.76       100\n",
      "\n",
      "    accuracy                           0.82       268\n",
      "   macro avg       0.81      0.81      0.81       268\n",
      "weighted avg       0.82      0.82      0.82       268\n",
      "\n"
     ]
    }
   ],
   "source": [
    "from sklearn.ensemble import RandomForestClassifier\n",
    "\n",
    "rd_clf = RandomForestClassifier()\n",
    "rd_clf.fit(X_train, y_train)\n",
    "\n",
    "# accuracy score, confusion matrix and classification report of random forest\n",
    "\n",
    "rd_clf_acc = accuracy_score(y_test, rd_clf.predict(X_test))\n",
    "\n",
    "print(f\"Training Accuracy of Decision Tree Classifier is {accuracy_score(y_train, rd_clf.predict(X_train))}\")\n",
    "print(f\"Test Accuracy of Decision Tree Classifier is {rd_clf_acc} \\n\")\n",
    "\n",
    "print(f\"Confusion Matrix :- \\n{confusion_matrix(y_test, rd_clf.predict(X_test))}\\n\")\n",
    "print(f\"Classification Report :- \\n {classification_report(y_test, rd_clf.predict(X_test))}\")"
   ]
  },
  {
   "cell_type": "markdown",
   "id": "composite-cassette",
   "metadata": {
    "papermill": {
     "duration": 0.155178,
     "end_time": "2021-05-19T14:08:42.281999",
     "exception": false,
     "start_time": "2021-05-19T14:08:42.126821",
     "status": "completed"
    },
    "tags": []
   },
   "source": [
    "<a id = '5.5'></a>\n",
    "<p style = \"font-size : 25px; color : #34656d ; font-family : 'Comic Sans MS'; text-align : center; background-color : #fbc6a4; border-radius: 5px 5px;\"><strong>Ada Boost Classifier</strong></p>"
   ]
  },
  {
   "cell_type": "code",
   "execution_count": 86,
   "id": "humanitarian-supplier",
   "metadata": {
    "execution": {
     "iopub.execute_input": "2021-05-19T14:08:42.612109Z",
     "iopub.status.busy": "2021-05-19T14:08:42.611238Z",
     "iopub.status.idle": "2021-05-19T14:08:42.740711Z",
     "shell.execute_reply": "2021-05-19T14:08:42.741253Z"
    },
    "papermill": {
     "duration": 0.304576,
     "end_time": "2021-05-19T14:08:42.741402",
     "exception": false,
     "start_time": "2021-05-19T14:08:42.436826",
     "status": "completed"
    },
    "tags": []
   },
   "outputs": [
    {
     "name": "stdout",
     "output_type": "stream",
     "text": [
      "Training Accuracy of Decision Tree Classifier is 0.9791332263242376\n",
      "Test Accuracy of Decision Tree Classifier is 0.8134328358208955 \n",
      "\n",
      "Confusion Matrix :- \n",
      "[[148  20]\n",
      " [ 30  70]]\n",
      "\n",
      "Classification Report :- \n",
      "               precision    recall  f1-score   support\n",
      "\n",
      "           0       0.83      0.88      0.86       168\n",
      "           1       0.78      0.70      0.74       100\n",
      "\n",
      "    accuracy                           0.81       268\n",
      "   macro avg       0.80      0.79      0.80       268\n",
      "weighted avg       0.81      0.81      0.81       268\n",
      "\n"
     ]
    }
   ],
   "source": [
    "from sklearn.ensemble import AdaBoostClassifier\n",
    "\n",
    "ada = AdaBoostClassifier(base_estimator = dtc)\n",
    "ada.fit(X_train, y_train)\n",
    "\n",
    "# accuracy score, confusion matrix and classification report of ada boost\n",
    "\n",
    "ada_acc = accuracy_score(y_test, ada.predict(X_test))\n",
    "\n",
    "print(f\"Training Accuracy of Decision Tree Classifier is {accuracy_score(y_train, ada.predict(X_train))}\")\n",
    "print(f\"Test Accuracy of Decision Tree Classifier is {ada_acc} \\n\")\n",
    "\n",
    "print(f\"Confusion Matrix :- \\n{confusion_matrix(y_test, ada.predict(X_test))}\\n\")\n",
    "print(f\"Classification Report :- \\n {classification_report(y_test, ada.predict(X_test))}\")"
   ]
  },
  {
   "cell_type": "code",
   "execution_count": 87,
   "id": "cooperative-charter",
   "metadata": {
    "execution": {
     "iopub.execute_input": "2021-05-19T14:08:43.056631Z",
     "iopub.status.busy": "2021-05-19T14:08:43.055813Z",
     "iopub.status.idle": "2021-05-19T14:08:58.780527Z",
     "shell.execute_reply": "2021-05-19T14:08:58.779969Z"
    },
    "papermill": {
     "duration": 15.88416,
     "end_time": "2021-05-19T14:08:58.780652",
     "exception": false,
     "start_time": "2021-05-19T14:08:42.896492",
     "status": "completed"
    },
    "tags": []
   },
   "outputs": [
    {
     "name": "stdout",
     "output_type": "stream",
     "text": [
      "Fitting 5 folds for each of 40 candidates, totalling 200 fits\n"
     ]
    },
    {
     "data": {
      "text/plain": [
       "GridSearchCV(cv=5,\n",
       "             estimator=AdaBoostClassifier(base_estimator=DecisionTreeClassifier(criterion='entropy',\n",
       "                                                                                max_depth=5,\n",
       "                                                                                max_features='log2',\n",
       "                                                                                min_samples_leaf=3,\n",
       "                                                                                min_samples_split=7)),\n",
       "             n_jobs=-1,\n",
       "             param_grid={'algorithm': ['SAMME', 'SAMME.R'],\n",
       "                         'learning_rate': [0.01, 0.1, 1, 10],\n",
       "                         'n_estimators': [100, 120, 150, 180, 200]},\n",
       "             verbose=1)"
      ]
     },
     "execution_count": 87,
     "metadata": {},
     "output_type": "execute_result"
    }
   ],
   "source": [
    "# hyper parameter tuning ada boost\n",
    "\n",
    "grid_param = {\n",
    "    'n_estimators' : [100, 120, 150, 180, 200],\n",
    "    'learning_rate' : [0.01, 0.1, 1, 10],\n",
    "    'algorithm' : ['SAMME', 'SAMME.R']\n",
    "}\n",
    "\n",
    "grid_search_ada = GridSearchCV(ada, grid_param, cv = 5, n_jobs = -1, verbose = 1)\n",
    "grid_search_ada.fit(X_train, y_train)"
   ]
  },
  {
   "cell_type": "code",
   "execution_count": 88,
   "id": "frozen-dating",
   "metadata": {
    "execution": {
     "iopub.execute_input": "2021-05-19T14:08:59.095618Z",
     "iopub.status.busy": "2021-05-19T14:08:59.094931Z",
     "iopub.status.idle": "2021-05-19T14:08:59.098836Z",
     "shell.execute_reply": "2021-05-19T14:08:59.098256Z"
    },
    "papermill": {
     "duration": 0.162589,
     "end_time": "2021-05-19T14:08:59.098984",
     "exception": false,
     "start_time": "2021-05-19T14:08:58.936395",
     "status": "completed"
    },
    "tags": []
   },
   "outputs": [
    {
     "name": "stdout",
     "output_type": "stream",
     "text": [
      "{'algorithm': 'SAMME.R', 'learning_rate': 0.01, 'n_estimators': 100}\n",
      "0.8282709677419355\n"
     ]
    }
   ],
   "source": [
    "# best parameter and best score\n",
    "\n",
    "print(grid_search_ada.best_params_)\n",
    "print(grid_search_ada.best_score_)"
   ]
  },
  {
   "cell_type": "code",
   "execution_count": 89,
   "id": "meaningful-twins",
   "metadata": {
    "execution": {
     "iopub.execute_input": "2021-05-19T14:08:59.416556Z",
     "iopub.status.busy": "2021-05-19T14:08:59.415706Z",
     "iopub.status.idle": "2021-05-19T14:08:59.500342Z",
     "shell.execute_reply": "2021-05-19T14:08:59.499945Z"
    },
    "papermill": {
     "duration": 0.246159,
     "end_time": "2021-05-19T14:08:59.500463",
     "exception": false,
     "start_time": "2021-05-19T14:08:59.254304",
     "status": "completed"
    },
    "tags": []
   },
   "outputs": [
    {
     "name": "stdout",
     "output_type": "stream",
     "text": [
      "Training Accuracy of Decision Tree Classifier is 0.9165329052969502\n",
      "Test Accuracy of Decision Tree Classifier is 0.8097014925373134 \n",
      "\n",
      "Confusion Matrix :- \n",
      "[[148  20]\n",
      " [ 31  69]]\n",
      "\n",
      "Classification Report :- \n",
      "               precision    recall  f1-score   support\n",
      "\n",
      "           0       0.83      0.88      0.85       168\n",
      "           1       0.78      0.69      0.73       100\n",
      "\n",
      "    accuracy                           0.81       268\n",
      "   macro avg       0.80      0.79      0.79       268\n",
      "weighted avg       0.81      0.81      0.81       268\n",
      "\n"
     ]
    }
   ],
   "source": [
    "ada = grid_search_ada.best_estimator_\n",
    "\n",
    "# accuracy score, confusion matrix and classification report of ada boost\n",
    "\n",
    "ada_acc = accuracy_score(y_test, ada.predict(X_test))\n",
    "\n",
    "print(f\"Training Accuracy of Decision Tree Classifier is {accuracy_score(y_train, ada.predict(X_train))}\")\n",
    "print(f\"Test Accuracy of Decision Tree Classifier is {ada_acc} \\n\")\n",
    "\n",
    "print(f\"Confusion Matrix :- \\n{confusion_matrix(y_test, ada.predict(X_test))}\\n\")\n",
    "print(f\"Classification Report :- \\n {classification_report(y_test, ada.predict(X_test))}\")"
   ]
  },
  {
   "cell_type": "markdown",
   "id": "vulnerable-prediction",
   "metadata": {
    "papermill": {
     "duration": 0.097421,
     "end_time": "2021-05-19T14:08:59.699400",
     "exception": false,
     "start_time": "2021-05-19T14:08:59.601979",
     "status": "completed"
    },
    "tags": []
   },
   "source": [
    "<a id = '5.6'></a>\n",
    "<p style = \"font-size : 25px; color : #34656d ; font-family : 'Comic Sans MS'; text-align : center; background-color : #fbc6a4; border-radius: 5px 5px;\"><strong>Gradient Boosting Classifier</strong></p>"
   ]
  },
  {
   "cell_type": "code",
   "execution_count": 90,
   "id": "mounted-smell",
   "metadata": {
    "execution": {
     "iopub.execute_input": "2021-05-19T14:08:59.901067Z",
     "iopub.status.busy": "2021-05-19T14:08:59.900604Z",
     "iopub.status.idle": "2021-05-19T14:08:59.997423Z",
     "shell.execute_reply": "2021-05-19T14:08:59.997079Z"
    },
    "papermill": {
     "duration": 0.199501,
     "end_time": "2021-05-19T14:08:59.997521",
     "exception": false,
     "start_time": "2021-05-19T14:08:59.798020",
     "status": "completed"
    },
    "tags": []
   },
   "outputs": [
    {
     "name": "stdout",
     "output_type": "stream",
     "text": [
      "Training Accuracy of Decision Tree Classifier is 0.9085072231139647\n",
      "Test Accuracy of Decision Tree Classifier is 0.8395522388059702 \n",
      "\n",
      "Confusion Matrix :- \n",
      "[[153  15]\n",
      " [ 28  72]]\n",
      "\n",
      "Classification Report :- \n",
      "               precision    recall  f1-score   support\n",
      "\n",
      "           0       0.85      0.91      0.88       168\n",
      "           1       0.83      0.72      0.77       100\n",
      "\n",
      "    accuracy                           0.84       268\n",
      "   macro avg       0.84      0.82      0.82       268\n",
      "weighted avg       0.84      0.84      0.84       268\n",
      "\n"
     ]
    }
   ],
   "source": [
    "from sklearn.ensemble import GradientBoostingClassifier\n",
    "\n",
    "gb = GradientBoostingClassifier()\n",
    "gb.fit(X_train, y_train)\n",
    "\n",
    "# accuracy score, confusion matrix and classification report of gradient boosting classifier\n",
    "\n",
    "gb_acc = accuracy_score(y_test, gb.predict(X_test))\n",
    "\n",
    "print(f\"Training Accuracy of Decision Tree Classifier is {accuracy_score(y_train, gb.predict(X_train))}\")\n",
    "print(f\"Test Accuracy of Decision Tree Classifier is {gb_acc} \\n\")\n",
    "\n",
    "print(f\"Confusion Matrix :- \\n{confusion_matrix(y_test, gb.predict(X_test))}\\n\")\n",
    "print(f\"Classification Report :- \\n {classification_report(y_test, gb.predict(X_test))}\")"
   ]
  },
  {
   "cell_type": "markdown",
   "id": "sonic-cliff",
   "metadata": {
    "papermill": {
     "duration": 0.097718,
     "end_time": "2021-05-19T14:09:00.193371",
     "exception": false,
     "start_time": "2021-05-19T14:09:00.095653",
     "status": "completed"
    },
    "tags": []
   },
   "source": [
    "<a id = '5.7'></a>\n",
    "<p style = \"font-size : 25px; color : #34656d ; font-family : 'Comic Sans MS'; text-align : center; background-color : #fbc6a4; border-radius: 5px 5px;\"><strong>Stochastic Gradient Boosting (SGB)</strong></p>"
   ]
  },
  {
   "cell_type": "code",
   "execution_count": 91,
   "id": "stunning-dream",
   "metadata": {
    "execution": {
     "iopub.execute_input": "2021-05-19T14:09:00.399307Z",
     "iopub.status.busy": "2021-05-19T14:09:00.398815Z",
     "iopub.status.idle": "2021-05-19T14:09:00.493810Z",
     "shell.execute_reply": "2021-05-19T14:09:00.493418Z"
    },
    "papermill": {
     "duration": 0.202453,
     "end_time": "2021-05-19T14:09:00.493927",
     "exception": false,
     "start_time": "2021-05-19T14:09:00.291474",
     "status": "completed"
    },
    "tags": []
   },
   "outputs": [
    {
     "name": "stdout",
     "output_type": "stream",
     "text": [
      "Training Accuracy of Decision Tree Classifier is 0.9020866773675762\n",
      "Test Accuracy of Decision Tree Classifier is 0.832089552238806 \n",
      "\n",
      "Confusion Matrix :- \n",
      "[[150  18]\n",
      " [ 27  73]]\n",
      "\n",
      "Classification Report :- \n",
      "               precision    recall  f1-score   support\n",
      "\n",
      "           0       0.85      0.89      0.87       168\n",
      "           1       0.80      0.73      0.76       100\n",
      "\n",
      "    accuracy                           0.83       268\n",
      "   macro avg       0.82      0.81      0.82       268\n",
      "weighted avg       0.83      0.83      0.83       268\n",
      "\n"
     ]
    }
   ],
   "source": [
    "sgb = GradientBoostingClassifier(subsample = 0.90, max_features = 0.70)\n",
    "sgb.fit(X_train, y_train)\n",
    "\n",
    "# accuracy score, confusion matrix and classification report of stochastic gradient boosting classifier\n",
    "\n",
    "sgb_acc = accuracy_score(y_test, sgb.predict(X_test))\n",
    "\n",
    "print(f\"Training Accuracy of Decision Tree Classifier is {accuracy_score(y_train, sgb.predict(X_train))}\")\n",
    "print(f\"Test Accuracy of Decision Tree Classifier is {sgb_acc} \\n\")\n",
    "\n",
    "print(f\"Confusion Matrix :- \\n{confusion_matrix(y_test, sgb.predict(X_test))}\\n\")\n",
    "print(f\"Classification Report :- \\n {classification_report(y_test, sgb.predict(X_test))}\")"
   ]
  },
  {
   "cell_type": "markdown",
   "id": "intended-karma",
   "metadata": {
    "papermill": {
     "duration": 0.107703,
     "end_time": "2021-05-19T14:09:00.706867",
     "exception": false,
     "start_time": "2021-05-19T14:09:00.599164",
     "status": "completed"
    },
    "tags": []
   },
   "source": [
    "<a id = '5.8'></a>\n",
    "<p style = \"font-size : 25px; color : #34656d ; font-family : 'Comic Sans MS'; text-align : center; background-color : #fbc6a4; border-radius: 5px 5px;\"><strong>XgBoost</strong></p>"
   ]
  },
  {
   "cell_type": "code",
   "execution_count": 92,
   "id": "employed-expansion",
   "metadata": {
    "execution": {
     "iopub.execute_input": "2021-05-19T14:09:00.931572Z",
     "iopub.status.busy": "2021-05-19T14:09:00.931140Z",
     "iopub.status.idle": "2021-05-19T14:09:01.173931Z",
     "shell.execute_reply": "2021-05-19T14:09:01.174459Z"
    },
    "papermill": {
     "duration": 0.361064,
     "end_time": "2021-05-19T14:09:01.174641",
     "exception": false,
     "start_time": "2021-05-19T14:09:00.813577",
     "status": "completed"
    },
    "tags": []
   },
   "outputs": [
    {
     "name": "stdout",
     "output_type": "stream",
     "text": [
      "[14:09:01] WARNING: ../src/learner.cc:1095: Starting in XGBoost 1.3.0, the default evaluation metric used with the objective 'binary:logistic' was changed from 'error' to 'logloss'. Explicitly set eval_metric if you'd like to restore the old behavior.\n",
      "Training Accuracy of Decision Tree Classifier is 0.9454253611556982\n",
      "Test Accuracy of Decision Tree Classifier is 0.8246268656716418 \n",
      "\n",
      "Confusion Matrix :- \n",
      "[[147  21]\n",
      " [ 26  74]]\n",
      "\n",
      "Classification Report :- \n",
      "               precision    recall  f1-score   support\n",
      "\n",
      "           0       0.85      0.88      0.86       168\n",
      "           1       0.78      0.74      0.76       100\n",
      "\n",
      "    accuracy                           0.82       268\n",
      "   macro avg       0.81      0.81      0.81       268\n",
      "weighted avg       0.82      0.82      0.82       268\n",
      "\n"
     ]
    }
   ],
   "source": [
    "from xgboost import XGBClassifier\n",
    "\n",
    "xgb = XGBClassifier(booster = 'gbtree', learning_rate = 0.1, max_depth = 5, n_estimators = 180)\n",
    "xgb.fit(X_train, y_train)\n",
    "\n",
    "# accuracy score, confusion matrix and classification report of xgboost\n",
    "\n",
    "xgb_acc = accuracy_score(y_test, xgb.predict(X_test))\n",
    "\n",
    "print(f\"Training Accuracy of Decision Tree Classifier is {accuracy_score(y_train, xgb.predict(X_train))}\")\n",
    "print(f\"Test Accuracy of Decision Tree Classifier is {xgb_acc} \\n\")\n",
    "\n",
    "print(f\"Confusion Matrix :- \\n{confusion_matrix(y_test, xgb.predict(X_test))}\\n\")\n",
    "print(f\"Classification Report :- \\n {classification_report(y_test, xgb.predict(X_test))}\")"
   ]
  },
  {
   "cell_type": "markdown",
   "id": "conservative-response",
   "metadata": {
    "papermill": {
     "duration": 0.158409,
     "end_time": "2021-05-19T14:09:01.493449",
     "exception": false,
     "start_time": "2021-05-19T14:09:01.335040",
     "status": "completed"
    },
    "tags": []
   },
   "source": [
    "<a id = '5.9'></a>\n",
    "<p style = \"font-size : 25px; color : #34656d ; font-family : 'Comic Sans MS'; text-align : center; background-color : #fbc6a4; border-radius: 5px 5px;\"><strong>Cat Boost Classifier</strong></p>"
   ]
  },
  {
   "cell_type": "code",
   "execution_count": 93,
   "id": "massive-toddler",
   "metadata": {
    "execution": {
     "iopub.execute_input": "2021-05-19T14:09:01.812127Z",
     "iopub.status.busy": "2021-05-19T14:09:01.811527Z",
     "iopub.status.idle": "2021-05-19T14:09:02.099677Z",
     "shell.execute_reply": "2021-05-19T14:09:02.098652Z"
    },
    "papermill": {
     "duration": 0.448605,
     "end_time": "2021-05-19T14:09:02.099835",
     "exception": false,
     "start_time": "2021-05-19T14:09:01.651230",
     "status": "completed"
    },
    "tags": []
   },
   "outputs": [
    {
     "name": "stdout",
     "output_type": "stream",
     "text": [
      "Learning rate set to 0.5\n",
      "0:\tlearn: 0.5341764\ttotal: 52.5ms\tremaining: 472ms\n",
      "1:\tlearn: 0.4757017\ttotal: 53.4ms\tremaining: 214ms\n",
      "2:\tlearn: 0.4559155\ttotal: 53.8ms\tremaining: 126ms\n",
      "3:\tlearn: 0.4340902\ttotal: 54.5ms\tremaining: 81.7ms\n",
      "4:\tlearn: 0.4182171\ttotal: 55.1ms\tremaining: 55.1ms\n",
      "5:\tlearn: 0.4158036\ttotal: 55.6ms\tremaining: 37.1ms\n",
      "6:\tlearn: 0.4073782\ttotal: 56.5ms\tremaining: 24.2ms\n",
      "7:\tlearn: 0.3987480\ttotal: 57.1ms\tremaining: 14.3ms\n",
      "8:\tlearn: 0.3975229\ttotal: 57.6ms\tremaining: 6.4ms\n",
      "9:\tlearn: 0.3939771\ttotal: 58.3ms\tremaining: 0us\n"
     ]
    },
    {
     "data": {
      "text/plain": [
       "<catboost.core.CatBoostClassifier at 0x7fe2d4643ed0>"
      ]
     },
     "execution_count": 93,
     "metadata": {},
     "output_type": "execute_result"
    }
   ],
   "source": [
    "from catboost import CatBoostClassifier\n",
    "\n",
    "cat = CatBoostClassifier(iterations=10)\n",
    "cat.fit(X_train, y_train)"
   ]
  },
  {
   "cell_type": "code",
   "execution_count": 94,
   "id": "altered-precipitation",
   "metadata": {
    "execution": {
     "iopub.execute_input": "2021-05-19T14:09:02.427225Z",
     "iopub.status.busy": "2021-05-19T14:09:02.426722Z",
     "iopub.status.idle": "2021-05-19T14:09:02.442224Z",
     "shell.execute_reply": "2021-05-19T14:09:02.441813Z"
    },
    "papermill": {
     "duration": 0.18161,
     "end_time": "2021-05-19T14:09:02.442331",
     "exception": false,
     "start_time": "2021-05-19T14:09:02.260721",
     "status": "completed"
    },
    "tags": []
   },
   "outputs": [
    {
     "name": "stdout",
     "output_type": "stream",
     "text": [
      "Training Accuracy of Decision Tree Classifier is 0.8491171749598716\n",
      "Test Accuracy of Decision Tree Classifier is 0.835820895522388 \n",
      "\n",
      "Confusion Matrix :- \n",
      "[[152  16]\n",
      " [ 28  72]]\n",
      "\n",
      "Classification Report :- \n",
      "               precision    recall  f1-score   support\n",
      "\n",
      "           0       0.84      0.90      0.87       168\n",
      "           1       0.82      0.72      0.77       100\n",
      "\n",
      "    accuracy                           0.84       268\n",
      "   macro avg       0.83      0.81      0.82       268\n",
      "weighted avg       0.83      0.84      0.83       268\n",
      "\n"
     ]
    }
   ],
   "source": [
    "# accuracy score, confusion matrix and classification report of cat boost\n",
    "\n",
    "cat_acc = accuracy_score(y_test, cat.predict(X_test))\n",
    "\n",
    "print(f\"Training Accuracy of Decision Tree Classifier is {accuracy_score(y_train, cat.predict(X_train))}\")\n",
    "print(f\"Test Accuracy of Decision Tree Classifier is {cat_acc} \\n\")\n",
    "\n",
    "print(f\"Confusion Matrix :- \\n{confusion_matrix(y_test, cat.predict(X_test))}\\n\")\n",
    "print(f\"Classification Report :- \\n {classification_report(y_test, cat.predict(X_test))}\")"
   ]
  },
  {
   "cell_type": "markdown",
   "id": "specific-toolbox",
   "metadata": {
    "papermill": {
     "duration": 0.108258,
     "end_time": "2021-05-19T14:09:02.659779",
     "exception": false,
     "start_time": "2021-05-19T14:09:02.551521",
     "status": "completed"
    },
    "tags": []
   },
   "source": [
    "<a id = '5.10'></a>\n",
    "<p style = \"font-size : 25px; color : #34656d ; font-family : 'Comic Sans MS'; text-align : center; background-color : #fbc6a4; border-radius: 5px 5px;\"><strong>Extra Trees Classifier</strong></p>"
   ]
  },
  {
   "cell_type": "code",
   "execution_count": 95,
   "id": "middle-promotion",
   "metadata": {
    "execution": {
     "iopub.execute_input": "2021-05-19T14:09:02.886066Z",
     "iopub.status.busy": "2021-05-19T14:09:02.885400Z",
     "iopub.status.idle": "2021-05-19T14:09:03.152814Z",
     "shell.execute_reply": "2021-05-19T14:09:03.153169Z"
    },
    "papermill": {
     "duration": 0.385509,
     "end_time": "2021-05-19T14:09:03.153302",
     "exception": false,
     "start_time": "2021-05-19T14:09:02.767793",
     "status": "completed"
    },
    "tags": []
   },
   "outputs": [
    {
     "name": "stdout",
     "output_type": "stream",
     "text": [
      "Training Accuracy of Decision Tree Classifier is 0.9791332263242376\n",
      "Test Accuracy of Decision Tree Classifier is 0.8208955223880597 \n",
      "\n",
      "Confusion Matrix :- \n",
      "[[149  19]\n",
      " [ 29  71]]\n",
      "\n",
      "Classification Report :- \n",
      "               precision    recall  f1-score   support\n",
      "\n",
      "           0       0.84      0.89      0.86       168\n",
      "           1       0.79      0.71      0.75       100\n",
      "\n",
      "    accuracy                           0.82       268\n",
      "   macro avg       0.81      0.80      0.80       268\n",
      "weighted avg       0.82      0.82      0.82       268\n",
      "\n"
     ]
    }
   ],
   "source": [
    "from sklearn.ensemble import ExtraTreesClassifier\n",
    "\n",
    "etc = ExtraTreesClassifier()\n",
    "etc.fit(X_train, y_train)\n",
    "\n",
    "# accuracy score, confusion matrix and classification report of extra trees classifier\n",
    "\n",
    "etc_acc = accuracy_score(y_test, etc.predict(X_test))\n",
    "\n",
    "print(f\"Training Accuracy of Decision Tree Classifier is {accuracy_score(y_train, etc.predict(X_train))}\")\n",
    "print(f\"Test Accuracy of Decision Tree Classifier is {etc_acc} \\n\")\n",
    "\n",
    "print(f\"Confusion Matrix :- \\n{confusion_matrix(y_test, etc.predict(X_test))}\\n\")\n",
    "print(f\"Classification Report :- \\n {classification_report(y_test, etc.predict(X_test))}\")"
   ]
  },
  {
   "cell_type": "markdown",
   "id": "parental-psychiatry",
   "metadata": {
    "papermill": {
     "duration": 0.107034,
     "end_time": "2021-05-19T14:09:03.365981",
     "exception": false,
     "start_time": "2021-05-19T14:09:03.258947",
     "status": "completed"
    },
    "tags": []
   },
   "source": [
    "<a id = '5.11'></a>\n",
    "<p style = \"font-size : 25px; color : #34656d ; font-family : 'Comic Sans MS'; text-align : center; background-color : #fbc6a4; border-radius: 5px 5px;\"><strong>LGBM Classifier</strong></p>"
   ]
  },
  {
   "cell_type": "code",
   "execution_count": 96,
   "id": "british-dealing",
   "metadata": {
    "execution": {
     "iopub.execute_input": "2021-05-19T14:09:03.586267Z",
     "iopub.status.busy": "2021-05-19T14:09:03.585798Z",
     "iopub.status.idle": "2021-05-19T14:09:04.768868Z",
     "shell.execute_reply": "2021-05-19T14:09:04.769302Z"
    },
    "papermill": {
     "duration": 1.296505,
     "end_time": "2021-05-19T14:09:04.769445",
     "exception": false,
     "start_time": "2021-05-19T14:09:03.472940",
     "status": "completed"
    },
    "tags": []
   },
   "outputs": [
    {
     "data": {
      "text/html": [
       "<style type='text/css'>\n",
       ".datatable table.frame { margin-bottom: 0; }\n",
       ".datatable table.frame thead { border-bottom: none; }\n",
       ".datatable table.frame tr.coltypes td {  color: #FFFFFF;  line-height: 6px;  padding: 0 0.5em;}\n",
       ".datatable .bool    { background: #DDDD99; }\n",
       ".datatable .object  { background: #565656; }\n",
       ".datatable .int     { background: #5D9E5D; }\n",
       ".datatable .float   { background: #4040CC; }\n",
       ".datatable .str     { background: #CC4040; }\n",
       ".datatable .row_index {  background: var(--jp-border-color3);  border-right: 1px solid var(--jp-border-color0);  color: var(--jp-ui-font-color3);  font-size: 9px;}\n",
       ".datatable .frame tr.coltypes .row_index {  background: var(--jp-border-color0);}\n",
       ".datatable th:nth-child(2) { padding-left: 12px; }\n",
       ".datatable .hellipsis {  color: var(--jp-cell-editor-border-color);}\n",
       ".datatable .vellipsis {  background: var(--jp-layout-color0);  color: var(--jp-cell-editor-border-color);}\n",
       ".datatable .na {  color: var(--jp-cell-editor-border-color);  font-size: 80%;}\n",
       ".datatable .footer { font-size: 9px; }\n",
       ".datatable .frame_dimensions {  background: var(--jp-border-color3);  border-top: 1px solid var(--jp-border-color0);  color: var(--jp-ui-font-color3);  display: inline-block;  opacity: 0.6;  padding: 1px 10px 1px 5px;}\n",
       "</style>\n"
      ],
      "text/plain": [
       "<IPython.core.display.HTML object>"
      ]
     },
     "metadata": {},
     "output_type": "display_data"
    },
    {
     "name": "stdout",
     "output_type": "stream",
     "text": [
      "Training Accuracy of Decision Tree Classifier is 0.9759229534510433\n",
      "Test Accuracy of Decision Tree Classifier is 0.8134328358208955 \n",
      "\n",
      "[[147  21]\n",
      " [ 29  71]]\n",
      "\n",
      "              precision    recall  f1-score   support\n",
      "\n",
      "           0       0.84      0.88      0.85       168\n",
      "           1       0.77      0.71      0.74       100\n",
      "\n",
      "    accuracy                           0.81       268\n",
      "   macro avg       0.80      0.79      0.80       268\n",
      "weighted avg       0.81      0.81      0.81       268\n",
      "\n"
     ]
    }
   ],
   "source": [
    "from lightgbm import LGBMClassifier\n",
    "\n",
    "lgbm = LGBMClassifier(learning_rate = 1)\n",
    "lgbm.fit(X_train, y_train)\n",
    "\n",
    "# accuracy score, confusion matrix and classification report of lgbm classifier\n",
    "\n",
    "lgbm_acc = accuracy_score(y_test, lgbm.predict(X_test))\n",
    "\n",
    "print(f\"Training Accuracy of Decision Tree Classifier is {accuracy_score(y_train, lgbm.predict(X_train))}\")\n",
    "print(f\"Test Accuracy of Decision Tree Classifier is {lgbm_acc} \\n\")\n",
    "\n",
    "print(f\"{confusion_matrix(y_test, lgbm.predict(X_test))}\\n\")\n",
    "print(classification_report(y_test, lgbm.predict(X_test)))"
   ]
  },
  {
   "cell_type": "markdown",
   "id": "leading-editing",
   "metadata": {
    "papermill": {
     "duration": 0.10746,
     "end_time": "2021-05-19T14:09:04.985411",
     "exception": false,
     "start_time": "2021-05-19T14:09:04.877951",
     "status": "completed"
    },
    "tags": []
   },
   "source": [
    "<a id = '5.12'></a>\n",
    "<p style = \"font-size : 25px; color : #34656d ; font-family : 'Comic Sans MS'; text-align : center; background-color : #fbc6a4; border-radius: 5px 5px;\"><strong>Voting Classifier</strong></p>"
   ]
  },
  {
   "cell_type": "code",
   "execution_count": 97,
   "id": "solved-deficit",
   "metadata": {
    "execution": {
     "iopub.execute_input": "2021-05-19T14:09:05.209496Z",
     "iopub.status.busy": "2021-05-19T14:09:05.209001Z",
     "iopub.status.idle": "2021-05-19T14:09:06.139651Z",
     "shell.execute_reply": "2021-05-19T14:09:06.139236Z"
    },
    "papermill": {
     "duration": 1.04694,
     "end_time": "2021-05-19T14:09:06.139763",
     "exception": false,
     "start_time": "2021-05-19T14:09:05.092823",
     "status": "completed"
    },
    "tags": []
   },
   "outputs": [
    {
     "name": "stdout",
     "output_type": "stream",
     "text": [
      "Learning rate set to 0.5\n",
      "0:\tlearn: 0.5341764\ttotal: 681us\tremaining: 6.13ms\n",
      "1:\tlearn: 0.4757017\ttotal: 1.59ms\tremaining: 6.36ms\n",
      "2:\tlearn: 0.4559155\ttotal: 2.1ms\tremaining: 4.91ms\n",
      "3:\tlearn: 0.4340902\ttotal: 2.79ms\tremaining: 4.18ms\n",
      "4:\tlearn: 0.4182171\ttotal: 3.49ms\tremaining: 3.49ms\n",
      "5:\tlearn: 0.4158036\ttotal: 4.18ms\tremaining: 2.79ms\n",
      "6:\tlearn: 0.4073782\ttotal: 4.92ms\tremaining: 2.11ms\n",
      "7:\tlearn: 0.3987480\ttotal: 5.57ms\tremaining: 1.39ms\n",
      "8:\tlearn: 0.3975229\ttotal: 6ms\tremaining: 666us\n",
      "9:\tlearn: 0.3939771\ttotal: 6.65ms\tremaining: 0us\n",
      "[14:09:05] WARNING: ../src/learner.cc:1095: Starting in XGBoost 1.3.0, the default evaluation metric used with the objective 'binary:logistic' was changed from 'error' to 'logloss'. Explicitly set eval_metric if you'd like to restore the old behavior.\n"
     ]
    },
    {
     "data": {
      "text/plain": [
       "VotingClassifier(estimators=[('Gradient Boosting Classifier',\n",
       "                              GradientBoostingClassifier()),\n",
       "                             ('Stochastic Gradient Boosting',\n",
       "                              GradientBoostingClassifier(max_features=0.7,\n",
       "                                                         subsample=0.9)),\n",
       "                             ('Cat Boost Classifier',\n",
       "                              <catboost.core.CatBoostClassifier object at 0x7fe2d4643ed0>),\n",
       "                             ('XGboost',\n",
       "                              XGBClassifier(base_score=0.5, booster='gbtree',\n",
       "                                            colsample_bylevel=1,\n",
       "                                            colsample_byno...\n",
       "                             ('Extra Tree', ExtraTreesClassifier()),\n",
       "                             ('Light Gradient',\n",
       "                              LGBMClassifier(learning_rate=1)),\n",
       "                             ('Random Forest', RandomForestClassifier()),\n",
       "                             ('Ada Boost',\n",
       "                              AdaBoostClassifier(base_estimator=DecisionTreeClassifier(criterion='entropy',\n",
       "                                                                                       max_depth=5,\n",
       "                                                                                       max_features='log2',\n",
       "                                                                                       min_samples_leaf=3,\n",
       "                                                                                       min_samples_split=7),\n",
       "                                                 learning_rate=0.01,\n",
       "                                                 n_estimators=100)),\n",
       "                             ('Logistic', LogisticRegression(C=0.1))])"
      ]
     },
     "execution_count": 97,
     "metadata": {},
     "output_type": "execute_result"
    }
   ],
   "source": [
    "from sklearn.ensemble import VotingClassifier\n",
    "\n",
    "classifiers = [('Gradient Boosting Classifier', gb), ('Stochastic Gradient Boosting', sgb),  ('Cat Boost Classifier', cat), \n",
    "               ('XGboost', xgb),  ('Decision Tree', dtc), ('Extra Tree', etc), ('Light Gradient', lgbm),\n",
    "               ('Random Forest', rd_clf), ('Ada Boost', ada), ('Logistic', lr)]\n",
    "vc = VotingClassifier(estimators = classifiers)\n",
    "vc.fit(X_train, y_train)"
   ]
  },
  {
   "cell_type": "code",
   "execution_count": 98,
   "id": "martial-controversy",
   "metadata": {
    "execution": {
     "iopub.execute_input": "2021-05-19T14:09:06.366280Z",
     "iopub.status.busy": "2021-05-19T14:09:06.365774Z",
     "iopub.status.idle": "2021-05-19T14:09:06.696487Z",
     "shell.execute_reply": "2021-05-19T14:09:06.695999Z"
    },
    "papermill": {
     "duration": 0.447835,
     "end_time": "2021-05-19T14:09:06.696591",
     "exception": false,
     "start_time": "2021-05-19T14:09:06.248756",
     "status": "completed"
    },
    "tags": []
   },
   "outputs": [
    {
     "name": "stdout",
     "output_type": "stream",
     "text": [
      "Training Accuracy of Decision Tree Classifier is 0.9229534510433387\n",
      "Test Accuracy of Decision Tree Classifier is 0.832089552238806 \n",
      "\n",
      "[[152  16]\n",
      " [ 29  71]]\n",
      "\n",
      "              precision    recall  f1-score   support\n",
      "\n",
      "           0       0.84      0.90      0.87       168\n",
      "           1       0.82      0.71      0.76       100\n",
      "\n",
      "    accuracy                           0.83       268\n",
      "   macro avg       0.83      0.81      0.82       268\n",
      "weighted avg       0.83      0.83      0.83       268\n",
      "\n"
     ]
    }
   ],
   "source": [
    "# accuracy score, confusion matrix and classification report of voting classifier\n",
    "\n",
    "vc_acc = accuracy_score(y_test, vc.predict(X_test))\n",
    "\n",
    "print(f\"Training Accuracy of Decision Tree Classifier is {accuracy_score(y_train, vc.predict(X_train))}\")\n",
    "print(f\"Test Accuracy of Decision Tree Classifier is {vc_acc} \\n\")\n",
    "\n",
    "print(f\"{confusion_matrix(y_test, vc.predict(X_test))}\\n\")\n",
    "print(classification_report(y_test, vc.predict(X_test)))"
   ]
  },
  {
   "cell_type": "markdown",
   "id": "cross-tourism",
   "metadata": {
    "papermill": {
     "duration": 0.108607,
     "end_time": "2021-05-19T14:09:06.914940",
     "exception": false,
     "start_time": "2021-05-19T14:09:06.806333",
     "status": "completed"
    },
    "tags": []
   },
   "source": [
    "<a id = '6.0'></a>\n",
    "<p style = \"font-size : 35px; color : #34656d ; font-family : 'Comic Sans MS'; text-align : center; background-color : #f9b208; border-radius: 5px 5px;\"><strong> Models Comparison</strong></p> "
   ]
  },
  {
   "cell_type": "code",
   "execution_count": 99,
   "id": "certain-accessory",
   "metadata": {
    "execution": {
     "iopub.execute_input": "2021-05-19T14:09:07.140641Z",
     "iopub.status.busy": "2021-05-19T14:09:07.140186Z",
     "iopub.status.idle": "2021-05-19T14:09:07.145890Z",
     "shell.execute_reply": "2021-05-19T14:09:07.145469Z"
    },
    "papermill": {
     "duration": 0.122396,
     "end_time": "2021-05-19T14:09:07.146007",
     "exception": false,
     "start_time": "2021-05-19T14:09:07.023611",
     "status": "completed"
    },
    "tags": []
   },
   "outputs": [
    {
     "data": {
      "text/html": [
       "<div>\n",
       "<style scoped>\n",
       "    .dataframe tbody tr th:only-of-type {\n",
       "        vertical-align: middle;\n",
       "    }\n",
       "\n",
       "    .dataframe tbody tr th {\n",
       "        vertical-align: top;\n",
       "    }\n",
       "\n",
       "    .dataframe thead th {\n",
       "        text-align: right;\n",
       "    }\n",
       "</style>\n",
       "<table border=\"1\" class=\"dataframe\">\n",
       "  <thead>\n",
       "    <tr style=\"text-align: right;\">\n",
       "      <th></th>\n",
       "      <th>Model</th>\n",
       "      <th>Score</th>\n",
       "    </tr>\n",
       "  </thead>\n",
       "  <tbody>\n",
       "    <tr>\n",
       "      <th>5</th>\n",
       "      <td>Gradient Boosting Classifier</td>\n",
       "      <td>0.839552</td>\n",
       "    </tr>\n",
       "    <tr>\n",
       "      <th>8</th>\n",
       "      <td>Cat Boost</td>\n",
       "      <td>0.835821</td>\n",
       "    </tr>\n",
       "    <tr>\n",
       "      <th>6</th>\n",
       "      <td>Stochastic Gradient Boosting</td>\n",
       "      <td>0.832090</td>\n",
       "    </tr>\n",
       "    <tr>\n",
       "      <th>10</th>\n",
       "      <td>Voting Classifier</td>\n",
       "      <td>0.832090</td>\n",
       "    </tr>\n",
       "    <tr>\n",
       "      <th>7</th>\n",
       "      <td>XgBoost</td>\n",
       "      <td>0.824627</td>\n",
       "    </tr>\n",
       "    <tr>\n",
       "      <th>3</th>\n",
       "      <td>Random Forest Classifier</td>\n",
       "      <td>0.820896</td>\n",
       "    </tr>\n",
       "    <tr>\n",
       "      <th>9</th>\n",
       "      <td>Extra Trees Classifier</td>\n",
       "      <td>0.820896</td>\n",
       "    </tr>\n",
       "    <tr>\n",
       "      <th>0</th>\n",
       "      <td>Logistic Regression</td>\n",
       "      <td>0.817164</td>\n",
       "    </tr>\n",
       "    <tr>\n",
       "      <th>4</th>\n",
       "      <td>Ada Boost Classifier</td>\n",
       "      <td>0.809701</td>\n",
       "    </tr>\n",
       "    <tr>\n",
       "      <th>1</th>\n",
       "      <td>KNN</td>\n",
       "      <td>0.791045</td>\n",
       "    </tr>\n",
       "    <tr>\n",
       "      <th>2</th>\n",
       "      <td>Decision Tree Classifier</td>\n",
       "      <td>0.787313</td>\n",
       "    </tr>\n",
       "  </tbody>\n",
       "</table>\n",
       "</div>"
      ],
      "text/plain": [
       "                           Model     Score\n",
       "5   Gradient Boosting Classifier  0.839552\n",
       "8                      Cat Boost  0.835821\n",
       "6   Stochastic Gradient Boosting  0.832090\n",
       "10             Voting Classifier  0.832090\n",
       "7                        XgBoost  0.824627\n",
       "3       Random Forest Classifier  0.820896\n",
       "9         Extra Trees Classifier  0.820896\n",
       "0            Logistic Regression  0.817164\n",
       "4           Ada Boost Classifier  0.809701\n",
       "1                            KNN  0.791045\n",
       "2       Decision Tree Classifier  0.787313"
      ]
     },
     "execution_count": 99,
     "metadata": {},
     "output_type": "execute_result"
    }
   ],
   "source": [
    "models = pd.DataFrame({\n",
    "    'Model' : ['Logistic Regression', 'KNN', 'Decision Tree Classifier', 'Random Forest Classifier','Ada Boost Classifier',\n",
    "             'Gradient Boosting Classifier', 'Stochastic Gradient Boosting', 'XgBoost', 'Cat Boost', 'Extra Trees Classifier', 'Voting Classifier'],\n",
    "    'Score' : [lr_acc, knn_acc, dtc_acc, rd_clf_acc, ada_acc, gb_acc, sgb_acc, xgb_acc, cat_acc, etc_acc, vc_acc]\n",
    "})\n",
    "\n",
    "\n",
    "models.sort_values(by = 'Score', ascending = False)"
   ]
  },
  {
   "cell_type": "code",
   "execution_count": 100,
   "id": "optimum-handling",
   "metadata": {
    "execution": {
     "iopub.execute_input": "2021-05-19T14:09:07.379088Z",
     "iopub.status.busy": "2021-05-19T14:09:07.378391Z",
     "iopub.status.idle": "2021-05-19T14:09:07.625087Z",
     "shell.execute_reply": "2021-05-19T14:09:07.624605Z"
    },
    "papermill": {
     "duration": 0.366988,
     "end_time": "2021-05-19T14:09:07.625188",
     "exception": false,
     "start_time": "2021-05-19T14:09:07.258200",
     "status": "completed"
    },
    "tags": []
   },
   "outputs": [
    {
     "data": {
      "image/png": "[encoded data removed]",
      "text/plain": [
       "<Figure size 1080x720 with 1 Axes>"
      ]
     },
     "metadata": {},
     "output_type": "display_data"
    }
   ],
   "source": [
    "plt.figure(figsize = (15, 10))\n",
    "\n",
    "sns.barplot(x = 'Score', y = 'Model', data = models)\n",
    "plt.show()"
   ]
  },
  {
   "cell_type": "code",
   "execution_count": 101,
   "id": "artistic-credit",
   "metadata": {
    "execution": {
     "iopub.execute_input": "2021-05-19T14:09:07.856585Z",
     "iopub.status.busy": "2021-05-19T14:09:07.856120Z",
     "iopub.status.idle": "2021-05-19T14:09:07.872193Z",
     "shell.execute_reply": "2021-05-19T14:09:07.871614Z"
    },
    "papermill": {
     "duration": 0.134038,
     "end_time": "2021-05-19T14:09:07.872330",
     "exception": false,
     "start_time": "2021-05-19T14:09:07.738292",
     "status": "completed"
    },
    "tags": []
   },
   "outputs": [],
   "source": [
    "final_prediction = sgb.predict(test_df)\n",
    "prediction = pd.DataFrame(final_prediction)\n",
    "submission = pd.read_csv('../input/titanic/gender_submission.csv')\n",
    "submission['Survived'] = prediction\n",
    "submission.to_csv('Submission.csv', index = False)"
   ]
  },
  {
   "cell_type": "markdown",
   "id": "executive-implement",
   "metadata": {
    "papermill": {
     "duration": 0.166379,
     "end_time": "2021-05-19T14:09:08.207799",
     "exception": false,
     "start_time": "2021-05-19T14:09:08.041420",
     "status": "completed"
    },
    "tags": []
   },
   "source": [
    "<p style = \"font-size : 25px; color : #f55c47 ; font-family : 'Comic Sans MS'; \"><strong>If you like my work, please do Upvote.</strong></p> "
   ]
  }
 ],
 "metadata": {
  "kernelspec": {
   "display_name": "Python 3",
   "language": "python",
   "name": "python3"
  },
  "language_info": {
   "codemirror_mode": {
    "name": "ipython",
    "version": 3
   },
   "file_extension": ".py",
   "mimetype": "text/x-python",
   "name": "python",
   "nbconvert_exporter": "python",
   "pygments_lexer": "ipython3",
   "version": "3.7.10"
  },
  "papermill": {
   "default_parameters": {},
   "duration": 81.080472,
   "end_time": "2021-05-19T14:09:09.666398",
   "environment_variables": {},
   "exception": null,
   "input_path": "__notebook__.ipynb",
   "output_path": "__notebook__.ipynb",
   "parameters": {},
   "start_time": "2021-05-19T14:07:48.585926",
   "version": "2.3.3"
  }
 },
 "nbformat": 4,
 "nbformat_minor": 5
}
